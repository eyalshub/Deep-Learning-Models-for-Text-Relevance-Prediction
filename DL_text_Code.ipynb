{
  "nbformat": 4,
  "nbformat_minor": 0,
  "metadata": {
    "colab": {
      "provenance": [],
      "machine_shape": "hm",
      "gpuType": "T4"
    },
    "kernelspec": {
      "name": "python3",
      "display_name": "Python 3"
    },
    "language_info": {
      "name": "python"
    },
    "widgets": {
      "application/vnd.jupyter.widget-state+json": {
        "af2e1a208dac4d359a96bea57c54c2c1": {
          "model_module": "@jupyter-widgets/controls",
          "model_name": "HBoxModel",
          "model_module_version": "1.5.0",
          "state": {
            "_dom_classes": [],
            "_model_module": "@jupyter-widgets/controls",
            "_model_module_version": "1.5.0",
            "_model_name": "HBoxModel",
            "_view_count": null,
            "_view_module": "@jupyter-widgets/controls",
            "_view_module_version": "1.5.0",
            "_view_name": "HBoxView",
            "box_style": "",
            "children": [
              "IPY_MODEL_e90744a8ab994574a83d48a2eef4cabf",
              "IPY_MODEL_2889c56547134b248c6527cd5311c653",
              "IPY_MODEL_35ad9659754d4a02a50476727bbc6c1c"
            ],
            "layout": "IPY_MODEL_a767891cd86e482eac00b3b07e9670a4"
          }
        },
        "e90744a8ab994574a83d48a2eef4cabf": {
          "model_module": "@jupyter-widgets/controls",
          "model_name": "HTMLModel",
          "model_module_version": "1.5.0",
          "state": {
            "_dom_classes": [],
            "_model_module": "@jupyter-widgets/controls",
            "_model_module_version": "1.5.0",
            "_model_name": "HTMLModel",
            "_view_count": null,
            "_view_module": "@jupyter-widgets/controls",
            "_view_module_version": "1.5.0",
            "_view_name": "HTMLView",
            "description": "",
            "description_tooltip": null,
            "layout": "IPY_MODEL_548ee29f5ab340f7acf6da48bc3a1a9a",
            "placeholder": "​",
            "style": "IPY_MODEL_acb295c0b4cd498b89cdb44585f87253",
            "value": "config.json: 100%"
          }
        },
        "2889c56547134b248c6527cd5311c653": {
          "model_module": "@jupyter-widgets/controls",
          "model_name": "FloatProgressModel",
          "model_module_version": "1.5.0",
          "state": {
            "_dom_classes": [],
            "_model_module": "@jupyter-widgets/controls",
            "_model_module_version": "1.5.0",
            "_model_name": "FloatProgressModel",
            "_view_count": null,
            "_view_module": "@jupyter-widgets/controls",
            "_view_module_version": "1.5.0",
            "_view_name": "ProgressView",
            "bar_style": "success",
            "description": "",
            "description_tooltip": null,
            "layout": "IPY_MODEL_60f328a31cb54cb292d0bdcba12991ee",
            "max": 570,
            "min": 0,
            "orientation": "horizontal",
            "style": "IPY_MODEL_1e35af8abe554046a3cad9b9b48d86b0",
            "value": 570
          }
        },
        "35ad9659754d4a02a50476727bbc6c1c": {
          "model_module": "@jupyter-widgets/controls",
          "model_name": "HTMLModel",
          "model_module_version": "1.5.0",
          "state": {
            "_dom_classes": [],
            "_model_module": "@jupyter-widgets/controls",
            "_model_module_version": "1.5.0",
            "_model_name": "HTMLModel",
            "_view_count": null,
            "_view_module": "@jupyter-widgets/controls",
            "_view_module_version": "1.5.0",
            "_view_name": "HTMLView",
            "description": "",
            "description_tooltip": null,
            "layout": "IPY_MODEL_801ab7f33b474350a5d15347a2d910cc",
            "placeholder": "​",
            "style": "IPY_MODEL_520e4dd20e704b5891ba3bf54084a5d7",
            "value": " 570/570 [00:00&lt;00:00, 38.4kB/s]"
          }
        },
        "a767891cd86e482eac00b3b07e9670a4": {
          "model_module": "@jupyter-widgets/base",
          "model_name": "LayoutModel",
          "model_module_version": "1.2.0",
          "state": {
            "_model_module": "@jupyter-widgets/base",
            "_model_module_version": "1.2.0",
            "_model_name": "LayoutModel",
            "_view_count": null,
            "_view_module": "@jupyter-widgets/base",
            "_view_module_version": "1.2.0",
            "_view_name": "LayoutView",
            "align_content": null,
            "align_items": null,
            "align_self": null,
            "border": null,
            "bottom": null,
            "display": null,
            "flex": null,
            "flex_flow": null,
            "grid_area": null,
            "grid_auto_columns": null,
            "grid_auto_flow": null,
            "grid_auto_rows": null,
            "grid_column": null,
            "grid_gap": null,
            "grid_row": null,
            "grid_template_areas": null,
            "grid_template_columns": null,
            "grid_template_rows": null,
            "height": null,
            "justify_content": null,
            "justify_items": null,
            "left": null,
            "margin": null,
            "max_height": null,
            "max_width": null,
            "min_height": null,
            "min_width": null,
            "object_fit": null,
            "object_position": null,
            "order": null,
            "overflow": null,
            "overflow_x": null,
            "overflow_y": null,
            "padding": null,
            "right": null,
            "top": null,
            "visibility": null,
            "width": null
          }
        },
        "548ee29f5ab340f7acf6da48bc3a1a9a": {
          "model_module": "@jupyter-widgets/base",
          "model_name": "LayoutModel",
          "model_module_version": "1.2.0",
          "state": {
            "_model_module": "@jupyter-widgets/base",
            "_model_module_version": "1.2.0",
            "_model_name": "LayoutModel",
            "_view_count": null,
            "_view_module": "@jupyter-widgets/base",
            "_view_module_version": "1.2.0",
            "_view_name": "LayoutView",
            "align_content": null,
            "align_items": null,
            "align_self": null,
            "border": null,
            "bottom": null,
            "display": null,
            "flex": null,
            "flex_flow": null,
            "grid_area": null,
            "grid_auto_columns": null,
            "grid_auto_flow": null,
            "grid_auto_rows": null,
            "grid_column": null,
            "grid_gap": null,
            "grid_row": null,
            "grid_template_areas": null,
            "grid_template_columns": null,
            "grid_template_rows": null,
            "height": null,
            "justify_content": null,
            "justify_items": null,
            "left": null,
            "margin": null,
            "max_height": null,
            "max_width": null,
            "min_height": null,
            "min_width": null,
            "object_fit": null,
            "object_position": null,
            "order": null,
            "overflow": null,
            "overflow_x": null,
            "overflow_y": null,
            "padding": null,
            "right": null,
            "top": null,
            "visibility": null,
            "width": null
          }
        },
        "acb295c0b4cd498b89cdb44585f87253": {
          "model_module": "@jupyter-widgets/controls",
          "model_name": "DescriptionStyleModel",
          "model_module_version": "1.5.0",
          "state": {
            "_model_module": "@jupyter-widgets/controls",
            "_model_module_version": "1.5.0",
            "_model_name": "DescriptionStyleModel",
            "_view_count": null,
            "_view_module": "@jupyter-widgets/base",
            "_view_module_version": "1.2.0",
            "_view_name": "StyleView",
            "description_width": ""
          }
        },
        "60f328a31cb54cb292d0bdcba12991ee": {
          "model_module": "@jupyter-widgets/base",
          "model_name": "LayoutModel",
          "model_module_version": "1.2.0",
          "state": {
            "_model_module": "@jupyter-widgets/base",
            "_model_module_version": "1.2.0",
            "_model_name": "LayoutModel",
            "_view_count": null,
            "_view_module": "@jupyter-widgets/base",
            "_view_module_version": "1.2.0",
            "_view_name": "LayoutView",
            "align_content": null,
            "align_items": null,
            "align_self": null,
            "border": null,
            "bottom": null,
            "display": null,
            "flex": null,
            "flex_flow": null,
            "grid_area": null,
            "grid_auto_columns": null,
            "grid_auto_flow": null,
            "grid_auto_rows": null,
            "grid_column": null,
            "grid_gap": null,
            "grid_row": null,
            "grid_template_areas": null,
            "grid_template_columns": null,
            "grid_template_rows": null,
            "height": null,
            "justify_content": null,
            "justify_items": null,
            "left": null,
            "margin": null,
            "max_height": null,
            "max_width": null,
            "min_height": null,
            "min_width": null,
            "object_fit": null,
            "object_position": null,
            "order": null,
            "overflow": null,
            "overflow_x": null,
            "overflow_y": null,
            "padding": null,
            "right": null,
            "top": null,
            "visibility": null,
            "width": null
          }
        },
        "1e35af8abe554046a3cad9b9b48d86b0": {
          "model_module": "@jupyter-widgets/controls",
          "model_name": "ProgressStyleModel",
          "model_module_version": "1.5.0",
          "state": {
            "_model_module": "@jupyter-widgets/controls",
            "_model_module_version": "1.5.0",
            "_model_name": "ProgressStyleModel",
            "_view_count": null,
            "_view_module": "@jupyter-widgets/base",
            "_view_module_version": "1.2.0",
            "_view_name": "StyleView",
            "bar_color": null,
            "description_width": ""
          }
        },
        "801ab7f33b474350a5d15347a2d910cc": {
          "model_module": "@jupyter-widgets/base",
          "model_name": "LayoutModel",
          "model_module_version": "1.2.0",
          "state": {
            "_model_module": "@jupyter-widgets/base",
            "_model_module_version": "1.2.0",
            "_model_name": "LayoutModel",
            "_view_count": null,
            "_view_module": "@jupyter-widgets/base",
            "_view_module_version": "1.2.0",
            "_view_name": "LayoutView",
            "align_content": null,
            "align_items": null,
            "align_self": null,
            "border": null,
            "bottom": null,
            "display": null,
            "flex": null,
            "flex_flow": null,
            "grid_area": null,
            "grid_auto_columns": null,
            "grid_auto_flow": null,
            "grid_auto_rows": null,
            "grid_column": null,
            "grid_gap": null,
            "grid_row": null,
            "grid_template_areas": null,
            "grid_template_columns": null,
            "grid_template_rows": null,
            "height": null,
            "justify_content": null,
            "justify_items": null,
            "left": null,
            "margin": null,
            "max_height": null,
            "max_width": null,
            "min_height": null,
            "min_width": null,
            "object_fit": null,
            "object_position": null,
            "order": null,
            "overflow": null,
            "overflow_x": null,
            "overflow_y": null,
            "padding": null,
            "right": null,
            "top": null,
            "visibility": null,
            "width": null
          }
        },
        "520e4dd20e704b5891ba3bf54084a5d7": {
          "model_module": "@jupyter-widgets/controls",
          "model_name": "DescriptionStyleModel",
          "model_module_version": "1.5.0",
          "state": {
            "_model_module": "@jupyter-widgets/controls",
            "_model_module_version": "1.5.0",
            "_model_name": "DescriptionStyleModel",
            "_view_count": null,
            "_view_module": "@jupyter-widgets/base",
            "_view_module_version": "1.2.0",
            "_view_name": "StyleView",
            "description_width": ""
          }
        },
        "3b755100c71043eda8c809d8f181259a": {
          "model_module": "@jupyter-widgets/controls",
          "model_name": "HBoxModel",
          "model_module_version": "1.5.0",
          "state": {
            "_dom_classes": [],
            "_model_module": "@jupyter-widgets/controls",
            "_model_module_version": "1.5.0",
            "_model_name": "HBoxModel",
            "_view_count": null,
            "_view_module": "@jupyter-widgets/controls",
            "_view_module_version": "1.5.0",
            "_view_name": "HBoxView",
            "box_style": "",
            "children": [
              "IPY_MODEL_5adebcbfa0354aeca888dfabef8e6ed2",
              "IPY_MODEL_b375d7a052a3400d8970e9cec313b0da",
              "IPY_MODEL_5347d3b32f264679b012ded4356d5887"
            ],
            "layout": "IPY_MODEL_02af77b5adb0486d9ea2de1427c3030e"
          }
        },
        "5adebcbfa0354aeca888dfabef8e6ed2": {
          "model_module": "@jupyter-widgets/controls",
          "model_name": "HTMLModel",
          "model_module_version": "1.5.0",
          "state": {
            "_dom_classes": [],
            "_model_module": "@jupyter-widgets/controls",
            "_model_module_version": "1.5.0",
            "_model_name": "HTMLModel",
            "_view_count": null,
            "_view_module": "@jupyter-widgets/controls",
            "_view_module_version": "1.5.0",
            "_view_name": "HTMLView",
            "description": "",
            "description_tooltip": null,
            "layout": "IPY_MODEL_cec18b3ac7604503ae41bc0846936d90",
            "placeholder": "​",
            "style": "IPY_MODEL_1ed1781bf3714592a794b74d6745974a",
            "value": "model.safetensors: 100%"
          }
        },
        "b375d7a052a3400d8970e9cec313b0da": {
          "model_module": "@jupyter-widgets/controls",
          "model_name": "FloatProgressModel",
          "model_module_version": "1.5.0",
          "state": {
            "_dom_classes": [],
            "_model_module": "@jupyter-widgets/controls",
            "_model_module_version": "1.5.0",
            "_model_name": "FloatProgressModel",
            "_view_count": null,
            "_view_module": "@jupyter-widgets/controls",
            "_view_module_version": "1.5.0",
            "_view_name": "ProgressView",
            "bar_style": "success",
            "description": "",
            "description_tooltip": null,
            "layout": "IPY_MODEL_27baae916132417e948f7a41aeb4eb44",
            "max": 440449768,
            "min": 0,
            "orientation": "horizontal",
            "style": "IPY_MODEL_a55577f467b246febd20c8823ebb3f72",
            "value": 440449768
          }
        },
        "5347d3b32f264679b012ded4356d5887": {
          "model_module": "@jupyter-widgets/controls",
          "model_name": "HTMLModel",
          "model_module_version": "1.5.0",
          "state": {
            "_dom_classes": [],
            "_model_module": "@jupyter-widgets/controls",
            "_model_module_version": "1.5.0",
            "_model_name": "HTMLModel",
            "_view_count": null,
            "_view_module": "@jupyter-widgets/controls",
            "_view_module_version": "1.5.0",
            "_view_name": "HTMLView",
            "description": "",
            "description_tooltip": null,
            "layout": "IPY_MODEL_a0ccfd9c01ae4d8a88d7add0ea029f35",
            "placeholder": "​",
            "style": "IPY_MODEL_44558ff33dd84b159ae96c26e03b68d4",
            "value": " 440M/440M [00:02&lt;00:00, 218MB/s]"
          }
        },
        "02af77b5adb0486d9ea2de1427c3030e": {
          "model_module": "@jupyter-widgets/base",
          "model_name": "LayoutModel",
          "model_module_version": "1.2.0",
          "state": {
            "_model_module": "@jupyter-widgets/base",
            "_model_module_version": "1.2.0",
            "_model_name": "LayoutModel",
            "_view_count": null,
            "_view_module": "@jupyter-widgets/base",
            "_view_module_version": "1.2.0",
            "_view_name": "LayoutView",
            "align_content": null,
            "align_items": null,
            "align_self": null,
            "border": null,
            "bottom": null,
            "display": null,
            "flex": null,
            "flex_flow": null,
            "grid_area": null,
            "grid_auto_columns": null,
            "grid_auto_flow": null,
            "grid_auto_rows": null,
            "grid_column": null,
            "grid_gap": null,
            "grid_row": null,
            "grid_template_areas": null,
            "grid_template_columns": null,
            "grid_template_rows": null,
            "height": null,
            "justify_content": null,
            "justify_items": null,
            "left": null,
            "margin": null,
            "max_height": null,
            "max_width": null,
            "min_height": null,
            "min_width": null,
            "object_fit": null,
            "object_position": null,
            "order": null,
            "overflow": null,
            "overflow_x": null,
            "overflow_y": null,
            "padding": null,
            "right": null,
            "top": null,
            "visibility": null,
            "width": null
          }
        },
        "cec18b3ac7604503ae41bc0846936d90": {
          "model_module": "@jupyter-widgets/base",
          "model_name": "LayoutModel",
          "model_module_version": "1.2.0",
          "state": {
            "_model_module": "@jupyter-widgets/base",
            "_model_module_version": "1.2.0",
            "_model_name": "LayoutModel",
            "_view_count": null,
            "_view_module": "@jupyter-widgets/base",
            "_view_module_version": "1.2.0",
            "_view_name": "LayoutView",
            "align_content": null,
            "align_items": null,
            "align_self": null,
            "border": null,
            "bottom": null,
            "display": null,
            "flex": null,
            "flex_flow": null,
            "grid_area": null,
            "grid_auto_columns": null,
            "grid_auto_flow": null,
            "grid_auto_rows": null,
            "grid_column": null,
            "grid_gap": null,
            "grid_row": null,
            "grid_template_areas": null,
            "grid_template_columns": null,
            "grid_template_rows": null,
            "height": null,
            "justify_content": null,
            "justify_items": null,
            "left": null,
            "margin": null,
            "max_height": null,
            "max_width": null,
            "min_height": null,
            "min_width": null,
            "object_fit": null,
            "object_position": null,
            "order": null,
            "overflow": null,
            "overflow_x": null,
            "overflow_y": null,
            "padding": null,
            "right": null,
            "top": null,
            "visibility": null,
            "width": null
          }
        },
        "1ed1781bf3714592a794b74d6745974a": {
          "model_module": "@jupyter-widgets/controls",
          "model_name": "DescriptionStyleModel",
          "model_module_version": "1.5.0",
          "state": {
            "_model_module": "@jupyter-widgets/controls",
            "_model_module_version": "1.5.0",
            "_model_name": "DescriptionStyleModel",
            "_view_count": null,
            "_view_module": "@jupyter-widgets/base",
            "_view_module_version": "1.2.0",
            "_view_name": "StyleView",
            "description_width": ""
          }
        },
        "27baae916132417e948f7a41aeb4eb44": {
          "model_module": "@jupyter-widgets/base",
          "model_name": "LayoutModel",
          "model_module_version": "1.2.0",
          "state": {
            "_model_module": "@jupyter-widgets/base",
            "_model_module_version": "1.2.0",
            "_model_name": "LayoutModel",
            "_view_count": null,
            "_view_module": "@jupyter-widgets/base",
            "_view_module_version": "1.2.0",
            "_view_name": "LayoutView",
            "align_content": null,
            "align_items": null,
            "align_self": null,
            "border": null,
            "bottom": null,
            "display": null,
            "flex": null,
            "flex_flow": null,
            "grid_area": null,
            "grid_auto_columns": null,
            "grid_auto_flow": null,
            "grid_auto_rows": null,
            "grid_column": null,
            "grid_gap": null,
            "grid_row": null,
            "grid_template_areas": null,
            "grid_template_columns": null,
            "grid_template_rows": null,
            "height": null,
            "justify_content": null,
            "justify_items": null,
            "left": null,
            "margin": null,
            "max_height": null,
            "max_width": null,
            "min_height": null,
            "min_width": null,
            "object_fit": null,
            "object_position": null,
            "order": null,
            "overflow": null,
            "overflow_x": null,
            "overflow_y": null,
            "padding": null,
            "right": null,
            "top": null,
            "visibility": null,
            "width": null
          }
        },
        "a55577f467b246febd20c8823ebb3f72": {
          "model_module": "@jupyter-widgets/controls",
          "model_name": "ProgressStyleModel",
          "model_module_version": "1.5.0",
          "state": {
            "_model_module": "@jupyter-widgets/controls",
            "_model_module_version": "1.5.0",
            "_model_name": "ProgressStyleModel",
            "_view_count": null,
            "_view_module": "@jupyter-widgets/base",
            "_view_module_version": "1.2.0",
            "_view_name": "StyleView",
            "bar_color": null,
            "description_width": ""
          }
        },
        "a0ccfd9c01ae4d8a88d7add0ea029f35": {
          "model_module": "@jupyter-widgets/base",
          "model_name": "LayoutModel",
          "model_module_version": "1.2.0",
          "state": {
            "_model_module": "@jupyter-widgets/base",
            "_model_module_version": "1.2.0",
            "_model_name": "LayoutModel",
            "_view_count": null,
            "_view_module": "@jupyter-widgets/base",
            "_view_module_version": "1.2.0",
            "_view_name": "LayoutView",
            "align_content": null,
            "align_items": null,
            "align_self": null,
            "border": null,
            "bottom": null,
            "display": null,
            "flex": null,
            "flex_flow": null,
            "grid_area": null,
            "grid_auto_columns": null,
            "grid_auto_flow": null,
            "grid_auto_rows": null,
            "grid_column": null,
            "grid_gap": null,
            "grid_row": null,
            "grid_template_areas": null,
            "grid_template_columns": null,
            "grid_template_rows": null,
            "height": null,
            "justify_content": null,
            "justify_items": null,
            "left": null,
            "margin": null,
            "max_height": null,
            "max_width": null,
            "min_height": null,
            "min_width": null,
            "object_fit": null,
            "object_position": null,
            "order": null,
            "overflow": null,
            "overflow_x": null,
            "overflow_y": null,
            "padding": null,
            "right": null,
            "top": null,
            "visibility": null,
            "width": null
          }
        },
        "44558ff33dd84b159ae96c26e03b68d4": {
          "model_module": "@jupyter-widgets/controls",
          "model_name": "DescriptionStyleModel",
          "model_module_version": "1.5.0",
          "state": {
            "_model_module": "@jupyter-widgets/controls",
            "_model_module_version": "1.5.0",
            "_model_name": "DescriptionStyleModel",
            "_view_count": null,
            "_view_module": "@jupyter-widgets/base",
            "_view_module_version": "1.2.0",
            "_view_name": "StyleView",
            "description_width": ""
          }
        },
        "1f8d6a073b234504bd4bef864d3fb719": {
          "model_module": "@jupyter-widgets/controls",
          "model_name": "HBoxModel",
          "model_module_version": "1.5.0",
          "state": {
            "_dom_classes": [],
            "_model_module": "@jupyter-widgets/controls",
            "_model_module_version": "1.5.0",
            "_model_name": "HBoxModel",
            "_view_count": null,
            "_view_module": "@jupyter-widgets/controls",
            "_view_module_version": "1.5.0",
            "_view_name": "HBoxView",
            "box_style": "",
            "children": [
              "IPY_MODEL_27d060c1efc2439283842d519f5a470d",
              "IPY_MODEL_1fc925ed4ae041d1b823d6f46e8cbacc",
              "IPY_MODEL_0af073599107425db4b568da61189082"
            ],
            "layout": "IPY_MODEL_5812e7b928024f80b4f7c25eee793e2d"
          }
        },
        "27d060c1efc2439283842d519f5a470d": {
          "model_module": "@jupyter-widgets/controls",
          "model_name": "HTMLModel",
          "model_module_version": "1.5.0",
          "state": {
            "_dom_classes": [],
            "_model_module": "@jupyter-widgets/controls",
            "_model_module_version": "1.5.0",
            "_model_name": "HTMLModel",
            "_view_count": null,
            "_view_module": "@jupyter-widgets/controls",
            "_view_module_version": "1.5.0",
            "_view_name": "HTMLView",
            "description": "",
            "description_tooltip": null,
            "layout": "IPY_MODEL_bb2d09d2e60f4848b0dab9efd2fbad8d",
            "placeholder": "​",
            "style": "IPY_MODEL_c9d628c022b744c79eef82142909371d",
            "value": "tokenizer_config.json: 100%"
          }
        },
        "1fc925ed4ae041d1b823d6f46e8cbacc": {
          "model_module": "@jupyter-widgets/controls",
          "model_name": "FloatProgressModel",
          "model_module_version": "1.5.0",
          "state": {
            "_dom_classes": [],
            "_model_module": "@jupyter-widgets/controls",
            "_model_module_version": "1.5.0",
            "_model_name": "FloatProgressModel",
            "_view_count": null,
            "_view_module": "@jupyter-widgets/controls",
            "_view_module_version": "1.5.0",
            "_view_name": "ProgressView",
            "bar_style": "success",
            "description": "",
            "description_tooltip": null,
            "layout": "IPY_MODEL_49d02de8598d495298f4c0f8efe54395",
            "max": 48,
            "min": 0,
            "orientation": "horizontal",
            "style": "IPY_MODEL_50ed1e675b2c42fd9e8be9e93ff538b2",
            "value": 48
          }
        },
        "0af073599107425db4b568da61189082": {
          "model_module": "@jupyter-widgets/controls",
          "model_name": "HTMLModel",
          "model_module_version": "1.5.0",
          "state": {
            "_dom_classes": [],
            "_model_module": "@jupyter-widgets/controls",
            "_model_module_version": "1.5.0",
            "_model_name": "HTMLModel",
            "_view_count": null,
            "_view_module": "@jupyter-widgets/controls",
            "_view_module_version": "1.5.0",
            "_view_name": "HTMLView",
            "description": "",
            "description_tooltip": null,
            "layout": "IPY_MODEL_cea9202ade97485cbd766f8a36a20492",
            "placeholder": "​",
            "style": "IPY_MODEL_fa077ee8532a4b2e8afd260d2106936b",
            "value": " 48.0/48.0 [00:00&lt;00:00, 2.46kB/s]"
          }
        },
        "5812e7b928024f80b4f7c25eee793e2d": {
          "model_module": "@jupyter-widgets/base",
          "model_name": "LayoutModel",
          "model_module_version": "1.2.0",
          "state": {
            "_model_module": "@jupyter-widgets/base",
            "_model_module_version": "1.2.0",
            "_model_name": "LayoutModel",
            "_view_count": null,
            "_view_module": "@jupyter-widgets/base",
            "_view_module_version": "1.2.0",
            "_view_name": "LayoutView",
            "align_content": null,
            "align_items": null,
            "align_self": null,
            "border": null,
            "bottom": null,
            "display": null,
            "flex": null,
            "flex_flow": null,
            "grid_area": null,
            "grid_auto_columns": null,
            "grid_auto_flow": null,
            "grid_auto_rows": null,
            "grid_column": null,
            "grid_gap": null,
            "grid_row": null,
            "grid_template_areas": null,
            "grid_template_columns": null,
            "grid_template_rows": null,
            "height": null,
            "justify_content": null,
            "justify_items": null,
            "left": null,
            "margin": null,
            "max_height": null,
            "max_width": null,
            "min_height": null,
            "min_width": null,
            "object_fit": null,
            "object_position": null,
            "order": null,
            "overflow": null,
            "overflow_x": null,
            "overflow_y": null,
            "padding": null,
            "right": null,
            "top": null,
            "visibility": null,
            "width": null
          }
        },
        "bb2d09d2e60f4848b0dab9efd2fbad8d": {
          "model_module": "@jupyter-widgets/base",
          "model_name": "LayoutModel",
          "model_module_version": "1.2.0",
          "state": {
            "_model_module": "@jupyter-widgets/base",
            "_model_module_version": "1.2.0",
            "_model_name": "LayoutModel",
            "_view_count": null,
            "_view_module": "@jupyter-widgets/base",
            "_view_module_version": "1.2.0",
            "_view_name": "LayoutView",
            "align_content": null,
            "align_items": null,
            "align_self": null,
            "border": null,
            "bottom": null,
            "display": null,
            "flex": null,
            "flex_flow": null,
            "grid_area": null,
            "grid_auto_columns": null,
            "grid_auto_flow": null,
            "grid_auto_rows": null,
            "grid_column": null,
            "grid_gap": null,
            "grid_row": null,
            "grid_template_areas": null,
            "grid_template_columns": null,
            "grid_template_rows": null,
            "height": null,
            "justify_content": null,
            "justify_items": null,
            "left": null,
            "margin": null,
            "max_height": null,
            "max_width": null,
            "min_height": null,
            "min_width": null,
            "object_fit": null,
            "object_position": null,
            "order": null,
            "overflow": null,
            "overflow_x": null,
            "overflow_y": null,
            "padding": null,
            "right": null,
            "top": null,
            "visibility": null,
            "width": null
          }
        },
        "c9d628c022b744c79eef82142909371d": {
          "model_module": "@jupyter-widgets/controls",
          "model_name": "DescriptionStyleModel",
          "model_module_version": "1.5.0",
          "state": {
            "_model_module": "@jupyter-widgets/controls",
            "_model_module_version": "1.5.0",
            "_model_name": "DescriptionStyleModel",
            "_view_count": null,
            "_view_module": "@jupyter-widgets/base",
            "_view_module_version": "1.2.0",
            "_view_name": "StyleView",
            "description_width": ""
          }
        },
        "49d02de8598d495298f4c0f8efe54395": {
          "model_module": "@jupyter-widgets/base",
          "model_name": "LayoutModel",
          "model_module_version": "1.2.0",
          "state": {
            "_model_module": "@jupyter-widgets/base",
            "_model_module_version": "1.2.0",
            "_model_name": "LayoutModel",
            "_view_count": null,
            "_view_module": "@jupyter-widgets/base",
            "_view_module_version": "1.2.0",
            "_view_name": "LayoutView",
            "align_content": null,
            "align_items": null,
            "align_self": null,
            "border": null,
            "bottom": null,
            "display": null,
            "flex": null,
            "flex_flow": null,
            "grid_area": null,
            "grid_auto_columns": null,
            "grid_auto_flow": null,
            "grid_auto_rows": null,
            "grid_column": null,
            "grid_gap": null,
            "grid_row": null,
            "grid_template_areas": null,
            "grid_template_columns": null,
            "grid_template_rows": null,
            "height": null,
            "justify_content": null,
            "justify_items": null,
            "left": null,
            "margin": null,
            "max_height": null,
            "max_width": null,
            "min_height": null,
            "min_width": null,
            "object_fit": null,
            "object_position": null,
            "order": null,
            "overflow": null,
            "overflow_x": null,
            "overflow_y": null,
            "padding": null,
            "right": null,
            "top": null,
            "visibility": null,
            "width": null
          }
        },
        "50ed1e675b2c42fd9e8be9e93ff538b2": {
          "model_module": "@jupyter-widgets/controls",
          "model_name": "ProgressStyleModel",
          "model_module_version": "1.5.0",
          "state": {
            "_model_module": "@jupyter-widgets/controls",
            "_model_module_version": "1.5.0",
            "_model_name": "ProgressStyleModel",
            "_view_count": null,
            "_view_module": "@jupyter-widgets/base",
            "_view_module_version": "1.2.0",
            "_view_name": "StyleView",
            "bar_color": null,
            "description_width": ""
          }
        },
        "cea9202ade97485cbd766f8a36a20492": {
          "model_module": "@jupyter-widgets/base",
          "model_name": "LayoutModel",
          "model_module_version": "1.2.0",
          "state": {
            "_model_module": "@jupyter-widgets/base",
            "_model_module_version": "1.2.0",
            "_model_name": "LayoutModel",
            "_view_count": null,
            "_view_module": "@jupyter-widgets/base",
            "_view_module_version": "1.2.0",
            "_view_name": "LayoutView",
            "align_content": null,
            "align_items": null,
            "align_self": null,
            "border": null,
            "bottom": null,
            "display": null,
            "flex": null,
            "flex_flow": null,
            "grid_area": null,
            "grid_auto_columns": null,
            "grid_auto_flow": null,
            "grid_auto_rows": null,
            "grid_column": null,
            "grid_gap": null,
            "grid_row": null,
            "grid_template_areas": null,
            "grid_template_columns": null,
            "grid_template_rows": null,
            "height": null,
            "justify_content": null,
            "justify_items": null,
            "left": null,
            "margin": null,
            "max_height": null,
            "max_width": null,
            "min_height": null,
            "min_width": null,
            "object_fit": null,
            "object_position": null,
            "order": null,
            "overflow": null,
            "overflow_x": null,
            "overflow_y": null,
            "padding": null,
            "right": null,
            "top": null,
            "visibility": null,
            "width": null
          }
        },
        "fa077ee8532a4b2e8afd260d2106936b": {
          "model_module": "@jupyter-widgets/controls",
          "model_name": "DescriptionStyleModel",
          "model_module_version": "1.5.0",
          "state": {
            "_model_module": "@jupyter-widgets/controls",
            "_model_module_version": "1.5.0",
            "_model_name": "DescriptionStyleModel",
            "_view_count": null,
            "_view_module": "@jupyter-widgets/base",
            "_view_module_version": "1.2.0",
            "_view_name": "StyleView",
            "description_width": ""
          }
        },
        "f93f9e1ecb1546cebba0f6e70f8ceae7": {
          "model_module": "@jupyter-widgets/controls",
          "model_name": "HBoxModel",
          "model_module_version": "1.5.0",
          "state": {
            "_dom_classes": [],
            "_model_module": "@jupyter-widgets/controls",
            "_model_module_version": "1.5.0",
            "_model_name": "HBoxModel",
            "_view_count": null,
            "_view_module": "@jupyter-widgets/controls",
            "_view_module_version": "1.5.0",
            "_view_name": "HBoxView",
            "box_style": "",
            "children": [
              "IPY_MODEL_fdfbe62234654bda9c83da144ef76269",
              "IPY_MODEL_42758ad9abde400190ba07ffd39d038c",
              "IPY_MODEL_3d5b7c8a7dd24927b58ba45cd5c03d25"
            ],
            "layout": "IPY_MODEL_190de02106bd4868af366e651eb936b0"
          }
        },
        "fdfbe62234654bda9c83da144ef76269": {
          "model_module": "@jupyter-widgets/controls",
          "model_name": "HTMLModel",
          "model_module_version": "1.5.0",
          "state": {
            "_dom_classes": [],
            "_model_module": "@jupyter-widgets/controls",
            "_model_module_version": "1.5.0",
            "_model_name": "HTMLModel",
            "_view_count": null,
            "_view_module": "@jupyter-widgets/controls",
            "_view_module_version": "1.5.0",
            "_view_name": "HTMLView",
            "description": "",
            "description_tooltip": null,
            "layout": "IPY_MODEL_72971d25f0ab420984b0e328608697d5",
            "placeholder": "​",
            "style": "IPY_MODEL_79c19cf92680436ca916dc87ca45a433",
            "value": "vocab.txt: 100%"
          }
        },
        "42758ad9abde400190ba07ffd39d038c": {
          "model_module": "@jupyter-widgets/controls",
          "model_name": "FloatProgressModel",
          "model_module_version": "1.5.0",
          "state": {
            "_dom_classes": [],
            "_model_module": "@jupyter-widgets/controls",
            "_model_module_version": "1.5.0",
            "_model_name": "FloatProgressModel",
            "_view_count": null,
            "_view_module": "@jupyter-widgets/controls",
            "_view_module_version": "1.5.0",
            "_view_name": "ProgressView",
            "bar_style": "success",
            "description": "",
            "description_tooltip": null,
            "layout": "IPY_MODEL_fb534586ffc34c6297217e67992c51df",
            "max": 231508,
            "min": 0,
            "orientation": "horizontal",
            "style": "IPY_MODEL_f6911ff8a0444b05b32889ebbda92d61",
            "value": 231508
          }
        },
        "3d5b7c8a7dd24927b58ba45cd5c03d25": {
          "model_module": "@jupyter-widgets/controls",
          "model_name": "HTMLModel",
          "model_module_version": "1.5.0",
          "state": {
            "_dom_classes": [],
            "_model_module": "@jupyter-widgets/controls",
            "_model_module_version": "1.5.0",
            "_model_name": "HTMLModel",
            "_view_count": null,
            "_view_module": "@jupyter-widgets/controls",
            "_view_module_version": "1.5.0",
            "_view_name": "HTMLView",
            "description": "",
            "description_tooltip": null,
            "layout": "IPY_MODEL_b08f37b20236404ab5ce226ed6eb5bdc",
            "placeholder": "​",
            "style": "IPY_MODEL_f96fe9b5295e45ad9f953c74193944ac",
            "value": " 232k/232k [00:00&lt;00:00, 11.9MB/s]"
          }
        },
        "190de02106bd4868af366e651eb936b0": {
          "model_module": "@jupyter-widgets/base",
          "model_name": "LayoutModel",
          "model_module_version": "1.2.0",
          "state": {
            "_model_module": "@jupyter-widgets/base",
            "_model_module_version": "1.2.0",
            "_model_name": "LayoutModel",
            "_view_count": null,
            "_view_module": "@jupyter-widgets/base",
            "_view_module_version": "1.2.0",
            "_view_name": "LayoutView",
            "align_content": null,
            "align_items": null,
            "align_self": null,
            "border": null,
            "bottom": null,
            "display": null,
            "flex": null,
            "flex_flow": null,
            "grid_area": null,
            "grid_auto_columns": null,
            "grid_auto_flow": null,
            "grid_auto_rows": null,
            "grid_column": null,
            "grid_gap": null,
            "grid_row": null,
            "grid_template_areas": null,
            "grid_template_columns": null,
            "grid_template_rows": null,
            "height": null,
            "justify_content": null,
            "justify_items": null,
            "left": null,
            "margin": null,
            "max_height": null,
            "max_width": null,
            "min_height": null,
            "min_width": null,
            "object_fit": null,
            "object_position": null,
            "order": null,
            "overflow": null,
            "overflow_x": null,
            "overflow_y": null,
            "padding": null,
            "right": null,
            "top": null,
            "visibility": null,
            "width": null
          }
        },
        "72971d25f0ab420984b0e328608697d5": {
          "model_module": "@jupyter-widgets/base",
          "model_name": "LayoutModel",
          "model_module_version": "1.2.0",
          "state": {
            "_model_module": "@jupyter-widgets/base",
            "_model_module_version": "1.2.0",
            "_model_name": "LayoutModel",
            "_view_count": null,
            "_view_module": "@jupyter-widgets/base",
            "_view_module_version": "1.2.0",
            "_view_name": "LayoutView",
            "align_content": null,
            "align_items": null,
            "align_self": null,
            "border": null,
            "bottom": null,
            "display": null,
            "flex": null,
            "flex_flow": null,
            "grid_area": null,
            "grid_auto_columns": null,
            "grid_auto_flow": null,
            "grid_auto_rows": null,
            "grid_column": null,
            "grid_gap": null,
            "grid_row": null,
            "grid_template_areas": null,
            "grid_template_columns": null,
            "grid_template_rows": null,
            "height": null,
            "justify_content": null,
            "justify_items": null,
            "left": null,
            "margin": null,
            "max_height": null,
            "max_width": null,
            "min_height": null,
            "min_width": null,
            "object_fit": null,
            "object_position": null,
            "order": null,
            "overflow": null,
            "overflow_x": null,
            "overflow_y": null,
            "padding": null,
            "right": null,
            "top": null,
            "visibility": null,
            "width": null
          }
        },
        "79c19cf92680436ca916dc87ca45a433": {
          "model_module": "@jupyter-widgets/controls",
          "model_name": "DescriptionStyleModel",
          "model_module_version": "1.5.0",
          "state": {
            "_model_module": "@jupyter-widgets/controls",
            "_model_module_version": "1.5.0",
            "_model_name": "DescriptionStyleModel",
            "_view_count": null,
            "_view_module": "@jupyter-widgets/base",
            "_view_module_version": "1.2.0",
            "_view_name": "StyleView",
            "description_width": ""
          }
        },
        "fb534586ffc34c6297217e67992c51df": {
          "model_module": "@jupyter-widgets/base",
          "model_name": "LayoutModel",
          "model_module_version": "1.2.0",
          "state": {
            "_model_module": "@jupyter-widgets/base",
            "_model_module_version": "1.2.0",
            "_model_name": "LayoutModel",
            "_view_count": null,
            "_view_module": "@jupyter-widgets/base",
            "_view_module_version": "1.2.0",
            "_view_name": "LayoutView",
            "align_content": null,
            "align_items": null,
            "align_self": null,
            "border": null,
            "bottom": null,
            "display": null,
            "flex": null,
            "flex_flow": null,
            "grid_area": null,
            "grid_auto_columns": null,
            "grid_auto_flow": null,
            "grid_auto_rows": null,
            "grid_column": null,
            "grid_gap": null,
            "grid_row": null,
            "grid_template_areas": null,
            "grid_template_columns": null,
            "grid_template_rows": null,
            "height": null,
            "justify_content": null,
            "justify_items": null,
            "left": null,
            "margin": null,
            "max_height": null,
            "max_width": null,
            "min_height": null,
            "min_width": null,
            "object_fit": null,
            "object_position": null,
            "order": null,
            "overflow": null,
            "overflow_x": null,
            "overflow_y": null,
            "padding": null,
            "right": null,
            "top": null,
            "visibility": null,
            "width": null
          }
        },
        "f6911ff8a0444b05b32889ebbda92d61": {
          "model_module": "@jupyter-widgets/controls",
          "model_name": "ProgressStyleModel",
          "model_module_version": "1.5.0",
          "state": {
            "_model_module": "@jupyter-widgets/controls",
            "_model_module_version": "1.5.0",
            "_model_name": "ProgressStyleModel",
            "_view_count": null,
            "_view_module": "@jupyter-widgets/base",
            "_view_module_version": "1.2.0",
            "_view_name": "StyleView",
            "bar_color": null,
            "description_width": ""
          }
        },
        "b08f37b20236404ab5ce226ed6eb5bdc": {
          "model_module": "@jupyter-widgets/base",
          "model_name": "LayoutModel",
          "model_module_version": "1.2.0",
          "state": {
            "_model_module": "@jupyter-widgets/base",
            "_model_module_version": "1.2.0",
            "_model_name": "LayoutModel",
            "_view_count": null,
            "_view_module": "@jupyter-widgets/base",
            "_view_module_version": "1.2.0",
            "_view_name": "LayoutView",
            "align_content": null,
            "align_items": null,
            "align_self": null,
            "border": null,
            "bottom": null,
            "display": null,
            "flex": null,
            "flex_flow": null,
            "grid_area": null,
            "grid_auto_columns": null,
            "grid_auto_flow": null,
            "grid_auto_rows": null,
            "grid_column": null,
            "grid_gap": null,
            "grid_row": null,
            "grid_template_areas": null,
            "grid_template_columns": null,
            "grid_template_rows": null,
            "height": null,
            "justify_content": null,
            "justify_items": null,
            "left": null,
            "margin": null,
            "max_height": null,
            "max_width": null,
            "min_height": null,
            "min_width": null,
            "object_fit": null,
            "object_position": null,
            "order": null,
            "overflow": null,
            "overflow_x": null,
            "overflow_y": null,
            "padding": null,
            "right": null,
            "top": null,
            "visibility": null,
            "width": null
          }
        },
        "f96fe9b5295e45ad9f953c74193944ac": {
          "model_module": "@jupyter-widgets/controls",
          "model_name": "DescriptionStyleModel",
          "model_module_version": "1.5.0",
          "state": {
            "_model_module": "@jupyter-widgets/controls",
            "_model_module_version": "1.5.0",
            "_model_name": "DescriptionStyleModel",
            "_view_count": null,
            "_view_module": "@jupyter-widgets/base",
            "_view_module_version": "1.2.0",
            "_view_name": "StyleView",
            "description_width": ""
          }
        },
        "55710baa65e24b05a743e352639648fb": {
          "model_module": "@jupyter-widgets/controls",
          "model_name": "HBoxModel",
          "model_module_version": "1.5.0",
          "state": {
            "_dom_classes": [],
            "_model_module": "@jupyter-widgets/controls",
            "_model_module_version": "1.5.0",
            "_model_name": "HBoxModel",
            "_view_count": null,
            "_view_module": "@jupyter-widgets/controls",
            "_view_module_version": "1.5.0",
            "_view_name": "HBoxView",
            "box_style": "",
            "children": [
              "IPY_MODEL_5e7c488a8ec2422fa8fdc76e90da3e24",
              "IPY_MODEL_d1beee343ef049d99a94b27b7d75eb12",
              "IPY_MODEL_578fc4b059ae4ef7b7c58e2280ea3377"
            ],
            "layout": "IPY_MODEL_d751fda4f125416a8910ca5ab130b18d"
          }
        },
        "5e7c488a8ec2422fa8fdc76e90da3e24": {
          "model_module": "@jupyter-widgets/controls",
          "model_name": "HTMLModel",
          "model_module_version": "1.5.0",
          "state": {
            "_dom_classes": [],
            "_model_module": "@jupyter-widgets/controls",
            "_model_module_version": "1.5.0",
            "_model_name": "HTMLModel",
            "_view_count": null,
            "_view_module": "@jupyter-widgets/controls",
            "_view_module_version": "1.5.0",
            "_view_name": "HTMLView",
            "description": "",
            "description_tooltip": null,
            "layout": "IPY_MODEL_fb6185118e21456d9ee21e2db8009287",
            "placeholder": "​",
            "style": "IPY_MODEL_99e561ffa3034acfb2db1e14a95d55d3",
            "value": "tokenizer.json: 100%"
          }
        },
        "d1beee343ef049d99a94b27b7d75eb12": {
          "model_module": "@jupyter-widgets/controls",
          "model_name": "FloatProgressModel",
          "model_module_version": "1.5.0",
          "state": {
            "_dom_classes": [],
            "_model_module": "@jupyter-widgets/controls",
            "_model_module_version": "1.5.0",
            "_model_name": "FloatProgressModel",
            "_view_count": null,
            "_view_module": "@jupyter-widgets/controls",
            "_view_module_version": "1.5.0",
            "_view_name": "ProgressView",
            "bar_style": "success",
            "description": "",
            "description_tooltip": null,
            "layout": "IPY_MODEL_09c6566f3ea641a3b1a24a98dc113227",
            "max": 466062,
            "min": 0,
            "orientation": "horizontal",
            "style": "IPY_MODEL_aae9727b0d104ea29e418163e90e563e",
            "value": 466062
          }
        },
        "578fc4b059ae4ef7b7c58e2280ea3377": {
          "model_module": "@jupyter-widgets/controls",
          "model_name": "HTMLModel",
          "model_module_version": "1.5.0",
          "state": {
            "_dom_classes": [],
            "_model_module": "@jupyter-widgets/controls",
            "_model_module_version": "1.5.0",
            "_model_name": "HTMLModel",
            "_view_count": null,
            "_view_module": "@jupyter-widgets/controls",
            "_view_module_version": "1.5.0",
            "_view_name": "HTMLView",
            "description": "",
            "description_tooltip": null,
            "layout": "IPY_MODEL_d5fa674366f54c9eaefc96b8b35acc96",
            "placeholder": "​",
            "style": "IPY_MODEL_5b1c945d99bc4874a6cf27214c8fb04e",
            "value": " 466k/466k [00:00&lt;00:00, 1.05MB/s]"
          }
        },
        "d751fda4f125416a8910ca5ab130b18d": {
          "model_module": "@jupyter-widgets/base",
          "model_name": "LayoutModel",
          "model_module_version": "1.2.0",
          "state": {
            "_model_module": "@jupyter-widgets/base",
            "_model_module_version": "1.2.0",
            "_model_name": "LayoutModel",
            "_view_count": null,
            "_view_module": "@jupyter-widgets/base",
            "_view_module_version": "1.2.0",
            "_view_name": "LayoutView",
            "align_content": null,
            "align_items": null,
            "align_self": null,
            "border": null,
            "bottom": null,
            "display": null,
            "flex": null,
            "flex_flow": null,
            "grid_area": null,
            "grid_auto_columns": null,
            "grid_auto_flow": null,
            "grid_auto_rows": null,
            "grid_column": null,
            "grid_gap": null,
            "grid_row": null,
            "grid_template_areas": null,
            "grid_template_columns": null,
            "grid_template_rows": null,
            "height": null,
            "justify_content": null,
            "justify_items": null,
            "left": null,
            "margin": null,
            "max_height": null,
            "max_width": null,
            "min_height": null,
            "min_width": null,
            "object_fit": null,
            "object_position": null,
            "order": null,
            "overflow": null,
            "overflow_x": null,
            "overflow_y": null,
            "padding": null,
            "right": null,
            "top": null,
            "visibility": null,
            "width": null
          }
        },
        "fb6185118e21456d9ee21e2db8009287": {
          "model_module": "@jupyter-widgets/base",
          "model_name": "LayoutModel",
          "model_module_version": "1.2.0",
          "state": {
            "_model_module": "@jupyter-widgets/base",
            "_model_module_version": "1.2.0",
            "_model_name": "LayoutModel",
            "_view_count": null,
            "_view_module": "@jupyter-widgets/base",
            "_view_module_version": "1.2.0",
            "_view_name": "LayoutView",
            "align_content": null,
            "align_items": null,
            "align_self": null,
            "border": null,
            "bottom": null,
            "display": null,
            "flex": null,
            "flex_flow": null,
            "grid_area": null,
            "grid_auto_columns": null,
            "grid_auto_flow": null,
            "grid_auto_rows": null,
            "grid_column": null,
            "grid_gap": null,
            "grid_row": null,
            "grid_template_areas": null,
            "grid_template_columns": null,
            "grid_template_rows": null,
            "height": null,
            "justify_content": null,
            "justify_items": null,
            "left": null,
            "margin": null,
            "max_height": null,
            "max_width": null,
            "min_height": null,
            "min_width": null,
            "object_fit": null,
            "object_position": null,
            "order": null,
            "overflow": null,
            "overflow_x": null,
            "overflow_y": null,
            "padding": null,
            "right": null,
            "top": null,
            "visibility": null,
            "width": null
          }
        },
        "99e561ffa3034acfb2db1e14a95d55d3": {
          "model_module": "@jupyter-widgets/controls",
          "model_name": "DescriptionStyleModel",
          "model_module_version": "1.5.0",
          "state": {
            "_model_module": "@jupyter-widgets/controls",
            "_model_module_version": "1.5.0",
            "_model_name": "DescriptionStyleModel",
            "_view_count": null,
            "_view_module": "@jupyter-widgets/base",
            "_view_module_version": "1.2.0",
            "_view_name": "StyleView",
            "description_width": ""
          }
        },
        "09c6566f3ea641a3b1a24a98dc113227": {
          "model_module": "@jupyter-widgets/base",
          "model_name": "LayoutModel",
          "model_module_version": "1.2.0",
          "state": {
            "_model_module": "@jupyter-widgets/base",
            "_model_module_version": "1.2.0",
            "_model_name": "LayoutModel",
            "_view_count": null,
            "_view_module": "@jupyter-widgets/base",
            "_view_module_version": "1.2.0",
            "_view_name": "LayoutView",
            "align_content": null,
            "align_items": null,
            "align_self": null,
            "border": null,
            "bottom": null,
            "display": null,
            "flex": null,
            "flex_flow": null,
            "grid_area": null,
            "grid_auto_columns": null,
            "grid_auto_flow": null,
            "grid_auto_rows": null,
            "grid_column": null,
            "grid_gap": null,
            "grid_row": null,
            "grid_template_areas": null,
            "grid_template_columns": null,
            "grid_template_rows": null,
            "height": null,
            "justify_content": null,
            "justify_items": null,
            "left": null,
            "margin": null,
            "max_height": null,
            "max_width": null,
            "min_height": null,
            "min_width": null,
            "object_fit": null,
            "object_position": null,
            "order": null,
            "overflow": null,
            "overflow_x": null,
            "overflow_y": null,
            "padding": null,
            "right": null,
            "top": null,
            "visibility": null,
            "width": null
          }
        },
        "aae9727b0d104ea29e418163e90e563e": {
          "model_module": "@jupyter-widgets/controls",
          "model_name": "ProgressStyleModel",
          "model_module_version": "1.5.0",
          "state": {
            "_model_module": "@jupyter-widgets/controls",
            "_model_module_version": "1.5.0",
            "_model_name": "ProgressStyleModel",
            "_view_count": null,
            "_view_module": "@jupyter-widgets/base",
            "_view_module_version": "1.2.0",
            "_view_name": "StyleView",
            "bar_color": null,
            "description_width": ""
          }
        },
        "d5fa674366f54c9eaefc96b8b35acc96": {
          "model_module": "@jupyter-widgets/base",
          "model_name": "LayoutModel",
          "model_module_version": "1.2.0",
          "state": {
            "_model_module": "@jupyter-widgets/base",
            "_model_module_version": "1.2.0",
            "_model_name": "LayoutModel",
            "_view_count": null,
            "_view_module": "@jupyter-widgets/base",
            "_view_module_version": "1.2.0",
            "_view_name": "LayoutView",
            "align_content": null,
            "align_items": null,
            "align_self": null,
            "border": null,
            "bottom": null,
            "display": null,
            "flex": null,
            "flex_flow": null,
            "grid_area": null,
            "grid_auto_columns": null,
            "grid_auto_flow": null,
            "grid_auto_rows": null,
            "grid_column": null,
            "grid_gap": null,
            "grid_row": null,
            "grid_template_areas": null,
            "grid_template_columns": null,
            "grid_template_rows": null,
            "height": null,
            "justify_content": null,
            "justify_items": null,
            "left": null,
            "margin": null,
            "max_height": null,
            "max_width": null,
            "min_height": null,
            "min_width": null,
            "object_fit": null,
            "object_position": null,
            "order": null,
            "overflow": null,
            "overflow_x": null,
            "overflow_y": null,
            "padding": null,
            "right": null,
            "top": null,
            "visibility": null,
            "width": null
          }
        },
        "5b1c945d99bc4874a6cf27214c8fb04e": {
          "model_module": "@jupyter-widgets/controls",
          "model_name": "DescriptionStyleModel",
          "model_module_version": "1.5.0",
          "state": {
            "_model_module": "@jupyter-widgets/controls",
            "_model_module_version": "1.5.0",
            "_model_name": "DescriptionStyleModel",
            "_view_count": null,
            "_view_module": "@jupyter-widgets/base",
            "_view_module_version": "1.2.0",
            "_view_name": "StyleView",
            "description_width": ""
          }
        }
      }
    },
    "accelerator": "GPU"
  },
  "cells": [
    {
      "cell_type": "markdown",
      "source": [
        "# Imports"
      ],
      "metadata": {
        "id": "C8QJVzzTCg-m"
      }
    },
    {
      "cell_type": "code",
      "execution_count": null,
      "metadata": {
        "colab": {
          "base_uri": "https://localhost:8080/"
        },
        "id": "V5l7D-20CdB_",
        "outputId": "90fb7afb-e9ba-4f8d-9b23-6320a2ac75b2"
      },
      "outputs": [
        {
          "output_type": "stream",
          "name": "stdout",
          "text": [
            "Requirement already satisfied: keras in /usr/local/lib/python3.11/dist-packages (3.5.0)\n",
            "Requirement already satisfied: absl-py in /usr/local/lib/python3.11/dist-packages (from keras) (1.4.0)\n",
            "Requirement already satisfied: numpy in /usr/local/lib/python3.11/dist-packages (from keras) (1.26.4)\n",
            "Requirement already satisfied: rich in /usr/local/lib/python3.11/dist-packages (from keras) (13.9.4)\n",
            "Requirement already satisfied: namex in /usr/local/lib/python3.11/dist-packages (from keras) (0.0.8)\n",
            "Requirement already satisfied: h5py in /usr/local/lib/python3.11/dist-packages (from keras) (3.12.1)\n",
            "Requirement already satisfied: optree in /usr/local/lib/python3.11/dist-packages (from keras) (0.13.1)\n",
            "Requirement already satisfied: ml-dtypes in /usr/local/lib/python3.11/dist-packages (from keras) (0.4.1)\n",
            "Requirement already satisfied: packaging in /usr/local/lib/python3.11/dist-packages (from keras) (24.2)\n",
            "Requirement already satisfied: typing-extensions>=4.5.0 in /usr/local/lib/python3.11/dist-packages (from optree->keras) (4.12.2)\n",
            "Requirement already satisfied: markdown-it-py>=2.2.0 in /usr/local/lib/python3.11/dist-packages (from rich->keras) (3.0.0)\n",
            "Requirement already satisfied: pygments<3.0.0,>=2.13.0 in /usr/local/lib/python3.11/dist-packages (from rich->keras) (2.18.0)\n",
            "Requirement already satisfied: mdurl~=0.1 in /usr/local/lib/python3.11/dist-packages (from markdown-it-py>=2.2.0->rich->keras) (0.1.2)\n",
            "Requirement already satisfied: kaggle in /usr/local/lib/python3.11/dist-packages (1.6.17)\n",
            "Requirement already satisfied: six>=1.10 in /usr/local/lib/python3.11/dist-packages (from kaggle) (1.17.0)\n",
            "Requirement already satisfied: certifi>=2023.7.22 in /usr/local/lib/python3.11/dist-packages (from kaggle) (2024.12.14)\n",
            "Requirement already satisfied: python-dateutil in /usr/local/lib/python3.11/dist-packages (from kaggle) (2.8.2)\n",
            "Requirement already satisfied: requests in /usr/local/lib/python3.11/dist-packages (from kaggle) (2.32.3)\n",
            "Requirement already satisfied: tqdm in /usr/local/lib/python3.11/dist-packages (from kaggle) (4.67.1)\n",
            "Requirement already satisfied: python-slugify in /usr/local/lib/python3.11/dist-packages (from kaggle) (8.0.4)\n",
            "Requirement already satisfied: urllib3 in /usr/local/lib/python3.11/dist-packages (from kaggle) (2.3.0)\n",
            "Requirement already satisfied: bleach in /usr/local/lib/python3.11/dist-packages (from kaggle) (6.2.0)\n",
            "Requirement already satisfied: webencodings in /usr/local/lib/python3.11/dist-packages (from bleach->kaggle) (0.5.1)\n",
            "Requirement already satisfied: text-unidecode>=1.3 in /usr/local/lib/python3.11/dist-packages (from python-slugify->kaggle) (1.3)\n",
            "Requirement already satisfied: charset-normalizer<4,>=2 in /usr/local/lib/python3.11/dist-packages (from requests->kaggle) (3.4.1)\n",
            "Requirement already satisfied: idna<4,>=2.5 in /usr/local/lib/python3.11/dist-packages (from requests->kaggle) (3.10)\n",
            "Requirement already satisfied: tensorflow in /usr/local/lib/python3.11/dist-packages (2.17.1)\n",
            "Requirement already satisfied: absl-py>=1.0.0 in /usr/local/lib/python3.11/dist-packages (from tensorflow) (1.4.0)\n",
            "Requirement already satisfied: astunparse>=1.6.0 in /usr/local/lib/python3.11/dist-packages (from tensorflow) (1.6.3)\n",
            "Requirement already satisfied: flatbuffers>=24.3.25 in /usr/local/lib/python3.11/dist-packages (from tensorflow) (24.12.23)\n",
            "Requirement already satisfied: gast!=0.5.0,!=0.5.1,!=0.5.2,>=0.2.1 in /usr/local/lib/python3.11/dist-packages (from tensorflow) (0.6.0)\n",
            "Requirement already satisfied: google-pasta>=0.1.1 in /usr/local/lib/python3.11/dist-packages (from tensorflow) (0.2.0)\n",
            "Requirement already satisfied: h5py>=3.10.0 in /usr/local/lib/python3.11/dist-packages (from tensorflow) (3.12.1)\n",
            "Requirement already satisfied: libclang>=13.0.0 in /usr/local/lib/python3.11/dist-packages (from tensorflow) (18.1.1)\n",
            "Requirement already satisfied: ml-dtypes<0.5.0,>=0.3.1 in /usr/local/lib/python3.11/dist-packages (from tensorflow) (0.4.1)\n",
            "Requirement already satisfied: opt-einsum>=2.3.2 in /usr/local/lib/python3.11/dist-packages (from tensorflow) (3.4.0)\n",
            "Requirement already satisfied: packaging in /usr/local/lib/python3.11/dist-packages (from tensorflow) (24.2)\n",
            "Requirement already satisfied: protobuf!=4.21.0,!=4.21.1,!=4.21.2,!=4.21.3,!=4.21.4,!=4.21.5,<5.0.0dev,>=3.20.3 in /usr/local/lib/python3.11/dist-packages (from tensorflow) (4.25.5)\n",
            "Requirement already satisfied: requests<3,>=2.21.0 in /usr/local/lib/python3.11/dist-packages (from tensorflow) (2.32.3)\n",
            "Requirement already satisfied: setuptools in /usr/local/lib/python3.11/dist-packages (from tensorflow) (75.1.0)\n",
            "Requirement already satisfied: six>=1.12.0 in /usr/local/lib/python3.11/dist-packages (from tensorflow) (1.17.0)\n",
            "Requirement already satisfied: termcolor>=1.1.0 in /usr/local/lib/python3.11/dist-packages (from tensorflow) (2.5.0)\n",
            "Requirement already satisfied: typing-extensions>=3.6.6 in /usr/local/lib/python3.11/dist-packages (from tensorflow) (4.12.2)\n",
            "Requirement already satisfied: wrapt>=1.11.0 in /usr/local/lib/python3.11/dist-packages (from tensorflow) (1.17.0)\n",
            "Requirement already satisfied: grpcio<2.0,>=1.24.3 in /usr/local/lib/python3.11/dist-packages (from tensorflow) (1.69.0)\n",
            "Requirement already satisfied: tensorboard<2.18,>=2.17 in /usr/local/lib/python3.11/dist-packages (from tensorflow) (2.17.1)\n",
            "Requirement already satisfied: keras>=3.2.0 in /usr/local/lib/python3.11/dist-packages (from tensorflow) (3.5.0)\n",
            "Requirement already satisfied: tensorflow-io-gcs-filesystem>=0.23.1 in /usr/local/lib/python3.11/dist-packages (from tensorflow) (0.37.1)\n",
            "Requirement already satisfied: numpy<2.0.0,>=1.23.5 in /usr/local/lib/python3.11/dist-packages (from tensorflow) (1.26.4)\n",
            "Requirement already satisfied: wheel<1.0,>=0.23.0 in /usr/local/lib/python3.11/dist-packages (from astunparse>=1.6.0->tensorflow) (0.45.1)\n",
            "Requirement already satisfied: rich in /usr/local/lib/python3.11/dist-packages (from keras>=3.2.0->tensorflow) (13.9.4)\n",
            "Requirement already satisfied: namex in /usr/local/lib/python3.11/dist-packages (from keras>=3.2.0->tensorflow) (0.0.8)\n",
            "Requirement already satisfied: optree in /usr/local/lib/python3.11/dist-packages (from keras>=3.2.0->tensorflow) (0.13.1)\n",
            "Requirement already satisfied: charset-normalizer<4,>=2 in /usr/local/lib/python3.11/dist-packages (from requests<3,>=2.21.0->tensorflow) (3.4.1)\n",
            "Requirement already satisfied: idna<4,>=2.5 in /usr/local/lib/python3.11/dist-packages (from requests<3,>=2.21.0->tensorflow) (3.10)\n",
            "Requirement already satisfied: urllib3<3,>=1.21.1 in /usr/local/lib/python3.11/dist-packages (from requests<3,>=2.21.0->tensorflow) (2.3.0)\n",
            "Requirement already satisfied: certifi>=2017.4.17 in /usr/local/lib/python3.11/dist-packages (from requests<3,>=2.21.0->tensorflow) (2024.12.14)\n",
            "Requirement already satisfied: markdown>=2.6.8 in /usr/local/lib/python3.11/dist-packages (from tensorboard<2.18,>=2.17->tensorflow) (3.7)\n",
            "Requirement already satisfied: tensorboard-data-server<0.8.0,>=0.7.0 in /usr/local/lib/python3.11/dist-packages (from tensorboard<2.18,>=2.17->tensorflow) (0.7.2)\n",
            "Requirement already satisfied: werkzeug>=1.0.1 in /usr/local/lib/python3.11/dist-packages (from tensorboard<2.18,>=2.17->tensorflow) (3.1.3)\n",
            "Requirement already satisfied: MarkupSafe>=2.1.1 in /usr/local/lib/python3.11/dist-packages (from werkzeug>=1.0.1->tensorboard<2.18,>=2.17->tensorflow) (3.0.2)\n",
            "Requirement already satisfied: markdown-it-py>=2.2.0 in /usr/local/lib/python3.11/dist-packages (from rich->keras>=3.2.0->tensorflow) (3.0.0)\n",
            "Requirement already satisfied: pygments<3.0.0,>=2.13.0 in /usr/local/lib/python3.11/dist-packages (from rich->keras>=3.2.0->tensorflow) (2.18.0)\n",
            "Requirement already satisfied: mdurl~=0.1 in /usr/local/lib/python3.11/dist-packages (from markdown-it-py>=2.2.0->rich->keras>=3.2.0->tensorflow) (0.1.2)\n",
            "Collecting python-docx\n",
            "  Downloading python_docx-1.1.2-py3-none-any.whl.metadata (2.0 kB)\n",
            "Requirement already satisfied: lxml>=3.1.0 in /usr/local/lib/python3.11/dist-packages (from python-docx) (5.3.0)\n",
            "Requirement already satisfied: typing-extensions>=4.9.0 in /usr/local/lib/python3.11/dist-packages (from python-docx) (4.12.2)\n",
            "Downloading python_docx-1.1.2-py3-none-any.whl (244 kB)\n",
            "\u001b[2K   \u001b[90m━━━━━━━━━━━━━━━━━━━━━━━━━━━━━━━━━━━━━━━━\u001b[0m \u001b[32m244.3/244.3 kB\u001b[0m \u001b[31m15.1 MB/s\u001b[0m eta \u001b[36m0:00:00\u001b[0m\n",
            "\u001b[?25hInstalling collected packages: python-docx\n",
            "Successfully installed python-docx-1.1.2\n",
            "Requirement already satisfied: scikit-learn in /usr/local/lib/python3.11/dist-packages (1.6.0)\n",
            "Collecting scikit-learn\n",
            "  Downloading scikit_learn-1.6.1-cp311-cp311-manylinux_2_17_x86_64.manylinux2014_x86_64.whl.metadata (18 kB)\n",
            "Requirement already satisfied: numpy>=1.19.5 in /usr/local/lib/python3.11/dist-packages (from scikit-learn) (1.26.4)\n",
            "Requirement already satisfied: scipy>=1.6.0 in /usr/local/lib/python3.11/dist-packages (from scikit-learn) (1.13.1)\n",
            "Requirement already satisfied: joblib>=1.2.0 in /usr/local/lib/python3.11/dist-packages (from scikit-learn) (1.4.2)\n",
            "Requirement already satisfied: threadpoolctl>=3.1.0 in /usr/local/lib/python3.11/dist-packages (from scikit-learn) (3.5.0)\n",
            "Downloading scikit_learn-1.6.1-cp311-cp311-manylinux_2_17_x86_64.manylinux2014_x86_64.whl (13.5 MB)\n",
            "\u001b[2K   \u001b[90m━━━━━━━━━━━━━━━━━━━━━━━━━━━━━━━━━━━━━━━━\u001b[0m \u001b[32m13.5/13.5 MB\u001b[0m \u001b[31m20.3 MB/s\u001b[0m eta \u001b[36m0:00:00\u001b[0m\n",
            "\u001b[?25hInstalling collected packages: scikit-learn\n",
            "  Attempting uninstall: scikit-learn\n",
            "    Found existing installation: scikit-learn 1.6.0\n",
            "    Uninstalling scikit-learn-1.6.0:\n",
            "      Successfully uninstalled scikit-learn-1.6.0\n",
            "Successfully installed scikit-learn-1.6.1\n"
          ]
        }
      ],
      "source": [
        "!pip install keras\n",
        "!pip install kaggle\n",
        "!pip install tensorflow\n",
        "!pip install python-docx\n",
        "!pip install --upgrade scikit-learn"
      ]
    },
    {
      "cell_type": "code",
      "source": [
        "import re\n",
        "import os\n",
        "import docx\n",
        "import torch\n",
        "import zipfile\n",
        "import numpy as np\n",
        "import pandas as pd\n",
        "import torch.nn as nn\n",
        "import tensorflow as tf\n",
        "from google.colab import files\n",
        "import torch.nn.functional as F\n",
        "import matplotlib.pyplot as plt\n",
        "from gensim.models import Word2Vec\n",
        "from tensorflow.keras.models import Model\n",
        "from torch.utils.data import Dataset, DataLoader\n",
        "from sklearn.linear_model import LinearRegression\n",
        "from tensorflow.keras import layers, Model, Input\n",
        "from sklearn.ensemble import RandomForestRegressor\n",
        "from transformers import TFBertModel, BertTokenizer\n",
        "from sklearn.model_selection import train_test_split\n",
        "from tensorflow.keras.preprocessing.text import Tokenizer\n",
        "from sklearn.feature_extraction.text import CountVectorizer\n",
        "from tensorflow.keras.preprocessing.sequence import pad_sequences\n",
        "from tokenizers import models, trainers, pre_tokenizers, processors\n",
        "from sklearn.metrics import mean_squared_error, mean_absolute_error, r2_score\n",
        "from tensorflow.keras.layers import Input, Embedding, Conv1D, GlobalMaxPooling1D, Dense, Lambda, Subtract, Dropout\n"
      ],
      "metadata": {
        "id": "02P1CYgJCgVX"
      },
      "execution_count": null,
      "outputs": []
    },
    {
      "cell_type": "markdown",
      "source": [
        "# Kaggle login and  extract data"
      ],
      "metadata": {
        "id": "wdL3NKjMCl0E"
      }
    },
    {
      "cell_type": "code",
      "source": [
        "files.upload()\n",
        "\n",
        "!mkdir -p ~/.kaggle\n",
        "!mv kaggle.json ~/.kaggle/\n",
        "!chmod 600 ~/.kaggle/kaggle.json\n",
        "!kaggle competitions download -c home-depot-product-search-relevance"
      ],
      "metadata": {
        "colab": {
          "base_uri": "https://localhost:8080/",
          "height": 125
        },
        "id": "B0hYUn8-CnfN",
        "outputId": "e29ad99c-d60a-47d9-e369-e51fc1f579c0"
      },
      "execution_count": null,
      "outputs": [
        {
          "output_type": "display_data",
          "data": {
            "text/plain": [
              "<IPython.core.display.HTML object>"
            ],
            "text/html": [
              "\n",
              "     <input type=\"file\" id=\"files-bff12e9f-c1c6-41c2-9f9f-3d2828b6ff1e\" name=\"files[]\" multiple disabled\n",
              "        style=\"border:none\" />\n",
              "     <output id=\"result-bff12e9f-c1c6-41c2-9f9f-3d2828b6ff1e\">\n",
              "      Upload widget is only available when the cell has been executed in the\n",
              "      current browser session. Please rerun this cell to enable.\n",
              "      </output>\n",
              "      <script>// Copyright 2017 Google LLC\n",
              "//\n",
              "// Licensed under the Apache License, Version 2.0 (the \"License\");\n",
              "// you may not use this file except in compliance with the License.\n",
              "// You may obtain a copy of the License at\n",
              "//\n",
              "//      http://www.apache.org/licenses/LICENSE-2.0\n",
              "//\n",
              "// Unless required by applicable law or agreed to in writing, software\n",
              "// distributed under the License is distributed on an \"AS IS\" BASIS,\n",
              "// WITHOUT WARRANTIES OR CONDITIONS OF ANY KIND, either express or implied.\n",
              "// See the License for the specific language governing permissions and\n",
              "// limitations under the License.\n",
              "\n",
              "/**\n",
              " * @fileoverview Helpers for google.colab Python module.\n",
              " */\n",
              "(function(scope) {\n",
              "function span(text, styleAttributes = {}) {\n",
              "  const element = document.createElement('span');\n",
              "  element.textContent = text;\n",
              "  for (const key of Object.keys(styleAttributes)) {\n",
              "    element.style[key] = styleAttributes[key];\n",
              "  }\n",
              "  return element;\n",
              "}\n",
              "\n",
              "// Max number of bytes which will be uploaded at a time.\n",
              "const MAX_PAYLOAD_SIZE = 100 * 1024;\n",
              "\n",
              "function _uploadFiles(inputId, outputId) {\n",
              "  const steps = uploadFilesStep(inputId, outputId);\n",
              "  const outputElement = document.getElementById(outputId);\n",
              "  // Cache steps on the outputElement to make it available for the next call\n",
              "  // to uploadFilesContinue from Python.\n",
              "  outputElement.steps = steps;\n",
              "\n",
              "  return _uploadFilesContinue(outputId);\n",
              "}\n",
              "\n",
              "// This is roughly an async generator (not supported in the browser yet),\n",
              "// where there are multiple asynchronous steps and the Python side is going\n",
              "// to poll for completion of each step.\n",
              "// This uses a Promise to block the python side on completion of each step,\n",
              "// then passes the result of the previous step as the input to the next step.\n",
              "function _uploadFilesContinue(outputId) {\n",
              "  const outputElement = document.getElementById(outputId);\n",
              "  const steps = outputElement.steps;\n",
              "\n",
              "  const next = steps.next(outputElement.lastPromiseValue);\n",
              "  return Promise.resolve(next.value.promise).then((value) => {\n",
              "    // Cache the last promise value to make it available to the next\n",
              "    // step of the generator.\n",
              "    outputElement.lastPromiseValue = value;\n",
              "    return next.value.response;\n",
              "  });\n",
              "}\n",
              "\n",
              "/**\n",
              " * Generator function which is called between each async step of the upload\n",
              " * process.\n",
              " * @param {string} inputId Element ID of the input file picker element.\n",
              " * @param {string} outputId Element ID of the output display.\n",
              " * @return {!Iterable<!Object>} Iterable of next steps.\n",
              " */\n",
              "function* uploadFilesStep(inputId, outputId) {\n",
              "  const inputElement = document.getElementById(inputId);\n",
              "  inputElement.disabled = false;\n",
              "\n",
              "  const outputElement = document.getElementById(outputId);\n",
              "  outputElement.innerHTML = '';\n",
              "\n",
              "  const pickedPromise = new Promise((resolve) => {\n",
              "    inputElement.addEventListener('change', (e) => {\n",
              "      resolve(e.target.files);\n",
              "    });\n",
              "  });\n",
              "\n",
              "  const cancel = document.createElement('button');\n",
              "  inputElement.parentElement.appendChild(cancel);\n",
              "  cancel.textContent = 'Cancel upload';\n",
              "  const cancelPromise = new Promise((resolve) => {\n",
              "    cancel.onclick = () => {\n",
              "      resolve(null);\n",
              "    };\n",
              "  });\n",
              "\n",
              "  // Wait for the user to pick the files.\n",
              "  const files = yield {\n",
              "    promise: Promise.race([pickedPromise, cancelPromise]),\n",
              "    response: {\n",
              "      action: 'starting',\n",
              "    }\n",
              "  };\n",
              "\n",
              "  cancel.remove();\n",
              "\n",
              "  // Disable the input element since further picks are not allowed.\n",
              "  inputElement.disabled = true;\n",
              "\n",
              "  if (!files) {\n",
              "    return {\n",
              "      response: {\n",
              "        action: 'complete',\n",
              "      }\n",
              "    };\n",
              "  }\n",
              "\n",
              "  for (const file of files) {\n",
              "    const li = document.createElement('li');\n",
              "    li.append(span(file.name, {fontWeight: 'bold'}));\n",
              "    li.append(span(\n",
              "        `(${file.type || 'n/a'}) - ${file.size} bytes, ` +\n",
              "        `last modified: ${\n",
              "            file.lastModifiedDate ? file.lastModifiedDate.toLocaleDateString() :\n",
              "                                    'n/a'} - `));\n",
              "    const percent = span('0% done');\n",
              "    li.appendChild(percent);\n",
              "\n",
              "    outputElement.appendChild(li);\n",
              "\n",
              "    const fileDataPromise = new Promise((resolve) => {\n",
              "      const reader = new FileReader();\n",
              "      reader.onload = (e) => {\n",
              "        resolve(e.target.result);\n",
              "      };\n",
              "      reader.readAsArrayBuffer(file);\n",
              "    });\n",
              "    // Wait for the data to be ready.\n",
              "    let fileData = yield {\n",
              "      promise: fileDataPromise,\n",
              "      response: {\n",
              "        action: 'continue',\n",
              "      }\n",
              "    };\n",
              "\n",
              "    // Use a chunked sending to avoid message size limits. See b/62115660.\n",
              "    let position = 0;\n",
              "    do {\n",
              "      const length = Math.min(fileData.byteLength - position, MAX_PAYLOAD_SIZE);\n",
              "      const chunk = new Uint8Array(fileData, position, length);\n",
              "      position += length;\n",
              "\n",
              "      const base64 = btoa(String.fromCharCode.apply(null, chunk));\n",
              "      yield {\n",
              "        response: {\n",
              "          action: 'append',\n",
              "          file: file.name,\n",
              "          data: base64,\n",
              "        },\n",
              "      };\n",
              "\n",
              "      let percentDone = fileData.byteLength === 0 ?\n",
              "          100 :\n",
              "          Math.round((position / fileData.byteLength) * 100);\n",
              "      percent.textContent = `${percentDone}% done`;\n",
              "\n",
              "    } while (position < fileData.byteLength);\n",
              "  }\n",
              "\n",
              "  // All done.\n",
              "  yield {\n",
              "    response: {\n",
              "      action: 'complete',\n",
              "    }\n",
              "  };\n",
              "}\n",
              "\n",
              "scope.google = scope.google || {};\n",
              "scope.google.colab = scope.google.colab || {};\n",
              "scope.google.colab._files = {\n",
              "  _uploadFiles,\n",
              "  _uploadFilesContinue,\n",
              "};\n",
              "})(self);\n",
              "</script> "
            ]
          },
          "metadata": {}
        },
        {
          "output_type": "stream",
          "name": "stdout",
          "text": [
            "Saving kaggle.json to kaggle.json\n",
            "Downloading home-depot-product-search-relevance.zip to /content\n",
            " 99% 69.0M/69.4M [00:04<00:00, 21.4MB/s]\n",
            "100% 69.4M/69.4M [00:04<00:00, 16.0MB/s]\n"
          ]
        }
      ]
    },
    {
      "cell_type": "markdown",
      "source": [
        "#Extract data from unzip"
      ],
      "metadata": {
        "id": "LwNLLXhGCz2a"
      }
    },
    {
      "cell_type": "code",
      "source": [
        "with zipfile.ZipFile(\"/content/home-depot-product-search-relevance.zip\", \"r\") as zip_ref:\n",
        "    zip_ref.extractall(\"home_depot\")\n",
        "\n",
        "with zipfile.ZipFile(\"/content/home_depot/attributes.csv.zip\", \"r\") as zip_ref:\n",
        "    zip_ref.extractall(\"attributes\")\n",
        "with zipfile.ZipFile(\"/content/home_depot/product_descriptions.csv.zip\", \"r\") as zip_ref:\n",
        "    zip_ref.extractall(\"product_descriptions\")\n",
        "with zipfile.ZipFile(\"/content/home_depot/sample_submission.csv.zip\", \"r\") as zip_ref:\n",
        "    zip_ref.extractall(\"sample_submission\")\n",
        "with zipfile.ZipFile(\"/content/home_depot/test.csv.zip\", \"r\") as zip_ref:\n",
        "    zip_ref.extractall(\"test\")\n",
        "with zipfile.ZipFile(\"/content/home_depot/train.csv.zip\", \"r\") as zip_ref:\n",
        "    zip_ref.extractall(\"train\")"
      ],
      "metadata": {
        "id": "cobrBsyqDDot"
      },
      "execution_count": null,
      "outputs": []
    },
    {
      "cell_type": "code",
      "source": [
        "attributes = pd.read_csv(\"/content/attributes/attributes.csv\")\n",
        "product_descriptions = pd.read_csv(\"/content/product_descriptions/product_descriptions.csv\")\n",
        "sample_submission = pd.read_csv(\"/content/sample_submission/sample_submission.csv\")\n",
        "\n",
        "train = pd.read_csv(\"/content/train/train.csv\", encoding='latin1')\n",
        "test = pd.read_csv(\"/content/test/test.csv\", encoding='latin1')\n"
      ],
      "metadata": {
        "id": "PYzNWXlFC-z5"
      },
      "execution_count": null,
      "outputs": []
    },
    {
      "cell_type": "markdown",
      "source": [
        "#1"
      ],
      "metadata": {
        "id": "1hlexFb2DCgI"
      }
    },
    {
      "cell_type": "markdown",
      "source": [
        "##a"
      ],
      "metadata": {
        "id": "XJmwbiP-DRCR"
      }
    },
    {
      "cell_type": "markdown",
      "source": [
        "function that Split text into single characters with space in between"
      ],
      "metadata": {
        "id": "hBY_zXylDS0s"
      }
    },
    {
      "cell_type": "code",
      "source": [
        "def text_to_char_sequence(text):\n",
        "    return ' '.join(list(str(text)))\n",
        "\n",
        "\n",
        "train['search_term_chars'] = train['search_term'].apply(text_to_char_sequence)\n",
        "train['product_title_chars'] = train['product_title'].apply(text_to_char_sequence)\n",
        "\n",
        "test['search_term_chars'] = test['search_term'].apply(text_to_char_sequence)\n",
        "test['product_title_chars'] = test['product_title'].apply(text_to_char_sequence)"
      ],
      "metadata": {
        "id": "ME-ZP5ATDO1B"
      },
      "execution_count": null,
      "outputs": []
    },
    {
      "cell_type": "markdown",
      "source": [
        "#b"
      ],
      "metadata": {
        "id": "u8E80yS3Da4F"
      }
    },
    {
      "cell_type": "markdown",
      "source": [
        "# Text to sequence"
      ],
      "metadata": {
        "id": "VjfiZDZPDr2d"
      }
    },
    {
      "cell_type": "code",
      "source": [
        "# Combine search terms and product descriptions for consistent tokenization\n",
        "texts = train['search_term'].tolist() + train['product_title'].tolist()\n",
        "\n",
        "# Character-level tokenization\n",
        "tokenizer = Tokenizer(char_level=True, lower=True)\n",
        "tokenizer.fit_on_texts(texts)\n",
        "\n",
        "# Convert text to sequences\n",
        "train_search_seq = tokenizer.texts_to_sequences(train['search_term'])\n",
        "train_title_seq = tokenizer.texts_to_sequences(train['product_title'])\n",
        "test_search_seq = tokenizer.texts_to_sequences(test['search_term'])\n",
        "test_title_seq = tokenizer.texts_to_sequences(test['product_title'])\n",
        "\n",
        "# Padding sequences to a fixed length\n",
        "max_seq_length = 293\n",
        "train_search_seq = pad_sequences(train_search_seq, maxlen=max_seq_length, padding='post')\n",
        "train_title_seq = pad_sequences(train_title_seq, maxlen=max_seq_length, padding='post')\n",
        "test_search_seq = pad_sequences(test_search_seq, maxlen=max_seq_length, padding='post')\n",
        "test_title_seq = pad_sequences(test_title_seq, maxlen=max_seq_length, padding='post')"
      ],
      "metadata": {
        "id": "7_Ddw1aZDb9t"
      },
      "execution_count": null,
      "outputs": []
    },
    {
      "cell_type": "markdown",
      "source": [
        "# Siameses network"
      ],
      "metadata": {
        "id": "jD71XBo8DnMl"
      }
    },
    {
      "cell_type": "markdown",
      "source": [
        "##CNN"
      ],
      "metadata": {
        "id": "dlLvhfQ9DwT1"
      }
    },
    {
      "cell_type": "code",
      "source": [
        "def create_hidden_layer(input_shape):\n",
        "    inputs = Input(shape=input_shape)\n",
        "    x = Dense(64, activation='relu')(inputs)\n",
        "    x = Dense(32, activation='relu')(x)\n",
        "    return Model(inputs, x)\n",
        "\n",
        "def distance_layer(inputs):\n",
        "    x1, x2 = inputs\n",
        "    return tf.reduce_sum(tf.square(x1 - x2), axis=1, keepdims=True)\n",
        "\n",
        "\n",
        "# Define the subnetwork\n",
        "def create_siamese_branch(input_shape):\n",
        "    inputs = Input(shape=input_shape)\n",
        "    x = layers.Conv1D(64, 10, activation='relu')(inputs)\n",
        "    x = layers.MaxPooling1D(2)(x)\n",
        "    x = layers.Conv1D(128, 7, activation='relu')(x)\n",
        "    x = layers.MaxPooling1D(2)(x)\n",
        "    x = layers.Conv1D(128, 4, activation='relu')(x)\n",
        "    x = layers.MaxPooling1D(2)(x)\n",
        "    x = layers.Conv1D(256, 4, activation='relu')(x)\n",
        "    x = layers.Flatten()(x)\n",
        "    x = layers.Dense(4096, activation='sigmoid')(x)\n",
        "    return Model(inputs, x)\n",
        "\n",
        "# Input shapes\n",
        "input_shape = (max_seq_length,)\n",
        "\n",
        "# Define inputs\n",
        "input1 = Input(shape=input_shape, name=\"search_input\")\n",
        "input2 = Input(shape=input_shape, name=\"title_input\")\n",
        "\n",
        "# Shared subnetwork\n",
        "shared_network = create_hidden_layer(input_shape)\n",
        "\n",
        "# Process inputs through the subnetwork\n",
        "output1 = shared_network(input1)\n",
        "output2 = shared_network(input2)\n",
        "\n",
        "# Compute the distance\n",
        "distance = Lambda(distance_layer, name=\"distance_layer\")([output1, output2])\n",
        "\n",
        "# Output layer\n",
        "output = Dense(1, activation='sigmoid', name=\"output_layer\")(distance)\n",
        "\n",
        "# Build the model\n",
        "siamese_model = Model(inputs=[input1, input2], outputs=output)\n",
        "\n",
        "# Compile the model\n",
        "siamese_model.compile(optimizer=tf.keras.optimizers.Adam(learning_rate=0.001), loss='mse', metrics=['mae',tf.keras.metrics.RootMeanSquaredError(name='rmse') ])\n",
        "\n",
        "siamese_model.summary()"
      ],
      "metadata": {
        "colab": {
          "base_uri": "https://localhost:8080/",
          "height": 340
        },
        "id": "wE0YFt-eDvbt",
        "outputId": "65e4b3af-a71d-479c-d591-73f3eb41512b"
      },
      "execution_count": null,
      "outputs": [
        {
          "output_type": "display_data",
          "data": {
            "text/plain": [
              "\u001b[1mModel: \"functional_1\"\u001b[0m\n"
            ],
            "text/html": [
              "<pre style=\"white-space:pre;overflow-x:auto;line-height:normal;font-family:Menlo,'DejaVu Sans Mono',consolas,'Courier New',monospace\"><span style=\"font-weight: bold\">Model: \"functional_1\"</span>\n",
              "</pre>\n"
            ]
          },
          "metadata": {}
        },
        {
          "output_type": "display_data",
          "data": {
            "text/plain": [
              "┏━━━━━━━━━━━━━━━━━━━━━━━━━━━┳━━━━━━━━━━━━━━━━━━━━━━━━┳━━━━━━━━━━━━━━━━┳━━━━━━━━━━━━━━━━━━━━━━━━┓\n",
              "┃\u001b[1m \u001b[0m\u001b[1mLayer (type)             \u001b[0m\u001b[1m \u001b[0m┃\u001b[1m \u001b[0m\u001b[1mOutput Shape          \u001b[0m\u001b[1m \u001b[0m┃\u001b[1m \u001b[0m\u001b[1m       Param #\u001b[0m\u001b[1m \u001b[0m┃\u001b[1m \u001b[0m\u001b[1mConnected to          \u001b[0m\u001b[1m \u001b[0m┃\n",
              "┡━━━━━━━━━━━━━━━━━━━━━━━━━━━╇━━━━━━━━━━━━━━━━━━━━━━━━╇━━━━━━━━━━━━━━━━╇━━━━━━━━━━━━━━━━━━━━━━━━┩\n",
              "│ search_input (\u001b[38;5;33mInputLayer\u001b[0m) │ (\u001b[38;5;45mNone\u001b[0m, \u001b[38;5;34m293\u001b[0m)            │              \u001b[38;5;34m0\u001b[0m │ -                      │\n",
              "├───────────────────────────┼────────────────────────┼────────────────┼────────────────────────┤\n",
              "│ title_input (\u001b[38;5;33mInputLayer\u001b[0m)  │ (\u001b[38;5;45mNone\u001b[0m, \u001b[38;5;34m293\u001b[0m)            │              \u001b[38;5;34m0\u001b[0m │ -                      │\n",
              "├───────────────────────────┼────────────────────────┼────────────────┼────────────────────────┤\n",
              "│ functional (\u001b[38;5;33mFunctional\u001b[0m)   │ (\u001b[38;5;45mNone\u001b[0m, \u001b[38;5;34m32\u001b[0m)             │         \u001b[38;5;34m20,896\u001b[0m │ search_input[\u001b[38;5;34m0\u001b[0m][\u001b[38;5;34m0\u001b[0m],    │\n",
              "│                           │                        │                │ title_input[\u001b[38;5;34m0\u001b[0m][\u001b[38;5;34m0\u001b[0m]      │\n",
              "├───────────────────────────┼────────────────────────┼────────────────┼────────────────────────┤\n",
              "│ distance_layer (\u001b[38;5;33mLambda\u001b[0m)   │ (\u001b[38;5;45mNone\u001b[0m, \u001b[38;5;34m1\u001b[0m)              │              \u001b[38;5;34m0\u001b[0m │ functional[\u001b[38;5;34m0\u001b[0m][\u001b[38;5;34m0\u001b[0m],      │\n",
              "│                           │                        │                │ functional[\u001b[38;5;34m1\u001b[0m][\u001b[38;5;34m0\u001b[0m]       │\n",
              "├───────────────────────────┼────────────────────────┼────────────────┼────────────────────────┤\n",
              "│ output_layer (\u001b[38;5;33mDense\u001b[0m)      │ (\u001b[38;5;45mNone\u001b[0m, \u001b[38;5;34m1\u001b[0m)              │              \u001b[38;5;34m2\u001b[0m │ distance_layer[\u001b[38;5;34m0\u001b[0m][\u001b[38;5;34m0\u001b[0m]   │\n",
              "└───────────────────────────┴────────────────────────┴────────────────┴────────────────────────┘\n"
            ],
            "text/html": [
              "<pre style=\"white-space:pre;overflow-x:auto;line-height:normal;font-family:Menlo,'DejaVu Sans Mono',consolas,'Courier New',monospace\">┏━━━━━━━━━━━━━━━━━━━━━━━━━━━┳━━━━━━━━━━━━━━━━━━━━━━━━┳━━━━━━━━━━━━━━━━┳━━━━━━━━━━━━━━━━━━━━━━━━┓\n",
              "┃<span style=\"font-weight: bold\"> Layer (type)              </span>┃<span style=\"font-weight: bold\"> Output Shape           </span>┃<span style=\"font-weight: bold\">        Param # </span>┃<span style=\"font-weight: bold\"> Connected to           </span>┃\n",
              "┡━━━━━━━━━━━━━━━━━━━━━━━━━━━╇━━━━━━━━━━━━━━━━━━━━━━━━╇━━━━━━━━━━━━━━━━╇━━━━━━━━━━━━━━━━━━━━━━━━┩\n",
              "│ search_input (<span style=\"color: #0087ff; text-decoration-color: #0087ff\">InputLayer</span>) │ (<span style=\"color: #00d7ff; text-decoration-color: #00d7ff\">None</span>, <span style=\"color: #00af00; text-decoration-color: #00af00\">293</span>)            │              <span style=\"color: #00af00; text-decoration-color: #00af00\">0</span> │ -                      │\n",
              "├───────────────────────────┼────────────────────────┼────────────────┼────────────────────────┤\n",
              "│ title_input (<span style=\"color: #0087ff; text-decoration-color: #0087ff\">InputLayer</span>)  │ (<span style=\"color: #00d7ff; text-decoration-color: #00d7ff\">None</span>, <span style=\"color: #00af00; text-decoration-color: #00af00\">293</span>)            │              <span style=\"color: #00af00; text-decoration-color: #00af00\">0</span> │ -                      │\n",
              "├───────────────────────────┼────────────────────────┼────────────────┼────────────────────────┤\n",
              "│ functional (<span style=\"color: #0087ff; text-decoration-color: #0087ff\">Functional</span>)   │ (<span style=\"color: #00d7ff; text-decoration-color: #00d7ff\">None</span>, <span style=\"color: #00af00; text-decoration-color: #00af00\">32</span>)             │         <span style=\"color: #00af00; text-decoration-color: #00af00\">20,896</span> │ search_input[<span style=\"color: #00af00; text-decoration-color: #00af00\">0</span>][<span style=\"color: #00af00; text-decoration-color: #00af00\">0</span>],    │\n",
              "│                           │                        │                │ title_input[<span style=\"color: #00af00; text-decoration-color: #00af00\">0</span>][<span style=\"color: #00af00; text-decoration-color: #00af00\">0</span>]      │\n",
              "├───────────────────────────┼────────────────────────┼────────────────┼────────────────────────┤\n",
              "│ distance_layer (<span style=\"color: #0087ff; text-decoration-color: #0087ff\">Lambda</span>)   │ (<span style=\"color: #00d7ff; text-decoration-color: #00d7ff\">None</span>, <span style=\"color: #00af00; text-decoration-color: #00af00\">1</span>)              │              <span style=\"color: #00af00; text-decoration-color: #00af00\">0</span> │ functional[<span style=\"color: #00af00; text-decoration-color: #00af00\">0</span>][<span style=\"color: #00af00; text-decoration-color: #00af00\">0</span>],      │\n",
              "│                           │                        │                │ functional[<span style=\"color: #00af00; text-decoration-color: #00af00\">1</span>][<span style=\"color: #00af00; text-decoration-color: #00af00\">0</span>]       │\n",
              "├───────────────────────────┼────────────────────────┼────────────────┼────────────────────────┤\n",
              "│ output_layer (<span style=\"color: #0087ff; text-decoration-color: #0087ff\">Dense</span>)      │ (<span style=\"color: #00d7ff; text-decoration-color: #00d7ff\">None</span>, <span style=\"color: #00af00; text-decoration-color: #00af00\">1</span>)              │              <span style=\"color: #00af00; text-decoration-color: #00af00\">2</span> │ distance_layer[<span style=\"color: #00af00; text-decoration-color: #00af00\">0</span>][<span style=\"color: #00af00; text-decoration-color: #00af00\">0</span>]   │\n",
              "└───────────────────────────┴────────────────────────┴────────────────┴────────────────────────┘\n",
              "</pre>\n"
            ]
          },
          "metadata": {}
        },
        {
          "output_type": "display_data",
          "data": {
            "text/plain": [
              "\u001b[1m Total params: \u001b[0m\u001b[38;5;34m20,898\u001b[0m (81.63 KB)\n"
            ],
            "text/html": [
              "<pre style=\"white-space:pre;overflow-x:auto;line-height:normal;font-family:Menlo,'DejaVu Sans Mono',consolas,'Courier New',monospace\"><span style=\"font-weight: bold\"> Total params: </span><span style=\"color: #00af00; text-decoration-color: #00af00\">20,898</span> (81.63 KB)\n",
              "</pre>\n"
            ]
          },
          "metadata": {}
        },
        {
          "output_type": "display_data",
          "data": {
            "text/plain": [
              "\u001b[1m Trainable params: \u001b[0m\u001b[38;5;34m20,898\u001b[0m (81.63 KB)\n"
            ],
            "text/html": [
              "<pre style=\"white-space:pre;overflow-x:auto;line-height:normal;font-family:Menlo,'DejaVu Sans Mono',consolas,'Courier New',monospace\"><span style=\"font-weight: bold\"> Trainable params: </span><span style=\"color: #00af00; text-decoration-color: #00af00\">20,898</span> (81.63 KB)\n",
              "</pre>\n"
            ]
          },
          "metadata": {}
        },
        {
          "output_type": "display_data",
          "data": {
            "text/plain": [
              "\u001b[1m Non-trainable params: \u001b[0m\u001b[38;5;34m0\u001b[0m (0.00 B)\n"
            ],
            "text/html": [
              "<pre style=\"white-space:pre;overflow-x:auto;line-height:normal;font-family:Menlo,'DejaVu Sans Mono',consolas,'Courier New',monospace\"><span style=\"font-weight: bold\"> Non-trainable params: </span><span style=\"color: #00af00; text-decoration-color: #00af00\">0</span> (0.00 B)\n",
              "</pre>\n"
            ]
          },
          "metadata": {}
        }
      ]
    },
    {
      "cell_type": "code",
      "source": [
        "train_search_seq = train_search_seq.reshape(train_search_seq.shape[0], train_search_seq.shape[1])\n",
        "train_title_seq = train_title_seq.reshape(train_title_seq.shape[0], train_title_seq.shape[1])\n",
        "\n",
        "test_search_seq = test_search_seq.reshape(test_search_seq.shape[0], test_search_seq.shape[1])\n",
        "test_title_seq = test_title_seq.reshape(test_title_seq.shape[0], test_title_seq.shape[1])\n",
        "\n",
        "# Define the target variable (relevance score)\n",
        "train_labels = train['relevance'].values\n",
        "\n",
        "# Prepare data\n",
        "train_search_seq = train_search_seq.astype('float32')\n",
        "train_title_seq = train_title_seq.astype('float32')\n",
        "\n",
        "# Train the model\n",
        "history_char =siamese_model.fit(\n",
        "    [train_search_seq, train_title_seq],\n",
        "    train_labels,\n",
        "    batch_size=32,\n",
        "    epochs=20,\n",
        "    validation_split=0.2\n",
        ")\n"
      ],
      "metadata": {
        "colab": {
          "base_uri": "https://localhost:8080/"
        },
        "id": "lKurq_G-El6n",
        "outputId": "26f946fb-3fb3-435d-b38e-e6299a4d6657"
      },
      "execution_count": null,
      "outputs": [
        {
          "output_type": "stream",
          "name": "stdout",
          "text": [
            "Epoch 1/20\n",
            "\u001b[1m1852/1852\u001b[0m \u001b[32m━━━━━━━━━━━━━━━━━━━━\u001b[0m\u001b[37m\u001b[0m \u001b[1m3s\u001b[0m 2ms/step - loss: 2.5430 - mae: 1.5041 - rmse: 1.5946 - val_loss: 1.8850 - val_mae: 1.2706 - val_rmse: 1.3729\n",
            "Epoch 2/20\n",
            "\u001b[1m1852/1852\u001b[0m \u001b[32m━━━━━━━━━━━━━━━━━━━━\u001b[0m\u001b[37m\u001b[0m \u001b[1m3s\u001b[0m 2ms/step - loss: 2.3814 - mae: 1.4487 - rmse: 1.5432 - val_loss: 1.8292 - val_mae: 1.2485 - val_rmse: 1.3525\n",
            "Epoch 3/20\n",
            "\u001b[1m1852/1852\u001b[0m \u001b[32m━━━━━━━━━━━━━━━━━━━━\u001b[0m\u001b[37m\u001b[0m \u001b[1m3s\u001b[0m 2ms/step - loss: 2.3459 - mae: 1.4372 - rmse: 1.5316 - val_loss: 1.8066 - val_mae: 1.2394 - val_rmse: 1.3441\n",
            "Epoch 4/20\n",
            "\u001b[1m1852/1852\u001b[0m \u001b[32m━━━━━━━━━━━━━━━━━━━━\u001b[0m\u001b[37m\u001b[0m \u001b[1m3s\u001b[0m 2ms/step - loss: 2.3070 - mae: 1.4239 - rmse: 1.5189 - val_loss: 1.7966 - val_mae: 1.2353 - val_rmse: 1.3404\n",
            "Epoch 5/20\n",
            "\u001b[1m1852/1852\u001b[0m \u001b[32m━━━━━━━━━━━━━━━━━━━━\u001b[0m\u001b[37m\u001b[0m \u001b[1m3s\u001b[0m 2ms/step - loss: 2.2993 - mae: 1.4204 - rmse: 1.5163 - val_loss: 1.7920 - val_mae: 1.2335 - val_rmse: 1.3387\n",
            "Epoch 6/20\n",
            "\u001b[1m1852/1852\u001b[0m \u001b[32m━━━━━━━━━━━━━━━━━━━━\u001b[0m\u001b[37m\u001b[0m \u001b[1m3s\u001b[0m 2ms/step - loss: 2.2984 - mae: 1.4217 - rmse: 1.5161 - val_loss: 1.7899 - val_mae: 1.2327 - val_rmse: 1.3379\n",
            "Epoch 7/20\n",
            "\u001b[1m1852/1852\u001b[0m \u001b[32m━━━━━━━━━━━━━━━━━━━━\u001b[0m\u001b[37m\u001b[0m \u001b[1m3s\u001b[0m 2ms/step - loss: 2.3079 - mae: 1.4246 - rmse: 1.5192 - val_loss: 1.7890 - val_mae: 1.2323 - val_rmse: 1.3375\n",
            "Epoch 8/20\n",
            "\u001b[1m1852/1852\u001b[0m \u001b[32m━━━━━━━━━━━━━━━━━━━━\u001b[0m\u001b[37m\u001b[0m \u001b[1m3s\u001b[0m 2ms/step - loss: 2.2967 - mae: 1.4194 - rmse: 1.5155 - val_loss: 1.7885 - val_mae: 1.2321 - val_rmse: 1.3374\n",
            "Epoch 9/20\n",
            "\u001b[1m1852/1852\u001b[0m \u001b[32m━━━━━━━━━━━━━━━━━━━━\u001b[0m\u001b[37m\u001b[0m \u001b[1m3s\u001b[0m 2ms/step - loss: 2.2954 - mae: 1.4183 - rmse: 1.5151 - val_loss: 1.7883 - val_mae: 1.2320 - val_rmse: 1.3373\n",
            "Epoch 10/20\n",
            "\u001b[1m1852/1852\u001b[0m \u001b[32m━━━━━━━━━━━━━━━━━━━━\u001b[0m\u001b[37m\u001b[0m \u001b[1m3s\u001b[0m 2ms/step - loss: 2.2985 - mae: 1.4197 - rmse: 1.5161 - val_loss: 1.7882 - val_mae: 1.2320 - val_rmse: 1.3372\n",
            "Epoch 11/20\n",
            "\u001b[1m1852/1852\u001b[0m \u001b[32m━━━━━━━━━━━━━━━━━━━━\u001b[0m\u001b[37m\u001b[0m \u001b[1m3s\u001b[0m 2ms/step - loss: 2.3030 - mae: 1.4221 - rmse: 1.5176 - val_loss: 1.7882 - val_mae: 1.2319 - val_rmse: 1.3372\n",
            "Epoch 12/20\n",
            "\u001b[1m1852/1852\u001b[0m \u001b[32m━━━━━━━━━━━━━━━━━━━━\u001b[0m\u001b[37m\u001b[0m \u001b[1m3s\u001b[0m 2ms/step - loss: 2.2949 - mae: 1.4175 - rmse: 1.5149 - val_loss: 1.7881 - val_mae: 1.2319 - val_rmse: 1.3372\n",
            "Epoch 13/20\n",
            "\u001b[1m1852/1852\u001b[0m \u001b[32m━━━━━━━━━━━━━━━━━━━━\u001b[0m\u001b[37m\u001b[0m \u001b[1m3s\u001b[0m 2ms/step - loss: 2.2941 - mae: 1.4186 - rmse: 1.5146 - val_loss: 1.7881 - val_mae: 1.2319 - val_rmse: 1.3372\n",
            "Epoch 14/20\n",
            "\u001b[1m1852/1852\u001b[0m \u001b[32m━━━━━━━━━━━━━━━━━━━━\u001b[0m\u001b[37m\u001b[0m \u001b[1m3s\u001b[0m 2ms/step - loss: 2.2948 - mae: 1.4196 - rmse: 1.5148 - val_loss: 1.7881 - val_mae: 1.2319 - val_rmse: 1.3372\n",
            "Epoch 15/20\n",
            "\u001b[1m1852/1852\u001b[0m \u001b[32m━━━━━━━━━━━━━━━━━━━━\u001b[0m\u001b[37m\u001b[0m \u001b[1m4s\u001b[0m 2ms/step - loss: 2.2957 - mae: 1.4194 - rmse: 1.5151 - val_loss: 1.7881 - val_mae: 1.2319 - val_rmse: 1.3372\n",
            "Epoch 16/20\n",
            "\u001b[1m1852/1852\u001b[0m \u001b[32m━━━━━━━━━━━━━━━━━━━━\u001b[0m\u001b[37m\u001b[0m \u001b[1m3s\u001b[0m 2ms/step - loss: 2.2941 - mae: 1.4190 - rmse: 1.5146 - val_loss: 1.7881 - val_mae: 1.2319 - val_rmse: 1.3372\n",
            "Epoch 17/20\n",
            "\u001b[1m1852/1852\u001b[0m \u001b[32m━━━━━━━━━━━━━━━━━━━━\u001b[0m\u001b[37m\u001b[0m \u001b[1m3s\u001b[0m 2ms/step - loss: 2.2950 - mae: 1.4192 - rmse: 1.5149 - val_loss: 1.7881 - val_mae: 1.2319 - val_rmse: 1.3372\n",
            "Epoch 18/20\n",
            "\u001b[1m1852/1852\u001b[0m \u001b[32m━━━━━━━━━━━━━━━━━━━━\u001b[0m\u001b[37m\u001b[0m \u001b[1m4s\u001b[0m 2ms/step - loss: 2.2852 - mae: 1.4154 - rmse: 1.5117 - val_loss: 1.7881 - val_mae: 1.2319 - val_rmse: 1.3372\n",
            "Epoch 19/20\n",
            "\u001b[1m1852/1852\u001b[0m \u001b[32m━━━━━━━━━━━━━━━━━━━━\u001b[0m\u001b[37m\u001b[0m \u001b[1m3s\u001b[0m 2ms/step - loss: 2.2898 - mae: 1.4169 - rmse: 1.5132 - val_loss: 1.7881 - val_mae: 1.2319 - val_rmse: 1.3372\n",
            "Epoch 20/20\n",
            "\u001b[1m1852/1852\u001b[0m \u001b[32m━━━━━━━━━━━━━━━━━━━━\u001b[0m\u001b[37m\u001b[0m \u001b[1m3s\u001b[0m 2ms/step - loss: 2.2969 - mae: 1.4195 - rmse: 1.5156 - val_loss: 1.7881 - val_mae: 1.2319 - val_rmse: 1.3372\n"
          ]
        }
      ]
    },
    {
      "cell_type": "code",
      "source": [
        "predictions = siamese_model.predict([test_search_seq, test_title_seq])\n",
        "predictions = pd.DataFrame(predictions)\n",
        "predictions\n",
        "\n",
        "solution = pd.read_csv(\"/content/solution.csv\")\n",
        "\n",
        "predictions['id'] = solution['id']\n",
        "predictions.rename(columns={0: 'relevance'}, inplace=True)\n",
        "predictions\n",
        "\n",
        "# Merge the DataFrames on 'id'\n",
        "merged_df = pd.merge(predictions, solution, on='id', suffixes=('_pred', '_true'))\n",
        "\n",
        "# Filter out rows where the true relevance is -1\n",
        "filtered_df = merged_df[merged_df['relevance_true'] != -1]\n",
        "\n",
        "# Extract the predicted and true relevance\n",
        "predicted_relevance = filtered_df['relevance_pred'].values\n",
        "true_relevance = filtered_df['relevance_true'].values\n",
        "\n",
        "# Calculate RMSE\n",
        "rmse = np.sqrt(mean_squared_error(true_relevance, predicted_relevance))\n",
        "\n",
        "print(f\"Root Mean Squared Error (RMSE): {rmse}\")\n",
        "\n",
        "\n",
        "# Predict on the test set\n",
        "test_predictions = siamese_model.predict([test_search_seq, test_title_seq])\n",
        "\n",
        "# Rescale predictions back to original relevance score range\n",
        "test_predictions = test_predictions * train['relevance'].max()\n",
        "\n",
        "print(test_predictions)\n",
        "\n",
        "\n",
        "\n",
        "test_predictions = pd.DataFrame(test_predictions)\n",
        "\n",
        "solution['prediction'] = test_predictions[0]\n",
        "\n",
        "# Filter out rows where the true relevance is -1\n",
        "filtered_df = solution[solution['relevance'] != -1]\n",
        "\n",
        "# Extract the predicted and true relevance\n",
        "predicted_relevance = filtered_df['prediction'].values\n",
        "true_relevance = filtered_df['relevance'].values\n",
        "\n",
        "# Calculate RMSE\n",
        "rmse = np.sqrt(mean_squared_error(true_relevance, predicted_relevance))\n",
        "\n",
        "print(f\"Root Mean Squared Error (RMSE): {rmse}\")"
      ],
      "metadata": {
        "colab": {
          "base_uri": "https://localhost:8080/"
        },
        "id": "tZqWwYyNFa1j",
        "outputId": "8a3e78c5-8078-4331-cafd-26ccc2230e98"
      },
      "execution_count": null,
      "outputs": [
        {
          "output_type": "stream",
          "name": "stdout",
          "text": [
            "\u001b[1m5210/5210\u001b[0m \u001b[32m━━━━━━━━━━━━━━━━━━━━\u001b[0m\u001b[37m\u001b[0m \u001b[1m6s\u001b[0m 1ms/step\n",
            "Root Mean Squared Error (RMSE): 1.4806635583365144\n",
            "\u001b[1m5210/5210\u001b[0m \u001b[32m━━━━━━━━━━━━━━━━━━━━\u001b[0m\u001b[37m\u001b[0m \u001b[1m7s\u001b[0m 1ms/step\n",
            "[[3.]\n",
            " [3.]\n",
            " [3.]\n",
            " ...\n",
            " [3.]\n",
            " [3.]\n",
            " [3.]]\n",
            "Root Mean Squared Error (RMSE): 0.818697205695263\n"
          ]
        }
      ]
    },
    {
      "cell_type": "code",
      "source": [
        "def plot_training_history(history):\n",
        "    epochs = range(1, len(history.history['loss']) + 1)\n",
        "\n",
        "    plt.figure(figsize=(12, 8))\n",
        "\n",
        "    # Loss\n",
        "    plt.subplot(3, 1, 1)\n",
        "    plt.plot(epochs, history.history['loss'], label='Train Loss', marker='o')\n",
        "    plt.plot(epochs, history.history['val_loss'], label='Validation Loss', marker='o')\n",
        "    plt.title('Loss over Epochs')\n",
        "    plt.xlabel('Epochs')\n",
        "    plt.ylabel('Loss')\n",
        "    plt.legend()\n",
        "    plt.grid(True)\n",
        "\n",
        "    # MAE\n",
        "    plt.subplot(3, 1, 2)\n",
        "    plt.plot(epochs, history.history['mae'], label='Train MAE', marker='o')\n",
        "    plt.plot(epochs, history.history['val_mae'], label='Validation MAE', marker='o')\n",
        "    plt.title('Mean Absolute Error (MAE) over Epochs')\n",
        "    plt.xlabel('Epochs')\n",
        "    plt.ylabel('MAE')\n",
        "    plt.legend()\n",
        "    plt.grid(True)\n",
        "\n",
        "    # RMSE (if available)\n",
        "    if 'rmse' in history.history and 'val_rmse' in history.history:\n",
        "        plt.subplot(3, 1, 3)\n",
        "        plt.plot(epochs, history.history['rmse'], label='Train RMSE', marker='o')\n",
        "        plt.plot(epochs, history.history['val_rmse'], label='Validation RMSE', marker='o')\n",
        "        plt.title('Root Mean Squared Error (RMSE) over Epochs')\n",
        "        plt.xlabel('Epochs')\n",
        "        plt.ylabel('RMSE')\n",
        "        plt.legend()\n",
        "        plt.grid(True)\n",
        "\n",
        "    plt.tight_layout()\n",
        "    plt.show()\n",
        "\n",
        "# plot_training_history(history_char)\n"
      ],
      "metadata": {
        "id": "_KrhtliZFweo"
      },
      "execution_count": null,
      "outputs": []
    },
    {
      "cell_type": "code",
      "source": [
        "for key, values in history_char.history.items():\n",
        "    print(f\"{key}: {values}\")"
      ],
      "metadata": {
        "colab": {
          "base_uri": "https://localhost:8080/"
        },
        "id": "UF9tlAEKIy3g",
        "outputId": "270eaf56-4c16-45f2-95cc-44d6fb49987d"
      },
      "execution_count": null,
      "outputs": [
        {
          "output_type": "stream",
          "name": "stdout",
          "text": [
            "loss: [2.4855847358703613, 2.3697896003723145, 2.327979326248169, 2.310234785079956, 2.3022871017456055, 2.298654794692993, 2.2969770431518555, 2.2962026596069336, 2.295839548110962, 2.2956767082214355, 2.295597791671753, 2.2955596446990967, 2.295546531677246, 2.2955398559570312, 2.2955322265625, 2.2955336570739746, 2.295532464981079, 2.2955322265625, 2.295532464981079, 2.295531749725342]\n",
            "mae: [1.484370231628418, 1.4449888467788696, 1.4304425716400146, 1.4242364168167114, 1.4214421510696411, 1.4201629161834717, 1.4195716381072998, 1.419298768043518, 1.419171690940857, 1.4191081523895264, 1.4190922975540161, 1.4190813302993774, 1.419070839881897, 1.419067144393921, 1.419066309928894, 1.419066309928894, 1.4190658330917358, 1.4190664291381836, 1.419066071510315, 1.4190648794174194]\n",
            "rmse: [1.5765737295150757, 1.5394121408462524, 1.5257717370986938, 1.5199456214904785, 1.5173289775848389, 1.5161315202713013, 1.5155781507492065, 1.5153225660324097, 1.5152027606964111, 1.5151491165161133, 1.5151230096817017, 1.5151103734970093, 1.5151060819625854, 1.5151039361953735, 1.515101432800293, 1.5151017904281616, 1.515101432800293, 1.515101432800293, 1.515101432800293, 1.5151011943817139]\n",
            "val_loss: [1.8849637508392334, 1.8292027711868286, 1.8065521717071533, 1.796557068824768, 1.7920171022415161, 1.7899309396743774, 1.7889639139175415, 1.7885172367095947, 1.788310170173645, 1.788213849067688, 1.788169026374817, 1.7881478071212769, 1.7881381511688232, 1.7881337404251099, 1.7881320714950562, 1.788131594657898, 1.7881309986114502, 1.7881309986114502, 1.788130760192871, 1.788130760192871]\n",
            "val_mae: [1.2706164121627808, 1.2484797239303589, 1.2393759489059448, 1.2353371381759644, 1.2334989309310913, 1.2326520681381226, 1.2322602272033691, 1.2320789098739624, 1.2319934368133545, 1.2319564819335938, 1.2319368124008179, 1.2319283485412598, 1.2319250106811523, 1.2319227457046509, 1.2319225072860718, 1.2319215536117554, 1.2319213151931763, 1.2319213151931763, 1.2319213151931763, 1.2319213151931763]\n",
            "val_rmse: [1.3729398250579834, 1.352480173110962, 1.3440804481506348, 1.3403570652008057, 1.3386623859405518, 1.3378829956054688, 1.3375215530395508, 1.3373545408248901, 1.3372771739959717, 1.3372410535812378, 1.3372243642807007, 1.3372163772583008, 1.3372128009796143, 1.3372111320495605, 1.3372105360031128, 1.3372102975845337, 1.3372101783752441, 1.3372101783752441, 1.3372100591659546, 1.3372100591659546]\n"
          ]
        }
      ]
    },
    {
      "cell_type": "markdown",
      "source": [
        "##C"
      ],
      "metadata": {
        "id": "JAWaCw8sGSwy"
      }
    },
    {
      "cell_type": "markdown",
      "source": [
        "# Option 1"
      ],
      "metadata": {
        "id": "9-6Cs6sDRo55"
      }
    },
    {
      "cell_type": "code",
      "source": [
        "# Vectorize the character-level sequences\n",
        "vectorizer = CountVectorizer(analyzer='char', ngram_range=(1, 3))  # Character-level n-grams\n",
        "search_term_vec = vectorizer.fit_transform(train['search_term_chars'])\n",
        "product_title_vec = vectorizer.transform(train['product_title_chars'])\n",
        "\n",
        "# Combine features\n",
        "X_train = search_term_vec + product_title_vec  # Element-wise addition of sparse matrices\n",
        "y_train = train['relevance']\n",
        "\n",
        "# Train a simple benchmark model\n",
        "model = LinearRegression()\n",
        "model.fit(X_train, y_train)\n",
        "\n",
        "# Apply the same transformations to the test data\n",
        "search_term_vec_test = vectorizer.transform(test['search_term_chars'])\n",
        "product_title_vec_test = vectorizer.transform(test['product_title_chars'])\n",
        "X_test = search_term_vec_test + product_title_vec_test  # Combine test features\n",
        "\n",
        "# Predict relevance scores for the test data\n",
        "test['prediction'] = model.predict(X_test)"
      ],
      "metadata": {
        "id": "JeYQg8N3RhlT"
      },
      "execution_count": null,
      "outputs": []
    },
    {
      "cell_type": "markdown",
      "source": [
        "# Option 2"
      ],
      "metadata": {
        "id": "qN2sfJjJRsam"
      }
    },
    {
      "cell_type": "markdown",
      "source": [
        "## Shared Network"
      ],
      "metadata": {
        "id": "OVrM_uqPLKUp"
      }
    },
    {
      "cell_type": "code",
      "source": [
        "# Embedding dimension\n",
        "embedding_dim = 50\n",
        "\n",
        "# Define the shared embedding + convolutional network\n",
        "def shared_network(input_shape):\n",
        "    inputs = Input(shape=input_shape)\n",
        "    x = Embedding(input_dim=len(tokenizer.word_index) + 1, output_dim=embedding_dim)(inputs)\n",
        "    x = Conv1D(128, kernel_size=3, activation='relu')(x)\n",
        "    x = GlobalMaxPooling1D()(x)\n",
        "    x = Dense(64, activation='relu')(x)\n",
        "    return Model(inputs, x)\n",
        "\n",
        "# Input layers for search term and product description\n",
        "input_shape = (max_seq_length,)\n",
        "search_input = Input(shape=input_shape, name=\"search_input\")\n",
        "title_input = Input(shape=input_shape, name=\"title_input\")\n",
        "\n",
        "# Shared network\n",
        "shared_net = shared_network(input_shape)\n",
        "\n",
        "# Process both inputs through the shared network\n",
        "search_embedding = shared_net(search_input)\n",
        "title_embedding = shared_net(title_input)\n",
        "\n",
        "# Compute the absolute difference between embeddings\n",
        "distance = Lambda(lambda tensors: tf.abs(tensors[0] - tensors[1]))([search_embedding, title_embedding])\n",
        "\n",
        "# Add a dense layer and output layer\n",
        "x = Dense(32, activation='relu')(distance)\n",
        "output = Dense(1, activation='sigmoid', name=\"output_layer\")(x)\n",
        "\n",
        "# Build the Siamese model\n",
        "siamese_model = Model(inputs=[search_input, title_input], outputs=output)\n",
        "\n",
        "# Compile the model\n",
        "siamese_model.compile(optimizer=tf.keras.optimizers.Adam(learning_rate=0.001), loss='mse', metrics=['mae',tf.keras.metrics.RootMeanSquaredError(name='rmse') ])\n",
        "\n",
        "siamese_model.summary()\n",
        "\n",
        "\n",
        "# Convert relevance scores to a suitable range (0-1) if necessary\n",
        "train['relevance_normalized'] = train['relevance'] / train['relevance'].max()\n",
        "\n",
        "# Train the model\n",
        "history=siamese_model.fit(\n",
        "    [train_search_seq, train_title_seq],\n",
        "    train['relevance_normalized'],\n",
        "    batch_size=32,\n",
        "    epochs=20,\n",
        "    validation_split=0.2\n",
        ")"
      ],
      "metadata": {
        "colab": {
          "base_uri": "https://localhost:8080/",
          "height": 1000
        },
        "id": "AM3C1Q3PGWK5",
        "outputId": "a4d34ad5-faa0-4572-a320-80e31703523a"
      },
      "execution_count": null,
      "outputs": [
        {
          "output_type": "display_data",
          "data": {
            "text/plain": [
              "\u001b[1mModel: \"functional_5\"\u001b[0m\n"
            ],
            "text/html": [
              "<pre style=\"white-space:pre;overflow-x:auto;line-height:normal;font-family:Menlo,'DejaVu Sans Mono',consolas,'Courier New',monospace\"><span style=\"font-weight: bold\">Model: \"functional_5\"</span>\n",
              "</pre>\n"
            ]
          },
          "metadata": {}
        },
        {
          "output_type": "display_data",
          "data": {
            "text/plain": [
              "┏━━━━━━━━━━━━━━━━━━━━━━━━━━━┳━━━━━━━━━━━━━━━━━━━━━━━━┳━━━━━━━━━━━━━━━━┳━━━━━━━━━━━━━━━━━━━━━━━━┓\n",
              "┃\u001b[1m \u001b[0m\u001b[1mLayer (type)             \u001b[0m\u001b[1m \u001b[0m┃\u001b[1m \u001b[0m\u001b[1mOutput Shape          \u001b[0m\u001b[1m \u001b[0m┃\u001b[1m \u001b[0m\u001b[1m       Param #\u001b[0m\u001b[1m \u001b[0m┃\u001b[1m \u001b[0m\u001b[1mConnected to          \u001b[0m\u001b[1m \u001b[0m┃\n",
              "┡━━━━━━━━━━━━━━━━━━━━━━━━━━━╇━━━━━━━━━━━━━━━━━━━━━━━━╇━━━━━━━━━━━━━━━━╇━━━━━━━━━━━━━━━━━━━━━━━━┩\n",
              "│ search_input (\u001b[38;5;33mInputLayer\u001b[0m) │ (\u001b[38;5;45mNone\u001b[0m, \u001b[38;5;34m293\u001b[0m)            │              \u001b[38;5;34m0\u001b[0m │ -                      │\n",
              "├───────────────────────────┼────────────────────────┼────────────────┼────────────────────────┤\n",
              "│ title_input (\u001b[38;5;33mInputLayer\u001b[0m)  │ (\u001b[38;5;45mNone\u001b[0m, \u001b[38;5;34m293\u001b[0m)            │              \u001b[38;5;34m0\u001b[0m │ -                      │\n",
              "├───────────────────────────┼────────────────────────┼────────────────┼────────────────────────┤\n",
              "│ functional_4 (\u001b[38;5;33mFunctional\u001b[0m) │ (\u001b[38;5;45mNone\u001b[0m, \u001b[38;5;34m64\u001b[0m)             │         \u001b[38;5;34m31,334\u001b[0m │ search_input[\u001b[38;5;34m0\u001b[0m][\u001b[38;5;34m0\u001b[0m],    │\n",
              "│                           │                        │                │ title_input[\u001b[38;5;34m0\u001b[0m][\u001b[38;5;34m0\u001b[0m]      │\n",
              "├───────────────────────────┼────────────────────────┼────────────────┼────────────────────────┤\n",
              "│ lambda_1 (\u001b[38;5;33mLambda\u001b[0m)         │ (\u001b[38;5;45mNone\u001b[0m, \u001b[38;5;34m64\u001b[0m)             │              \u001b[38;5;34m0\u001b[0m │ functional_4[\u001b[38;5;34m0\u001b[0m][\u001b[38;5;34m0\u001b[0m],    │\n",
              "│                           │                        │                │ functional_4[\u001b[38;5;34m1\u001b[0m][\u001b[38;5;34m0\u001b[0m]     │\n",
              "├───────────────────────────┼────────────────────────┼────────────────┼────────────────────────┤\n",
              "│ dense_5 (\u001b[38;5;33mDense\u001b[0m)           │ (\u001b[38;5;45mNone\u001b[0m, \u001b[38;5;34m32\u001b[0m)             │          \u001b[38;5;34m2,080\u001b[0m │ lambda_1[\u001b[38;5;34m0\u001b[0m][\u001b[38;5;34m0\u001b[0m]         │\n",
              "├───────────────────────────┼────────────────────────┼────────────────┼────────────────────────┤\n",
              "│ output_layer (\u001b[38;5;33mDense\u001b[0m)      │ (\u001b[38;5;45mNone\u001b[0m, \u001b[38;5;34m1\u001b[0m)              │             \u001b[38;5;34m33\u001b[0m │ dense_5[\u001b[38;5;34m0\u001b[0m][\u001b[38;5;34m0\u001b[0m]          │\n",
              "└───────────────────────────┴────────────────────────┴────────────────┴────────────────────────┘\n"
            ],
            "text/html": [
              "<pre style=\"white-space:pre;overflow-x:auto;line-height:normal;font-family:Menlo,'DejaVu Sans Mono',consolas,'Courier New',monospace\">┏━━━━━━━━━━━━━━━━━━━━━━━━━━━┳━━━━━━━━━━━━━━━━━━━━━━━━┳━━━━━━━━━━━━━━━━┳━━━━━━━━━━━━━━━━━━━━━━━━┓\n",
              "┃<span style=\"font-weight: bold\"> Layer (type)              </span>┃<span style=\"font-weight: bold\"> Output Shape           </span>┃<span style=\"font-weight: bold\">        Param # </span>┃<span style=\"font-weight: bold\"> Connected to           </span>┃\n",
              "┡━━━━━━━━━━━━━━━━━━━━━━━━━━━╇━━━━━━━━━━━━━━━━━━━━━━━━╇━━━━━━━━━━━━━━━━╇━━━━━━━━━━━━━━━━━━━━━━━━┩\n",
              "│ search_input (<span style=\"color: #0087ff; text-decoration-color: #0087ff\">InputLayer</span>) │ (<span style=\"color: #00d7ff; text-decoration-color: #00d7ff\">None</span>, <span style=\"color: #00af00; text-decoration-color: #00af00\">293</span>)            │              <span style=\"color: #00af00; text-decoration-color: #00af00\">0</span> │ -                      │\n",
              "├───────────────────────────┼────────────────────────┼────────────────┼────────────────────────┤\n",
              "│ title_input (<span style=\"color: #0087ff; text-decoration-color: #0087ff\">InputLayer</span>)  │ (<span style=\"color: #00d7ff; text-decoration-color: #00d7ff\">None</span>, <span style=\"color: #00af00; text-decoration-color: #00af00\">293</span>)            │              <span style=\"color: #00af00; text-decoration-color: #00af00\">0</span> │ -                      │\n",
              "├───────────────────────────┼────────────────────────┼────────────────┼────────────────────────┤\n",
              "│ functional_4 (<span style=\"color: #0087ff; text-decoration-color: #0087ff\">Functional</span>) │ (<span style=\"color: #00d7ff; text-decoration-color: #00d7ff\">None</span>, <span style=\"color: #00af00; text-decoration-color: #00af00\">64</span>)             │         <span style=\"color: #00af00; text-decoration-color: #00af00\">31,334</span> │ search_input[<span style=\"color: #00af00; text-decoration-color: #00af00\">0</span>][<span style=\"color: #00af00; text-decoration-color: #00af00\">0</span>],    │\n",
              "│                           │                        │                │ title_input[<span style=\"color: #00af00; text-decoration-color: #00af00\">0</span>][<span style=\"color: #00af00; text-decoration-color: #00af00\">0</span>]      │\n",
              "├───────────────────────────┼────────────────────────┼────────────────┼────────────────────────┤\n",
              "│ lambda_1 (<span style=\"color: #0087ff; text-decoration-color: #0087ff\">Lambda</span>)         │ (<span style=\"color: #00d7ff; text-decoration-color: #00d7ff\">None</span>, <span style=\"color: #00af00; text-decoration-color: #00af00\">64</span>)             │              <span style=\"color: #00af00; text-decoration-color: #00af00\">0</span> │ functional_4[<span style=\"color: #00af00; text-decoration-color: #00af00\">0</span>][<span style=\"color: #00af00; text-decoration-color: #00af00\">0</span>],    │\n",
              "│                           │                        │                │ functional_4[<span style=\"color: #00af00; text-decoration-color: #00af00\">1</span>][<span style=\"color: #00af00; text-decoration-color: #00af00\">0</span>]     │\n",
              "├───────────────────────────┼────────────────────────┼────────────────┼────────────────────────┤\n",
              "│ dense_5 (<span style=\"color: #0087ff; text-decoration-color: #0087ff\">Dense</span>)           │ (<span style=\"color: #00d7ff; text-decoration-color: #00d7ff\">None</span>, <span style=\"color: #00af00; text-decoration-color: #00af00\">32</span>)             │          <span style=\"color: #00af00; text-decoration-color: #00af00\">2,080</span> │ lambda_1[<span style=\"color: #00af00; text-decoration-color: #00af00\">0</span>][<span style=\"color: #00af00; text-decoration-color: #00af00\">0</span>]         │\n",
              "├───────────────────────────┼────────────────────────┼────────────────┼────────────────────────┤\n",
              "│ output_layer (<span style=\"color: #0087ff; text-decoration-color: #0087ff\">Dense</span>)      │ (<span style=\"color: #00d7ff; text-decoration-color: #00d7ff\">None</span>, <span style=\"color: #00af00; text-decoration-color: #00af00\">1</span>)              │             <span style=\"color: #00af00; text-decoration-color: #00af00\">33</span> │ dense_5[<span style=\"color: #00af00; text-decoration-color: #00af00\">0</span>][<span style=\"color: #00af00; text-decoration-color: #00af00\">0</span>]          │\n",
              "└───────────────────────────┴────────────────────────┴────────────────┴────────────────────────┘\n",
              "</pre>\n"
            ]
          },
          "metadata": {}
        },
        {
          "output_type": "display_data",
          "data": {
            "text/plain": [
              "\u001b[1m Total params: \u001b[0m\u001b[38;5;34m33,447\u001b[0m (130.65 KB)\n"
            ],
            "text/html": [
              "<pre style=\"white-space:pre;overflow-x:auto;line-height:normal;font-family:Menlo,'DejaVu Sans Mono',consolas,'Courier New',monospace\"><span style=\"font-weight: bold\"> Total params: </span><span style=\"color: #00af00; text-decoration-color: #00af00\">33,447</span> (130.65 KB)\n",
              "</pre>\n"
            ]
          },
          "metadata": {}
        },
        {
          "output_type": "display_data",
          "data": {
            "text/plain": [
              "\u001b[1m Trainable params: \u001b[0m\u001b[38;5;34m33,447\u001b[0m (130.65 KB)\n"
            ],
            "text/html": [
              "<pre style=\"white-space:pre;overflow-x:auto;line-height:normal;font-family:Menlo,'DejaVu Sans Mono',consolas,'Courier New',monospace\"><span style=\"font-weight: bold\"> Trainable params: </span><span style=\"color: #00af00; text-decoration-color: #00af00\">33,447</span> (130.65 KB)\n",
              "</pre>\n"
            ]
          },
          "metadata": {}
        },
        {
          "output_type": "display_data",
          "data": {
            "text/plain": [
              "\u001b[1m Non-trainable params: \u001b[0m\u001b[38;5;34m0\u001b[0m (0.00 B)\n"
            ],
            "text/html": [
              "<pre style=\"white-space:pre;overflow-x:auto;line-height:normal;font-family:Menlo,'DejaVu Sans Mono',consolas,'Courier New',monospace\"><span style=\"font-weight: bold\"> Non-trainable params: </span><span style=\"color: #00af00; text-decoration-color: #00af00\">0</span> (0.00 B)\n",
              "</pre>\n"
            ]
          },
          "metadata": {}
        },
        {
          "output_type": "stream",
          "name": "stdout",
          "text": [
            "Epoch 1/20\n",
            "\u001b[1m1852/1852\u001b[0m \u001b[32m━━━━━━━━━━━━━━━━━━━━\u001b[0m\u001b[37m\u001b[0m \u001b[1m13s\u001b[0m 5ms/step - loss: 0.0373 - mae: 0.1570 - rmse: 0.1918 - val_loss: 0.0351 - val_mae: 0.1479 - val_rmse: 0.1874\n",
            "Epoch 2/20\n",
            "\u001b[1m1852/1852\u001b[0m \u001b[32m━━━━━━━━━━━━━━━━━━━━\u001b[0m\u001b[37m\u001b[0m \u001b[1m7s\u001b[0m 4ms/step - loss: 0.0293 - mae: 0.1402 - rmse: 0.1712 - val_loss: 0.0330 - val_mae: 0.1439 - val_rmse: 0.1818\n",
            "Epoch 3/20\n",
            "\u001b[1m1852/1852\u001b[0m \u001b[32m━━━━━━━━━━━━━━━━━━━━\u001b[0m\u001b[37m\u001b[0m \u001b[1m7s\u001b[0m 4ms/step - loss: 0.0273 - mae: 0.1349 - rmse: 0.1654 - val_loss: 0.0329 - val_mae: 0.1436 - val_rmse: 0.1813\n",
            "Epoch 4/20\n",
            "\u001b[1m1852/1852\u001b[0m \u001b[32m━━━━━━━━━━━━━━━━━━━━\u001b[0m\u001b[37m\u001b[0m \u001b[1m8s\u001b[0m 4ms/step - loss: 0.0267 - mae: 0.1334 - rmse: 0.1635 - val_loss: 0.0315 - val_mae: 0.1411 - val_rmse: 0.1774\n",
            "Epoch 5/20\n",
            "\u001b[1m1852/1852\u001b[0m \u001b[32m━━━━━━━━━━━━━━━━━━━━\u001b[0m\u001b[37m\u001b[0m \u001b[1m8s\u001b[0m 4ms/step - loss: 0.0255 - mae: 0.1298 - rmse: 0.1595 - val_loss: 0.0312 - val_mae: 0.1403 - val_rmse: 0.1766\n",
            "Epoch 6/20\n",
            "\u001b[1m1852/1852\u001b[0m \u001b[32m━━━━━━━━━━━━━━━━━━━━\u001b[0m\u001b[37m\u001b[0m \u001b[1m7s\u001b[0m 4ms/step - loss: 0.0244 - mae: 0.1268 - rmse: 0.1563 - val_loss: 0.0306 - val_mae: 0.1396 - val_rmse: 0.1750\n",
            "Epoch 7/20\n",
            "\u001b[1m1852/1852\u001b[0m \u001b[32m━━━━━━━━━━━━━━━━━━━━\u001b[0m\u001b[37m\u001b[0m \u001b[1m7s\u001b[0m 4ms/step - loss: 0.0239 - mae: 0.1254 - rmse: 0.1546 - val_loss: 0.0337 - val_mae: 0.1450 - val_rmse: 0.1837\n",
            "Epoch 8/20\n",
            "\u001b[1m1852/1852\u001b[0m \u001b[32m━━━━━━━━━━━━━━━━━━━━\u001b[0m\u001b[37m\u001b[0m \u001b[1m7s\u001b[0m 4ms/step - loss: 0.0234 - mae: 0.1239 - rmse: 0.1531 - val_loss: 0.0320 - val_mae: 0.1416 - val_rmse: 0.1790\n",
            "Epoch 9/20\n",
            "\u001b[1m1852/1852\u001b[0m \u001b[32m━━━━━━━━━━━━━━━━━━━━\u001b[0m\u001b[37m\u001b[0m \u001b[1m7s\u001b[0m 4ms/step - loss: 0.0231 - mae: 0.1230 - rmse: 0.1521 - val_loss: 0.0312 - val_mae: 0.1403 - val_rmse: 0.1766\n",
            "Epoch 10/20\n",
            "\u001b[1m1852/1852\u001b[0m \u001b[32m━━━━━━━━━━━━━━━━━━━━\u001b[0m\u001b[37m\u001b[0m \u001b[1m10s\u001b[0m 4ms/step - loss: 0.0227 - mae: 0.1215 - rmse: 0.1506 - val_loss: 0.0307 - val_mae: 0.1393 - val_rmse: 0.1752\n",
            "Epoch 11/20\n",
            "\u001b[1m1852/1852\u001b[0m \u001b[32m━━━━━━━━━━━━━━━━━━━━\u001b[0m\u001b[37m\u001b[0m \u001b[1m7s\u001b[0m 4ms/step - loss: 0.0220 - mae: 0.1198 - rmse: 0.1483 - val_loss: 0.0305 - val_mae: 0.1392 - val_rmse: 0.1747\n",
            "Epoch 12/20\n",
            "\u001b[1m1852/1852\u001b[0m \u001b[32m━━━━━━━━━━━━━━━━━━━━\u001b[0m\u001b[37m\u001b[0m \u001b[1m7s\u001b[0m 4ms/step - loss: 0.0216 - mae: 0.1187 - rmse: 0.1471 - val_loss: 0.0307 - val_mae: 0.1396 - val_rmse: 0.1751\n",
            "Epoch 13/20\n",
            "\u001b[1m1852/1852\u001b[0m \u001b[32m━━━━━━━━━━━━━━━━━━━━\u001b[0m\u001b[37m\u001b[0m \u001b[1m7s\u001b[0m 4ms/step - loss: 0.0215 - mae: 0.1183 - rmse: 0.1465 - val_loss: 0.0325 - val_mae: 0.1422 - val_rmse: 0.1802\n",
            "Epoch 14/20\n",
            "\u001b[1m1852/1852\u001b[0m \u001b[32m━━━━━━━━━━━━━━━━━━━━\u001b[0m\u001b[37m\u001b[0m \u001b[1m7s\u001b[0m 4ms/step - loss: 0.0213 - mae: 0.1175 - rmse: 0.1458 - val_loss: 0.0316 - val_mae: 0.1413 - val_rmse: 0.1778\n",
            "Epoch 15/20\n",
            "\u001b[1m1852/1852\u001b[0m \u001b[32m━━━━━━━━━━━━━━━━━━━━\u001b[0m\u001b[37m\u001b[0m \u001b[1m8s\u001b[0m 4ms/step - loss: 0.0208 - mae: 0.1160 - rmse: 0.1441 - val_loss: 0.0306 - val_mae: 0.1397 - val_rmse: 0.1749\n",
            "Epoch 16/20\n",
            "\u001b[1m1852/1852\u001b[0m \u001b[32m━━━━━━━━━━━━━━━━━━━━\u001b[0m\u001b[37m\u001b[0m \u001b[1m7s\u001b[0m 4ms/step - loss: 0.0208 - mae: 0.1160 - rmse: 0.1441 - val_loss: 0.0317 - val_mae: 0.1413 - val_rmse: 0.1779\n",
            "Epoch 17/20\n",
            "\u001b[1m1852/1852\u001b[0m \u001b[32m━━━━━━━━━━━━━━━━━━━━\u001b[0m\u001b[37m\u001b[0m \u001b[1m7s\u001b[0m 4ms/step - loss: 0.0202 - mae: 0.1144 - rmse: 0.1423 - val_loss: 0.0319 - val_mae: 0.1415 - val_rmse: 0.1787\n",
            "Epoch 18/20\n",
            "\u001b[1m1852/1852\u001b[0m \u001b[32m━━━━━━━━━━━━━━━━━━━━\u001b[0m\u001b[37m\u001b[0m \u001b[1m7s\u001b[0m 4ms/step - loss: 0.0202 - mae: 0.1143 - rmse: 0.1420 - val_loss: 0.0318 - val_mae: 0.1415 - val_rmse: 0.1783\n",
            "Epoch 19/20\n",
            "\u001b[1m1852/1852\u001b[0m \u001b[32m━━━━━━━━━━━━━━━━━━━━\u001b[0m\u001b[37m\u001b[0m \u001b[1m7s\u001b[0m 4ms/step - loss: 0.0198 - mae: 0.1134 - rmse: 0.1405 - val_loss: 0.0312 - val_mae: 0.1406 - val_rmse: 0.1765\n",
            "Epoch 20/20\n",
            "\u001b[1m1852/1852\u001b[0m \u001b[32m━━━━━━━━━━━━━━━━━━━━\u001b[0m\u001b[37m\u001b[0m \u001b[1m7s\u001b[0m 4ms/step - loss: 0.0199 - mae: 0.1134 - rmse: 0.1411 - val_loss: 0.0316 - val_mae: 0.1411 - val_rmse: 0.1777\n"
          ]
        }
      ]
    },
    {
      "cell_type": "code",
      "source": [
        "plot_training_history(history)"
      ],
      "metadata": {
        "colab": {
          "base_uri": "https://localhost:8080/",
          "height": 807
        },
        "id": "QkjsJpGhQTd8",
        "outputId": "c4fd63b7-49c9-4e13-c873-c8543a80891a"
      },
      "execution_count": null,
      "outputs": [
        {
          "output_type": "display_data",
          "data": {
            "text/plain": [
              "<Figure size 1200x800 with 3 Axes>"
            ],
            "image/png": "[encoded data removed]"
          },
          "metadata": {}
        }
      ]
    },
    {
      "cell_type": "code",
      "source": [
        "# Filter out rows with relevance = -1 from the solution\n",
        "solution_filtered = solution[solution['relevance'] != -1]\n",
        "\n",
        "# Ensure the test DataFrame is aligned with the solution\n",
        "aligned_df = solution_filtered.copy()  # Copy solution_filtered\n",
        "aligned_df['prediction'] = test['prediction'][:len(solution_filtered)].values  # Align predictions\n",
        "\n",
        "# Calculate RMSE\n",
        "\n",
        "rmse = np.sqrt(mean_squared_error(aligned_df['relevance'], aligned_df['prediction']))\n",
        "print(f\"Benchmark RMSE: {rmse}\")"
      ],
      "metadata": {
        "id": "ekFhq-f6Glz7",
        "colab": {
          "base_uri": "https://localhost:8080/"
        },
        "outputId": "a48b4dfa-d66a-4678-c950-4815d53034f9"
      },
      "execution_count": null,
      "outputs": [
        {
          "output_type": "stream",
          "name": "stdout",
          "text": [
            "Benchmark RMSE: 0.5541332649421421\n"
          ]
        }
      ]
    },
    {
      "cell_type": "markdown",
      "source": [
        "#Feature Extractor"
      ],
      "metadata": {
        "id": "fwfG3wXEHSpF"
      }
    },
    {
      "cell_type": "code",
      "source": [
        "# Create a feature extractor model\n",
        "feature_extractor = tf.keras.Model(inputs=shared_net.input, outputs=shared_net.output)\n",
        "\n",
        "# Extract features for search and title inputs\n",
        "train_search_features = feature_extractor.predict(train_search_seq)\n",
        "train_title_features = feature_extractor.predict(train_title_seq)\n",
        "test_search_features = feature_extractor.predict(test_search_seq)\n",
        "test_title_features = feature_extractor.predict(test_title_seq)\n",
        "\n",
        "# Combine features for search and title\n",
        "train_features = np.concatenate([train_search_features, train_title_features], axis=1)\n",
        "test_features = np.concatenate([test_search_features, test_title_features], axis=1)\n",
        "\n",
        "# Print shapes to verify\n",
        "print(f\"Train features shape: {train_features.shape}\")\n",
        "print(f\"Test features shape: {test_features.shape}\")"
      ],
      "metadata": {
        "colab": {
          "base_uri": "https://localhost:8080/"
        },
        "id": "-rxO91lMHSM9",
        "outputId": "84a1e8e0-d093-4d0c-c361-d9fe7099108d"
      },
      "execution_count": null,
      "outputs": [
        {
          "output_type": "stream",
          "name": "stdout",
          "text": [
            "\u001b[1m2315/2315\u001b[0m \u001b[32m━━━━━━━━━━━━━━━━━━━━\u001b[0m\u001b[37m\u001b[0m \u001b[1m3s\u001b[0m 1ms/step\n",
            "\u001b[1m2315/2315\u001b[0m \u001b[32m━━━━━━━━━━━━━━━━━━━━\u001b[0m\u001b[37m\u001b[0m \u001b[1m2s\u001b[0m 1ms/step\n",
            "\u001b[1m5210/5210\u001b[0m \u001b[32m━━━━━━━━━━━━━━━━━━━━\u001b[0m\u001b[37m\u001b[0m \u001b[1m6s\u001b[0m 1ms/step\n",
            "\u001b[1m5210/5210\u001b[0m \u001b[32m━━━━━━━━━━━━━━━━━━━━\u001b[0m\u001b[37m\u001b[0m \u001b[1m6s\u001b[0m 1ms/step\n",
            "Train features shape: (74067, 128)\n",
            "Test features shape: (166693, 128)\n"
          ]
        }
      ]
    },
    {
      "cell_type": "markdown",
      "source": [
        "# Model 1 Linear Regression"
      ],
      "metadata": {
        "id": "fK5LP6dMHdcc"
      }
    },
    {
      "cell_type": "code",
      "source": [
        "print(f\"Shape of test_predictions: {test_predictions.shape}\")\n",
        "print(f\"Shape of test_search_seq: {test_search_seq.shape}\")\n",
        "print(f\"Shape of test_labels: {test_labels.shape}\")\n",
        "filtered_solution = solution[solution['relevance'] != -1]\n",
        "print(f\"Filtered solution length: {filtered_solution.shape[0]}\")"
      ],
      "metadata": {
        "colab": {
          "base_uri": "https://localhost:8080/"
        },
        "id": "SehQQJ2ySz2A",
        "outputId": "7dbe9c5f-107c-401b-ec67-f1078fbca2c5"
      },
      "execution_count": null,
      "outputs": [
        {
          "output_type": "stream",
          "name": "stdout",
          "text": [
            "Shape of test_predictions: (166693,)\n",
            "Shape of test_search_seq: (166693, 293)\n",
            "Shape of test_labels: (112067,)\n",
            "Filtered solution length: 112067\n"
          ]
        }
      ]
    },
    {
      "cell_type": "code",
      "source": [
        "# Step 1: Handle -1 values in the solution\n",
        "solution['relevance'] = solution['relevance'].apply(lambda x: 1 if x == -1 else x)\n",
        "\n",
        "# Step 2: Extract true relevance (labels) for the test set\n",
        "test_labels = solution['relevance'].values\n",
        "\n",
        "# Step 3: Prepare the features and labels\n",
        "# Ensure test_predictions aligns with solution's index\n",
        "test_predictions = test_predictions[:len(test_labels)]\n",
        "\n",
        "# Step 4: Train Linear Regression model\n",
        "lr_model = LinearRegression()\n",
        "lr_model.fit(train_features, train_labels)\n",
        "\n",
        "# Step 5: Make predictions on train and test sets\n",
        "train_predictions = lr_model.predict(train_features)\n",
        "test_predictions = lr_model.predict(test_features)\n",
        "\n",
        "# Step 6: Calculate metrics\n",
        "train_rmse = np.sqrt(mean_squared_error(train_labels, train_predictions))\n",
        "test_rmse = np.sqrt(mean_squared_error(test_labels, test_predictions))\n",
        "train_mae = mean_absolute_error(train_labels, train_predictions)\n",
        "test_mae = mean_absolute_error(test_labels, test_predictions)\n",
        "\n",
        "# Step 7: Print results\n",
        "print(f\"Linear Regression - Train RMSE: {train_rmse}, Test RMSE: {test_rmse}\")\n",
        "print(f\"Linear Regression - Train MAE: {train_mae}, Test MAE: {test_mae}\")\n"
      ],
      "metadata": {
        "colab": {
          "base_uri": "https://localhost:8080/"
        },
        "id": "hqf9-CbBHgBd",
        "outputId": "814c7270-c0c2-4457-e944-12531820f3ee"
      },
      "execution_count": null,
      "outputs": [
        {
          "output_type": "stream",
          "name": "stdout",
          "text": [
            "Linear Regression - Train RMSE: 0.49624541105279596, Test RMSE: 0.9372246343636806\n",
            "Linear Regression - Train MAE: 0.40341839339690094, Test MAE: 0.7607055455732551\n"
          ]
        }
      ]
    },
    {
      "cell_type": "markdown",
      "source": [
        "# Model 2 Random Forest"
      ],
      "metadata": {
        "id": "TJbwhwdIHkci"
      }
    },
    {
      "cell_type": "code",
      "source": [
        "rf_model = RandomForestRegressor(n_estimators=100, random_state=42)\n",
        "rf_model.fit(train_features, train_labels)\n",
        "\n",
        "train_predictions = rf_model.predict(train_features)\n",
        "test_predictions = rf_model.predict(test_features)\n",
        "\n",
        "train_rmse = mean_squared_error(train_labels, train_predictions)\n",
        "test_rmse = mean_squared_error(test_labels, test_predictions)\n",
        "train_mae = mean_absolute_error(train_labels, train_predictions)\n",
        "test_mae = mean_absolute_error(test_labels, test_predictions)\n",
        "\n",
        "print(f\"Random Forest - Train RMSE: {train_rmse}, Test RMSE: {test_rmse}\")\n",
        "print(f\"Random Forest - Train MAE: {train_mae}, Test MAE: {test_mae}\")\n"
      ],
      "metadata": {
        "id": "rK6QJIh2ILKw",
        "colab": {
          "base_uri": "https://localhost:8080/"
        },
        "outputId": "0d8dd50b-6009-4d18-a152-3df591d4dc8f"
      },
      "execution_count": null,
      "outputs": [
        {
          "output_type": "stream",
          "name": "stdout",
          "text": [
            "Random Forest - Train RMSE: 0.029659988600545195, Test RMSE: 0.882615618889827\n",
            "Random Forest - Train MAE: 0.1371500778159721, Test MAE: 0.7576775847119652\n"
          ]
        }
      ]
    },
    {
      "cell_type": "markdown",
      "source": [
        "#2"
      ],
      "metadata": {
        "id": "YmIla8-VKDP5"
      }
    },
    {
      "cell_type": "markdown",
      "source": [
        "##a"
      ],
      "metadata": {
        "id": "zYCTF2usMF_E"
      }
    },
    {
      "cell_type": "markdown",
      "source": [
        "### Tokanize"
      ],
      "metadata": {
        "id": "CtabqsgxMHEU"
      }
    },
    {
      "cell_type": "code",
      "source": [
        "train_text = train['search_term'] + ' ' + train['product_title']\n",
        "test_text = test['search_term'] + ' ' + test['product_title']\n",
        "\n",
        "# # function for cleaning and normalizing text\n",
        "def clean_and_tokenize_text(text):\n",
        "    \"\"\"\n",
        "    Clean and tokenize text into words and special character combinations.\n",
        "    Supports complex tokens like '12-Gauge', '¾', or '90°'.\n",
        "\n",
        "    :param text: Input string.\n",
        "    :return: List of cleaned and tokenized tokens.\n",
        "    \"\"\"\n",
        "    # Step 1: Clean the text\n",
        "    text = text.lower()  # Convert to lowercase\n",
        "    text = re.sub(r'\\s+', ' ', text)  # Remove extra spaces\n",
        "\n",
        "    # Step 2: Define regex pattern for tokens\n",
        "    token_pattern = r\"\"\"\n",
        "        \\b\\d+-\\w+\\b      |  # Matches numbers followed by a dash and a word (e.g., 12-Gauge)\n",
        "        \\b\\w+-\\w+\\b      |  # Matches words connected by a dash (e.g., Strong-Tie)\n",
        "        \\b\\d+\\u00b0\\b    |  # Matches numbers followed by ° (e.g., 90°)\n",
        "        \\b\\d+/\\d+\\b      |  # Matches fractions (e.g., 3/4)\n",
        "        \\b\\w+[#\\w]*\\b    |  # Matches words with optional '#' or other alphanumeric characters\n",
        "        [^\\s\\w]+            # Matches standalone special characters\n",
        "    \"\"\"\n",
        "\n",
        "    # Step 3: Compile the regex with verbose flag for readability\n",
        "    regex = re.compile(token_pattern, re.VERBOSE)\n",
        "\n",
        "    # Step 4: Find all matches\n",
        "    tokens = regex.findall(text)\n",
        "\n",
        "    return tokens\n",
        "\n",
        "# Combine and clean text for training and testing\n",
        "train_text = train['search_term'] + ' ' + train['product_title']\n",
        "test_text = test['search_term'] + ' ' + test['product_title']\n",
        "\n",
        "# Tokenize and clean data\n",
        "train_tokens = train_text.apply(lambda x: clean_and_tokenize_text(x) if isinstance(x, str) else [])\n",
        "test_tokens = test_text.apply(lambda x: clean_and_tokenize_text(x) if isinstance(x, str) else [])\n",
        "\n",
        "# Combine train and test data for tokenizer training\n",
        "combined_tokens = [' '.join(tokens) for tokens in train_tokens if isinstance(tokens, list)] + \\\n",
        "                  [' '.join(tokens) for tokens in test_tokens if isinstance(tokens, list)]\n",
        "\n",
        "# Initialize a Byte-Pair Encoding tokenizer\n",
        "tokenizer = Tokenizer(models.BPE())\n",
        "trainer = trainers.BpeTrainer(special_tokens=[\"<unk>\"])\n",
        "tokenizer.pre_tokenizer = pre_tokenizers.Whitespace()\n",
        "\n",
        "# Train the tokenizer\n",
        "tokenizer.train_from_iterator(combined_tokens, trainer)\n",
        "\n",
        "# Encode data using the trained tokenizer\n",
        "train['tokens'] = train_text.apply(lambda x: tokenizer.encode(x).tokens if isinstance(x, str) else [])\n",
        "test['tokens'] = test_text.apply(lambda x: tokenizer.encode(x).tokens if isinstance(x, str) else [])\n",
        "\n",
        "# Output to verify\n",
        "print(train[['search_term', 'product_title', 'tokens']].head())\n",
        "print(test[['search_term', 'product_title', 'tokens']].head())"
      ],
      "metadata": {
        "colab": {
          "base_uri": "https://localhost:8080/"
        },
        "id": "yzKb8aEwKMvt",
        "outputId": "5ab2f48a-09d7-4d64-b3c0-08d960c8feb7"
      },
      "execution_count": null,
      "outputs": [
        {
          "output_type": "stream",
          "name": "stdout",
          "text": [
            "          search_term                                      product_title  \\\n",
            "0       angle bracket                  Simpson Strong-Tie 12-Gauge Angle   \n",
            "1           l bracket                  Simpson Strong-Tie 12-Gauge Angle   \n",
            "2           deck over  BEHR Premium Textured DeckOver 1-gal. #SC-141 ...   \n",
            "3    rain shower head  Delta Vero 1-Handle Shower Only Faucet Trim Ki...   \n",
            "4  shower only faucet  Delta Vero 1-Handle Shower Only Faucet Trim Ki...   \n",
            "\n",
            "                                              tokens  \n",
            "0  [angle, bracket, im, pson, t, rong, -, ie, 12,...  \n",
            "1  [l, bracket, im, pson, t, rong, -, ie, 12, -, ...  \n",
            "2  [deck, over, re, mium, ex, tured, eck, ver, 1,...  \n",
            "3  [rain, shower, head, el, ta, ero, 1, -, and, l...  \n",
            "4  [shower, only, faucet, el, ta, ero, 1, -, and,...  \n",
            "                 search_term                      product_title  \\\n",
            "0          90 degree bracket  Simpson Strong-Tie 12-Gauge Angle   \n",
            "1           metal l brackets  Simpson Strong-Tie 12-Gauge Angle   \n",
            "2           simpson sku able  Simpson Strong-Tie 12-Gauge Angle   \n",
            "3       simpson strong  ties  Simpson Strong-Tie 12-Gauge Angle   \n",
            "4  simpson strong tie hcc668  Simpson Strong-Tie 12-Gauge Angle   \n",
            "\n",
            "                                              tokens  \n",
            "0  [90, degree, bracket, im, pson, t, rong, -, ie...  \n",
            "1  [metal, l, brackets, im, pson, t, rong, -, ie,...  \n",
            "2  [simpson, sku, able, im, pson, t, rong, -, ie,...  \n",
            "3  [simpson, strong, ties, im, pson, t, rong, -, ...  \n",
            "4  [simpson, strong, tie, hcc668, im, pson, t, ro...  \n"
          ]
        }
      ]
    },
    {
      "cell_type": "markdown",
      "source": [
        "###Because of computing power we chose to go for a fixed length of 50"
      ],
      "metadata": {
        "id": "nV3vEp7RyALh"
      }
    },
    {
      "cell_type": "code",
      "source": [
        "# Tokenize and pad the search_term column\n",
        "input_length= 50\n",
        "train['padded_search'] = train['search_term'].apply(\n",
        "    lambda x: tokenizer.encode(x).ids[:input_length] + [0] * (input_length - len(tokenizer.encode(x).ids))\n",
        ")\n",
        "\n",
        "# Tokenize and pad the product_title column\n",
        "train['padded_title'] = train['product_title'].apply(\n",
        "    lambda x: tokenizer.encode(x).ids[:input_length] + [0] * (input_length - len(tokenizer.encode(x).ids))\n",
        ")\n",
        "train['relevance_normalized'] = train['relevance'] / train['relevance'].max()\n"
      ],
      "metadata": {
        "id": "dXF5ZpLpmjcl"
      },
      "execution_count": null,
      "outputs": []
    },
    {
      "cell_type": "code",
      "source": [
        "test['padded_search'] = test['search_term'].apply(\n",
        "    lambda x: tokenizer.encode(x).ids[:input_length] + [0] * (input_length - len(tokenizer.encode(x).ids))\n",
        ")\n",
        "\n",
        "# Tokenize and pad the product_title column\n",
        "test['padded_title'] = test['product_title'].apply(\n",
        "    lambda x: tokenizer.encode(x).ids[:input_length] + [0] * (input_length - len(tokenizer.encode(x).ids))\n",
        ")"
      ],
      "metadata": {
        "id": "o4KQJU6Kmkvi"
      },
      "execution_count": null,
      "outputs": []
    },
    {
      "cell_type": "markdown",
      "source": [
        "#b."
      ],
      "metadata": {
        "id": "JfqGK7aZME2J"
      }
    },
    {
      "cell_type": "markdown",
      "source": [
        "#word2vec"
      ],
      "metadata": {
        "id": "zT-Ck8kMiYk7"
      }
    },
    {
      "cell_type": "code",
      "source": [
        "# Combine tokenized sentences from train and test datasets\n",
        "tokenized_sentences = train['tokens'].tolist() + test['tokens'].tolist()\n",
        "\n",
        "# Ensure all entries are lists of strings\n",
        "tokenized_sentences = [tokens for tokens in tokenized_sentences if isinstance(tokens, list)]\n",
        "\n",
        "# Train Word2Vec model\n",
        "word2vec_model = Word2Vec(\n",
        "    sentences=tokenized_sentences,  # Input sentences\n",
        "    vector_size=100,                # Dimensionality of word vectors\n",
        "    window=5,                       # Context window size\n",
        "    min_count=2,                    # Minimum frequency for words\n",
        "    workers=4,                      # Number of threads for training\n",
        "    sg=1                            # Skip-gram model\n",
        ")\n",
        "\n",
        "# Save the Word2Vec model\n",
        "word2vec_model.save(\"word2vec_model.model\")\n",
        "\n",
        "# Access the embedding of a specific word (example: \"90°\")\n",
        "if \"90°\" in word2vec_model.wv:\n",
        "    embedding_90_deg = word2vec_model.wv[\"90°\"]\n",
        "    print(\"Embedding for '90°':\", embedding_90_deg)\n",
        "\n",
        "# Check vocabulary size\n",
        "print(f\"Vocabulary size: {len(word2vec_model.wv.index_to_key)}\")\n",
        "\n",
        "# Save word embeddings as a dictionary for further use\n",
        "word_embeddings = {word: word2vec_model.wv[word] for word in word2vec_model.wv.index_to_key}\n"
      ],
      "metadata": {
        "colab": {
          "base_uri": "https://localhost:8080/"
        },
        "id": "MEF9jzGpML0u",
        "outputId": "8e9ac78a-06d0-44c2-a322-26e11e64d11b"
      },
      "execution_count": null,
      "outputs": [
        {
          "output_type": "stream",
          "name": "stdout",
          "text": [
            "Vocabulary size: 16053\n"
          ]
        }
      ]
    },
    {
      "cell_type": "markdown",
      "source": [
        "#C"
      ],
      "metadata": {
        "id": "kIaCV_KtMmIV"
      }
    },
    {
      "cell_type": "markdown",
      "source": [
        "## LSTM Siamese Network"
      ],
      "metadata": {
        "id": "8C8pp0NfMoWc"
      }
    },
    {
      "cell_type": "code",
      "source": [
        "# Define input shapes\n",
        "input_length = 50  # Example length of input sequences\n",
        "embedding_dim = 100  # Word2Vec embedding dimension\n",
        "lstm_units = 64  # Number of LSTM units\n",
        "\n",
        "# Define input layers\n",
        "search_input = Input(shape=(input_length,), name=\"search_input\")\n",
        "title_input = Input(shape=(input_length,), name=\"title_input\")\n",
        "\n",
        "# Shared Embedding layer (Word2Vec embedding)\n",
        "embedding_layer = Embedding(input_dim=16053,  # Vocabulary size (example)\n",
        "                            output_dim=embedding_dim,\n",
        "                            input_length=input_length,\n",
        "                            name=\"word2vec_embedding\")\n",
        "\n",
        "search_embedding = embedding_layer(search_input)\n",
        "title_embedding = embedding_layer(title_input)\n",
        "\n",
        "# Shared LSTM layer\n",
        "shared_lstm = LSTM(lstm_units, name=\"shared_lstm\")\n",
        "\n",
        "search_lstm = shared_lstm(search_embedding)\n",
        "title_lstm = shared_lstm(title_embedding)\n",
        "\n",
        "# Dropout layers\n",
        "search_dropout = Dropout(0.2, name=\"dropout\")(search_lstm)\n",
        "title_dropout = Dropout(0.2, name=\"dropout_1\")(title_lstm)\n",
        "\n",
        "# Lambda layer for absolute difference\n",
        "l1_distance = Lambda(lambda tensors: tf.abs(tensors[0] - tensors[1]), name=\"lambda_1\")([search_dropout, title_dropout])\n",
        "\n",
        "# Output layer\n",
        "output = Dense(1, activation=\"sigmoid\", name=\"output_layer\")(l1_distance)\n",
        "\n",
        "# Build the model\n",
        "siamese_model = Model(inputs=[search_input, title_input], outputs=output)\n",
        "\n",
        "# Compile the model\n",
        "siamese_model.compile(optimizer=tf.keras.optimizers.Adam(learning_rate=0.001), loss='mse', metrics=['mae',tf.keras.metrics.RootMeanSquaredError(name='rmse') ])\n",
        "\n",
        "# Model summary\n",
        "siamese_model.summary()\n"
      ],
      "metadata": {
        "colab": {
          "base_uri": "https://localhost:8080/",
          "height": 514
        },
        "id": "UXr4mTLXMrk1",
        "outputId": "73d918c2-8218-4232-d4ce-cdb8b0f1d4a0"
      },
      "execution_count": null,
      "outputs": [
        {
          "output_type": "stream",
          "name": "stderr",
          "text": [
            "/usr/local/lib/python3.11/dist-packages/keras/src/layers/core/embedding.py:90: UserWarning: Argument `input_length` is deprecated. Just remove it.\n",
            "  warnings.warn(\n"
          ]
        },
        {
          "output_type": "display_data",
          "data": {
            "text/plain": [
              "\u001b[1mModel: \"functional\"\u001b[0m\n"
            ],
            "text/html": [
              "<pre style=\"white-space:pre;overflow-x:auto;line-height:normal;font-family:Menlo,'DejaVu Sans Mono',consolas,'Courier New',monospace\"><span style=\"font-weight: bold\">Model: \"functional\"</span>\n",
              "</pre>\n"
            ]
          },
          "metadata": {}
        },
        {
          "output_type": "display_data",
          "data": {
            "text/plain": [
              "┏━━━━━━━━━━━━━━━━━━━━━━━━━━━┳━━━━━━━━━━━━━━━━━━━━━━━━┳━━━━━━━━━━━━━━━━┳━━━━━━━━━━━━━━━━━━━━━━━━┓\n",
              "┃\u001b[1m \u001b[0m\u001b[1mLayer (type)             \u001b[0m\u001b[1m \u001b[0m┃\u001b[1m \u001b[0m\u001b[1mOutput Shape          \u001b[0m\u001b[1m \u001b[0m┃\u001b[1m \u001b[0m\u001b[1m       Param #\u001b[0m\u001b[1m \u001b[0m┃\u001b[1m \u001b[0m\u001b[1mConnected to          \u001b[0m\u001b[1m \u001b[0m┃\n",
              "┡━━━━━━━━━━━━━━━━━━━━━━━━━━━╇━━━━━━━━━━━━━━━━━━━━━━━━╇━━━━━━━━━━━━━━━━╇━━━━━━━━━━━━━━━━━━━━━━━━┩\n",
              "│ search_input (\u001b[38;5;33mInputLayer\u001b[0m) │ (\u001b[38;5;45mNone\u001b[0m, \u001b[38;5;34m50\u001b[0m)             │              \u001b[38;5;34m0\u001b[0m │ -                      │\n",
              "├───────────────────────────┼────────────────────────┼────────────────┼────────────────────────┤\n",
              "│ title_input (\u001b[38;5;33mInputLayer\u001b[0m)  │ (\u001b[38;5;45mNone\u001b[0m, \u001b[38;5;34m50\u001b[0m)             │              \u001b[38;5;34m0\u001b[0m │ -                      │\n",
              "├───────────────────────────┼────────────────────────┼────────────────┼────────────────────────┤\n",
              "│ word2vec_embedding        │ (\u001b[38;5;45mNone\u001b[0m, \u001b[38;5;34m50\u001b[0m, \u001b[38;5;34m100\u001b[0m)        │      \u001b[38;5;34m1,605,300\u001b[0m │ search_input[\u001b[38;5;34m0\u001b[0m][\u001b[38;5;34m0\u001b[0m],    │\n",
              "│ (\u001b[38;5;33mEmbedding\u001b[0m)               │                        │                │ title_input[\u001b[38;5;34m0\u001b[0m][\u001b[38;5;34m0\u001b[0m]      │\n",
              "├───────────────────────────┼────────────────────────┼────────────────┼────────────────────────┤\n",
              "│ shared_lstm (\u001b[38;5;33mLSTM\u001b[0m)        │ (\u001b[38;5;45mNone\u001b[0m, \u001b[38;5;34m64\u001b[0m)             │         \u001b[38;5;34m42,240\u001b[0m │ word2vec_embedding[\u001b[38;5;34m0\u001b[0m]… │\n",
              "│                           │                        │                │ word2vec_embedding[\u001b[38;5;34m1\u001b[0m]… │\n",
              "├───────────────────────────┼────────────────────────┼────────────────┼────────────────────────┤\n",
              "│ dropout (\u001b[38;5;33mDropout\u001b[0m)         │ (\u001b[38;5;45mNone\u001b[0m, \u001b[38;5;34m64\u001b[0m)             │              \u001b[38;5;34m0\u001b[0m │ shared_lstm[\u001b[38;5;34m0\u001b[0m][\u001b[38;5;34m0\u001b[0m]      │\n",
              "├───────────────────────────┼────────────────────────┼────────────────┼────────────────────────┤\n",
              "│ dropout_1 (\u001b[38;5;33mDropout\u001b[0m)       │ (\u001b[38;5;45mNone\u001b[0m, \u001b[38;5;34m64\u001b[0m)             │              \u001b[38;5;34m0\u001b[0m │ shared_lstm[\u001b[38;5;34m1\u001b[0m][\u001b[38;5;34m0\u001b[0m]      │\n",
              "├───────────────────────────┼────────────────────────┼────────────────┼────────────────────────┤\n",
              "│ lambda_1 (\u001b[38;5;33mLambda\u001b[0m)         │ (\u001b[38;5;45mNone\u001b[0m, \u001b[38;5;34m64\u001b[0m)             │              \u001b[38;5;34m0\u001b[0m │ dropout[\u001b[38;5;34m0\u001b[0m][\u001b[38;5;34m0\u001b[0m],         │\n",
              "│                           │                        │                │ dropout_1[\u001b[38;5;34m0\u001b[0m][\u001b[38;5;34m0\u001b[0m]        │\n",
              "├───────────────────────────┼────────────────────────┼────────────────┼────────────────────────┤\n",
              "│ output_layer (\u001b[38;5;33mDense\u001b[0m)      │ (\u001b[38;5;45mNone\u001b[0m, \u001b[38;5;34m1\u001b[0m)              │             \u001b[38;5;34m65\u001b[0m │ lambda_1[\u001b[38;5;34m0\u001b[0m][\u001b[38;5;34m0\u001b[0m]         │\n",
              "└───────────────────────────┴────────────────────────┴────────────────┴────────────────────────┘\n"
            ],
            "text/html": [
              "<pre style=\"white-space:pre;overflow-x:auto;line-height:normal;font-family:Menlo,'DejaVu Sans Mono',consolas,'Courier New',monospace\">┏━━━━━━━━━━━━━━━━━━━━━━━━━━━┳━━━━━━━━━━━━━━━━━━━━━━━━┳━━━━━━━━━━━━━━━━┳━━━━━━━━━━━━━━━━━━━━━━━━┓\n",
              "┃<span style=\"font-weight: bold\"> Layer (type)              </span>┃<span style=\"font-weight: bold\"> Output Shape           </span>┃<span style=\"font-weight: bold\">        Param # </span>┃<span style=\"font-weight: bold\"> Connected to           </span>┃\n",
              "┡━━━━━━━━━━━━━━━━━━━━━━━━━━━╇━━━━━━━━━━━━━━━━━━━━━━━━╇━━━━━━━━━━━━━━━━╇━━━━━━━━━━━━━━━━━━━━━━━━┩\n",
              "│ search_input (<span style=\"color: #0087ff; text-decoration-color: #0087ff\">InputLayer</span>) │ (<span style=\"color: #00d7ff; text-decoration-color: #00d7ff\">None</span>, <span style=\"color: #00af00; text-decoration-color: #00af00\">50</span>)             │              <span style=\"color: #00af00; text-decoration-color: #00af00\">0</span> │ -                      │\n",
              "├───────────────────────────┼────────────────────────┼────────────────┼────────────────────────┤\n",
              "│ title_input (<span style=\"color: #0087ff; text-decoration-color: #0087ff\">InputLayer</span>)  │ (<span style=\"color: #00d7ff; text-decoration-color: #00d7ff\">None</span>, <span style=\"color: #00af00; text-decoration-color: #00af00\">50</span>)             │              <span style=\"color: #00af00; text-decoration-color: #00af00\">0</span> │ -                      │\n",
              "├───────────────────────────┼────────────────────────┼────────────────┼────────────────────────┤\n",
              "│ word2vec_embedding        │ (<span style=\"color: #00d7ff; text-decoration-color: #00d7ff\">None</span>, <span style=\"color: #00af00; text-decoration-color: #00af00\">50</span>, <span style=\"color: #00af00; text-decoration-color: #00af00\">100</span>)        │      <span style=\"color: #00af00; text-decoration-color: #00af00\">1,605,300</span> │ search_input[<span style=\"color: #00af00; text-decoration-color: #00af00\">0</span>][<span style=\"color: #00af00; text-decoration-color: #00af00\">0</span>],    │\n",
              "│ (<span style=\"color: #0087ff; text-decoration-color: #0087ff\">Embedding</span>)               │                        │                │ title_input[<span style=\"color: #00af00; text-decoration-color: #00af00\">0</span>][<span style=\"color: #00af00; text-decoration-color: #00af00\">0</span>]      │\n",
              "├───────────────────────────┼────────────────────────┼────────────────┼────────────────────────┤\n",
              "│ shared_lstm (<span style=\"color: #0087ff; text-decoration-color: #0087ff\">LSTM</span>)        │ (<span style=\"color: #00d7ff; text-decoration-color: #00d7ff\">None</span>, <span style=\"color: #00af00; text-decoration-color: #00af00\">64</span>)             │         <span style=\"color: #00af00; text-decoration-color: #00af00\">42,240</span> │ word2vec_embedding[<span style=\"color: #00af00; text-decoration-color: #00af00\">0</span>]… │\n",
              "│                           │                        │                │ word2vec_embedding[<span style=\"color: #00af00; text-decoration-color: #00af00\">1</span>]… │\n",
              "├───────────────────────────┼────────────────────────┼────────────────┼────────────────────────┤\n",
              "│ dropout (<span style=\"color: #0087ff; text-decoration-color: #0087ff\">Dropout</span>)         │ (<span style=\"color: #00d7ff; text-decoration-color: #00d7ff\">None</span>, <span style=\"color: #00af00; text-decoration-color: #00af00\">64</span>)             │              <span style=\"color: #00af00; text-decoration-color: #00af00\">0</span> │ shared_lstm[<span style=\"color: #00af00; text-decoration-color: #00af00\">0</span>][<span style=\"color: #00af00; text-decoration-color: #00af00\">0</span>]      │\n",
              "├───────────────────────────┼────────────────────────┼────────────────┼────────────────────────┤\n",
              "│ dropout_1 (<span style=\"color: #0087ff; text-decoration-color: #0087ff\">Dropout</span>)       │ (<span style=\"color: #00d7ff; text-decoration-color: #00d7ff\">None</span>, <span style=\"color: #00af00; text-decoration-color: #00af00\">64</span>)             │              <span style=\"color: #00af00; text-decoration-color: #00af00\">0</span> │ shared_lstm[<span style=\"color: #00af00; text-decoration-color: #00af00\">1</span>][<span style=\"color: #00af00; text-decoration-color: #00af00\">0</span>]      │\n",
              "├───────────────────────────┼────────────────────────┼────────────────┼────────────────────────┤\n",
              "│ lambda_1 (<span style=\"color: #0087ff; text-decoration-color: #0087ff\">Lambda</span>)         │ (<span style=\"color: #00d7ff; text-decoration-color: #00d7ff\">None</span>, <span style=\"color: #00af00; text-decoration-color: #00af00\">64</span>)             │              <span style=\"color: #00af00; text-decoration-color: #00af00\">0</span> │ dropout[<span style=\"color: #00af00; text-decoration-color: #00af00\">0</span>][<span style=\"color: #00af00; text-decoration-color: #00af00\">0</span>],         │\n",
              "│                           │                        │                │ dropout_1[<span style=\"color: #00af00; text-decoration-color: #00af00\">0</span>][<span style=\"color: #00af00; text-decoration-color: #00af00\">0</span>]        │\n",
              "├───────────────────────────┼────────────────────────┼────────────────┼────────────────────────┤\n",
              "│ output_layer (<span style=\"color: #0087ff; text-decoration-color: #0087ff\">Dense</span>)      │ (<span style=\"color: #00d7ff; text-decoration-color: #00d7ff\">None</span>, <span style=\"color: #00af00; text-decoration-color: #00af00\">1</span>)              │             <span style=\"color: #00af00; text-decoration-color: #00af00\">65</span> │ lambda_1[<span style=\"color: #00af00; text-decoration-color: #00af00\">0</span>][<span style=\"color: #00af00; text-decoration-color: #00af00\">0</span>]         │\n",
              "└───────────────────────────┴────────────────────────┴────────────────┴────────────────────────┘\n",
              "</pre>\n"
            ]
          },
          "metadata": {}
        },
        {
          "output_type": "display_data",
          "data": {
            "text/plain": [
              "\u001b[1m Total params: \u001b[0m\u001b[38;5;34m1,647,605\u001b[0m (6.29 MB)\n"
            ],
            "text/html": [
              "<pre style=\"white-space:pre;overflow-x:auto;line-height:normal;font-family:Menlo,'DejaVu Sans Mono',consolas,'Courier New',monospace\"><span style=\"font-weight: bold\"> Total params: </span><span style=\"color: #00af00; text-decoration-color: #00af00\">1,647,605</span> (6.29 MB)\n",
              "</pre>\n"
            ]
          },
          "metadata": {}
        },
        {
          "output_type": "display_data",
          "data": {
            "text/plain": [
              "\u001b[1m Trainable params: \u001b[0m\u001b[38;5;34m1,647,605\u001b[0m (6.29 MB)\n"
            ],
            "text/html": [
              "<pre style=\"white-space:pre;overflow-x:auto;line-height:normal;font-family:Menlo,'DejaVu Sans Mono',consolas,'Courier New',monospace\"><span style=\"font-weight: bold\"> Trainable params: </span><span style=\"color: #00af00; text-decoration-color: #00af00\">1,647,605</span> (6.29 MB)\n",
              "</pre>\n"
            ]
          },
          "metadata": {}
        },
        {
          "output_type": "display_data",
          "data": {
            "text/plain": [
              "\u001b[1m Non-trainable params: \u001b[0m\u001b[38;5;34m0\u001b[0m (0.00 B)\n"
            ],
            "text/html": [
              "<pre style=\"white-space:pre;overflow-x:auto;line-height:normal;font-family:Menlo,'DejaVu Sans Mono',consolas,'Courier New',monospace\"><span style=\"font-weight: bold\"> Non-trainable params: </span><span style=\"color: #00af00; text-decoration-color: #00af00\">0</span> (0.00 B)\n",
              "</pre>\n"
            ]
          },
          "metadata": {}
        }
      ]
    },
    {
      "cell_type": "code",
      "source": [
        "train['relevance_normalized'] = train['relevance'] / train['relevance'].max()\n",
        "train_df, val_df = train_test_split(\n",
        "    train,\n",
        "    test_size=0.2,\n",
        "    random_state=42\n",
        ")\n",
        "\n",
        "print(f\"Train size: {len(train_df)}, Validation size: {len(val_df)}\")\n",
        "\n",
        "\n",
        "\n",
        "train_search = tf.convert_to_tensor(np.array(train_df['padded_search'].tolist()), dtype=tf.int32)\n",
        "train_title = tf.convert_to_tensor(np.array(train_df['padded_title'].tolist()), dtype=tf.int32)\n",
        "train_labels = tf.convert_to_tensor(np.array(train_df['relevance_normalized'].tolist()), dtype=tf.float32)\n",
        "\n",
        "\n",
        "val_search = tf.convert_to_tensor(np.array(val_df['padded_search'].tolist()), dtype=tf.int32)\n",
        "val_title = tf.convert_to_tensor(np.array(val_df['padded_title'].tolist()), dtype=tf.int32)\n",
        "val_labels = tf.convert_to_tensor(np.array(val_df['relevance_normalized'].tolist()), dtype=tf.float32)\n",
        "\n",
        "\n",
        "test_search = tf.convert_to_tensor(np.array(test['padded_search'].tolist()), dtype=tf.int32)\n",
        "test_title = tf.convert_to_tensor(np.array(test['padded_title'].tolist()), dtype=tf.int32)\n",
        "\n",
        "print(f\"train_search shape: {train_search.shape}, dtype: {train_search.dtype}\")\n",
        "print(f\"train_title shape: {train_title.shape}, dtype: {train_title.dtype}\")\n",
        "print(f\"train_labels shape: {train_labels.shape}, dtype: {train_labels.dtype}\")\n",
        "\n",
        "print(f\"val_search shape: {val_search.shape}, dtype: {val_search.dtype}\")\n",
        "print(f\"val_title shape: {val_title.shape}, dtype: {val_title.dtype}\")\n",
        "print(f\"val_labels shape: {val_labels.shape}, dtype: {val_labels.dtype}\")\n",
        "\n",
        "\n"
      ],
      "metadata": {
        "colab": {
          "base_uri": "https://localhost:8080/"
        },
        "id": "FfIQLv1olfjd",
        "outputId": "2cf029fd-68c2-4c40-c3ab-442fdd3ae1e6"
      },
      "execution_count": null,
      "outputs": [
        {
          "output_type": "stream",
          "name": "stdout",
          "text": [
            "Train size: 59253, Validation size: 14814\n",
            "train_search shape: (59253, 50), dtype: <dtype: 'int32'>\n",
            "train_title shape: (59253, 50), dtype: <dtype: 'int32'>\n",
            "train_labels shape: (59253,), dtype: <dtype: 'float32'>\n",
            "val_search shape: (14814, 50), dtype: <dtype: 'int32'>\n",
            "val_title shape: (14814, 50), dtype: <dtype: 'int32'>\n",
            "val_labels shape: (14814,), dtype: <dtype: 'float32'>\n"
          ]
        }
      ]
    },
    {
      "cell_type": "code",
      "source": [
        "history_word = siamese_model.fit(\n",
        "    [train_search, train_title],\n",
        "    train_labels,\n",
        "    validation_data=([val_search, val_title], val_labels),\n",
        "    epochs=10,\n",
        "    batch_size=32\n",
        ")"
      ],
      "metadata": {
        "colab": {
          "base_uri": "https://localhost:8080/"
        },
        "id": "jvNOSp12rIx5",
        "outputId": "18226ea9-f92c-4473-ef76-d00a86baba07"
      },
      "execution_count": null,
      "outputs": [
        {
          "output_type": "stream",
          "name": "stdout",
          "text": [
            "Epoch 1/10\n",
            "\u001b[1m1852/1852\u001b[0m \u001b[32m━━━━━━━━━━━━━━━━━━━━\u001b[0m\u001b[37m\u001b[0m \u001b[1m28s\u001b[0m 11ms/step - loss: 0.0378 - mae: 0.1586 - rmse: 0.1934 - val_loss: 0.0327 - val_mae: 0.1510 - val_rmse: 0.1807\n",
            "Epoch 2/10\n",
            "\u001b[1m1852/1852\u001b[0m \u001b[32m━━━━━━━━━━━━━━━━━━━━\u001b[0m\u001b[37m\u001b[0m \u001b[1m33s\u001b[0m 10ms/step - loss: 0.0280 - mae: 0.1365 - rmse: 0.1673 - val_loss: 0.0288 - val_mae: 0.1392 - val_rmse: 0.1697\n",
            "Epoch 3/10\n",
            "\u001b[1m1852/1852\u001b[0m \u001b[32m━━━━━━━━━━━━━━━━━━━━\u001b[0m\u001b[37m\u001b[0m \u001b[1m27s\u001b[0m 13ms/step - loss: 0.0247 - mae: 0.1265 - rmse: 0.1572 - val_loss: 0.0271 - val_mae: 0.1323 - val_rmse: 0.1645\n",
            "Epoch 4/10\n",
            "\u001b[1m1852/1852\u001b[0m \u001b[32m━━━━━━━━━━━━━━━━━━━━\u001b[0m\u001b[37m\u001b[0m \u001b[1m36s\u001b[0m 11ms/step - loss: 0.0227 - mae: 0.1206 - rmse: 0.1505 - val_loss: 0.0280 - val_mae: 0.1355 - val_rmse: 0.1673\n",
            "Epoch 5/10\n",
            "\u001b[1m1852/1852\u001b[0m \u001b[32m━━━━━━━━━━━━━━━━━━━━\u001b[0m\u001b[37m\u001b[0m \u001b[1m18s\u001b[0m 10ms/step - loss: 0.0214 - mae: 0.1170 - rmse: 0.1461 - val_loss: 0.0278 - val_mae: 0.1344 - val_rmse: 0.1667\n",
            "Epoch 6/10\n",
            "\u001b[1m1852/1852\u001b[0m \u001b[32m━━━━━━━━━━━━━━━━━━━━\u001b[0m\u001b[37m\u001b[0m \u001b[1m22s\u001b[0m 10ms/step - loss: 0.0203 - mae: 0.1137 - rmse: 0.1426 - val_loss: 0.0279 - val_mae: 0.1335 - val_rmse: 0.1669\n",
            "Epoch 7/10\n",
            "\u001b[1m1852/1852\u001b[0m \u001b[32m━━━━━━━━━━━━━━━━━━━━\u001b[0m\u001b[37m\u001b[0m \u001b[1m19s\u001b[0m 10ms/step - loss: 0.0195 - mae: 0.1111 - rmse: 0.1396 - val_loss: 0.0284 - val_mae: 0.1344 - val_rmse: 0.1685\n",
            "Epoch 8/10\n",
            "\u001b[1m1852/1852\u001b[0m \u001b[32m━━━━━━━━━━━━━━━━━━━━\u001b[0m\u001b[37m\u001b[0m \u001b[1m23s\u001b[0m 11ms/step - loss: 0.0189 - mae: 0.1092 - rmse: 0.1376 - val_loss: 0.0294 - val_mae: 0.1378 - val_rmse: 0.1716\n",
            "Epoch 9/10\n",
            "\u001b[1m1852/1852\u001b[0m \u001b[32m━━━━━━━━━━━━━━━━━━━━\u001b[0m\u001b[37m\u001b[0m \u001b[1m38s\u001b[0m 10ms/step - loss: 0.0184 - mae: 0.1071 - rmse: 0.1356 - val_loss: 0.0292 - val_mae: 0.1359 - val_rmse: 0.1707\n",
            "Epoch 10/10\n",
            "\u001b[1m1852/1852\u001b[0m \u001b[32m━━━━━━━━━━━━━━━━━━━━\u001b[0m\u001b[37m\u001b[0m \u001b[1m21s\u001b[0m 10ms/step - loss: 0.0176 - mae: 0.1051 - rmse: 0.1327 - val_loss: 0.0299 - val_mae: 0.1373 - val_rmse: 0.1730\n"
          ]
        }
      ]
    },
    {
      "cell_type": "code",
      "source": [
        "predictions = siamese_model.predict([test_search, test_title])\n",
        "predictions = pd.DataFrame(predictions)\n",
        "predictions\n",
        "\n",
        "solution = pd.read_csv(\"/content/solution.csv\")\n",
        "\n",
        "predictions['id'] = solution['id']\n",
        "predictions.rename(columns={0: 'relevance'}, inplace=True)\n",
        "predictions\n",
        "\n",
        "# Merge the DataFrames on 'id'\n",
        "merged_df = pd.merge(predictions, solution, on='id', suffixes=('_pred', '_true'))\n",
        "\n",
        "# Filter out rows where the true relevance is -1\n",
        "filtered_df = merged_df[merged_df['relevance_true'] != -1]\n",
        "\n",
        "# Extract the predicted and true relevance\n",
        "predicted_relevance = filtered_df['relevance_pred'].values\n",
        "true_relevance = filtered_df['relevance_true'].values\n",
        "\n",
        "# Calculate RMSE\n",
        "rmse = np.sqrt(mean_squared_error(true_relevance, predicted_relevance))\n",
        "\n",
        "print(f\"Root Mean Squared Error (RMSE): {rmse}\")\n",
        "\n",
        "\n",
        "# Predict on the test set\n",
        "test_predictions = siamese_model.predict([test_search, test_title])\n",
        "\n",
        "# Rescale predictions back to original relevance score range\n",
        "test_predictions = test_predictions * train['relevance'].max()\n",
        "\n",
        "print(test_predictions)\n",
        "\n",
        "\n",
        "\n",
        "test_predictions = pd.DataFrame(test_predictions)\n",
        "\n",
        "solution['prediction'] = test_predictions[0]\n",
        "\n",
        "# Filter out rows where the true relevance is -1\n",
        "filtered_df = solution[solution['relevance'] != -1]\n",
        "\n",
        "# Extract the predicted and true relevance\n",
        "predicted_relevance = filtered_df['prediction'].values\n",
        "true_relevance = filtered_df['relevance'].values\n",
        "\n",
        "# Calculate RMSE\n",
        "rmse = np.sqrt(mean_squared_error(true_relevance, predicted_relevance))\n",
        "\n",
        "print(f\"Root Mean Squared Error (RMSE): {rmse}\")"
      ],
      "metadata": {
        "colab": {
          "base_uri": "https://localhost:8080/"
        },
        "id": "gl61EwcirkyG",
        "outputId": "6a32a3fc-db2f-49d6-aede-21bbf37db5de"
      },
      "execution_count": null,
      "outputs": [
        {
          "output_type": "stream",
          "name": "stdout",
          "text": [
            "\u001b[1m5210/5210\u001b[0m \u001b[32m━━━━━━━━━━━━━━━━━━━━\u001b[0m\u001b[37m\u001b[0m \u001b[1m15s\u001b[0m 3ms/step\n",
            "Root Mean Squared Error (RMSE): 1.6955759881758143\n",
            "\u001b[1m5210/5210\u001b[0m \u001b[32m━━━━━━━━━━━━━━━━━━━━\u001b[0m\u001b[37m\u001b[0m \u001b[1m14s\u001b[0m 3ms/step\n",
            "[[2.4065478]\n",
            " [1.6972983]\n",
            " [2.3863158]\n",
            " ...\n",
            " [1.4705591]\n",
            " [1.8618526]\n",
            " [2.6163023]]\n",
            "Root Mean Squared Error (RMSE): 0.5982871491040194\n"
          ]
        }
      ]
    },
    {
      "cell_type": "code",
      "source": [
        "plot_training_history(history_word)"
      ],
      "metadata": {
        "colab": {
          "base_uri": "https://localhost:8080/",
          "height": 807
        },
        "id": "VxQG1_iJqvnm",
        "outputId": "b0c4318d-7dce-4b88-f8b9-6547ecb18fa6"
      },
      "execution_count": null,
      "outputs": [
        {
          "output_type": "display_data",
          "data": {
            "text/plain": [
              "<Figure size 1200x800 with 3 Axes>"
            ],
            "image/png": "[encoded data removed]"
          },
          "metadata": {}
        }
      ]
    },
    {
      "cell_type": "markdown",
      "source": [
        "#Extract features"
      ],
      "metadata": {
        "id": "RyD_xxoNOGai"
      }
    },
    {
      "cell_type": "code",
      "source": [
        "# Define function to extract features from the siamese model\n",
        "def extract_features(model, search_input, title_input, batch_size=64):\n",
        "    \"\"\"\n",
        "    Extract features using the shared LSTM outputs of the Siamese model.\n",
        "\n",
        "    :param model: Pretrained Siamese model.\n",
        "    :param search_input: Input data for the search queries.\n",
        "    :param title_input: Input data for the product titles.\n",
        "    :param batch_size: Batch size for prediction.\n",
        "    :return: Numpy array of extracted features.\n",
        "    \"\"\"\n",
        "    # Create a sub-model for feature extraction\n",
        "    feature_model = tf.keras.Model(\n",
        "        inputs=model.inputs,\n",
        "        outputs=model.get_layer(\"shared_lstm\").output  # Extract shared LSTM output\n",
        "    )\n",
        "    # Extract features using the shared LSTM layer\n",
        "    features = feature_model.predict([search_input, title_input], batch_size=batch_size)\n",
        "    return features\n",
        "\n",
        "# Extract features from train, validation, and test datasets\n",
        "train_features = extract_features(siamese_model, train_search, train_title)\n",
        "val_features = extract_features(siamese_model, val_search, val_title)  # For validation\n",
        "test_features = extract_features(siamese_model, test_search, test_title)\n",
        "\n",
        "# Flatten the LSTM output to feed into classical ML models\n",
        "train_features = train_features.reshape(train_features.shape[0], -1)\n",
        "val_features = val_features.reshape(val_features.shape[0], -1)  # For validation\n",
        "test_features = test_features.reshape(test_features.shape[0], -1)\n",
        "\n",
        "# Prepare labels\n",
        "train_labels = train_labels  # Replace 'relevance' with your target column\n",
        "val_labels = val_labels  # For validation\n",
        "test_labels = solution['relevance']  # Replace 'relevance' with your target column\n",
        "\n",
        "# Print shapes to verify\n",
        "print(f\"Train features shape: {train_features.shape}\")\n",
        "print(f\"Validation features shape: {val_features.shape}\")\n",
        "print(f\"Test features shape: {test_features.shape}\")\n"
      ],
      "metadata": {
        "id": "CEz9zXjTOaEK",
        "colab": {
          "base_uri": "https://localhost:8080/"
        },
        "outputId": "4ee62691-396b-4d63-e49e-688c5324654f"
      },
      "execution_count": null,
      "outputs": [
        {
          "output_type": "stream",
          "name": "stdout",
          "text": [
            "\u001b[1m926/926\u001b[0m \u001b[32m━━━━━━━━━━━━━━━━━━━━\u001b[0m\u001b[37m\u001b[0m \u001b[1m2s\u001b[0m 2ms/step\n",
            "\u001b[1m232/232\u001b[0m \u001b[32m━━━━━━━━━━━━━━━━━━━━\u001b[0m\u001b[37m\u001b[0m \u001b[1m1s\u001b[0m 2ms/step\n",
            "\u001b[1m2605/2605\u001b[0m \u001b[32m━━━━━━━━━━━━━━━━━━━━\u001b[0m\u001b[37m\u001b[0m \u001b[1m5s\u001b[0m 2ms/step\n",
            "Train features shape: (59253, 64)\n",
            "Validation features shape: (14814, 64)\n",
            "Test features shape: (166693, 64)\n"
          ]
        }
      ]
    },
    {
      "cell_type": "markdown",
      "source": [
        "## Model 1 Linear Regression"
      ],
      "metadata": {
        "id": "ikQKPbTQOP6j"
      }
    },
    {
      "cell_type": "code",
      "source": [
        "lr_model = LinearRegression()\n",
        "lr_model.fit(train_features, train_labels)\n",
        "\n",
        "# Predict and evaluate\n",
        "lr_train_predictions = lr_model.predict(train_features)\n",
        "lr_test_predictions = lr_model.predict(test_features)\n",
        "train_labels_np = train_labels.numpy()\n",
        "lr_train_rmse = mean_squared_error(train_labels_np, lr_train_predictions)\n",
        "lr_test_rmse = mean_squared_error(test_labels, lr_test_predictions)\n",
        "\n",
        "print(f\"Linear Regression - Train RMSE: {lr_train_rmse}, Test RMSE: {lr_test_rmse}\")"
      ],
      "metadata": {
        "id": "IwwhrDhXOLjr",
        "colab": {
          "base_uri": "https://localhost:8080/"
        },
        "outputId": "b8e746eb-9cfb-44a5-9a69-57b3e2c6fb6f"
      },
      "execution_count": null,
      "outputs": [
        {
          "output_type": "stream",
          "name": "stdout",
          "text": [
            "Linear Regression - Train RMSE: 0.021758602932095528, Test RMSE: 2.9745967280711922\n"
          ]
        }
      ]
    },
    {
      "cell_type": "markdown",
      "source": [
        "# Model 2 Random Forest Regressor"
      ],
      "metadata": {
        "id": "JOAXIvIuOTnz"
      }
    },
    {
      "cell_type": "code",
      "source": [
        "rf_model = RandomForestRegressor(n_estimators=100, random_state=42)\n",
        "rf_model.fit(train_features, train_labels)\n",
        "\n",
        "# Predict and evaluate\n",
        "rf_train_predictions = rf_model.predict(train_features)\n",
        "rf_test_predictions = rf_model.predict(test_features)\n",
        "\n",
        "train_labels_np = train_labels.numpy()\n",
        "\n",
        "rf_train_rmse = mean_squared_error(train_labels_np, rf_train_predictions)\n",
        "rf_test_rmse = mean_squared_error(test_labels, rf_test_predictions)\n",
        "\n",
        "print(f\"Random Forest - Train RMSE: {rf_train_rmse}, Test RMSE: {rf_test_rmse}\")\n",
        "\n",
        "# Compare R^2 scores\n",
        "lr_r2 = r2_score(test_labels, lr_test_predictions)\n",
        "rf_r2 = r2_score(test_labels, rf_test_predictions)\n",
        "\n",
        "print(f\"Linear Regression R^2: {lr_r2}\")\n",
        "print(f\"Random Forest R^2: {rf_r2}\")"
      ],
      "metadata": {
        "id": "giHcaW2EOcAf"
      },
      "execution_count": null,
      "outputs": []
    },
    {
      "cell_type": "markdown",
      "source": [
        "#D"
      ],
      "metadata": {
        "id": "ZSRPw1ufNDkj"
      }
    },
    {
      "cell_type": "markdown",
      "source": [
        "# We chose bert"
      ],
      "metadata": {
        "id": "WsVYB8y3NEjQ"
      }
    },
    {
      "cell_type": "code",
      "source": [
        "# Load pre-trained BERT and tokenizer\n",
        "bert_model_name = \"bert-base-uncased\"\n",
        "bert_model = TFBertModel.from_pretrained(bert_model_name)\n",
        "tokenizer = BertTokenizer.from_pretrained(bert_model_name)\n",
        "\n",
        "# Define input shapes\n",
        "input_length = 50  # Example input length (ensure padding/truncation for this length)\n",
        "\n",
        "# Define input layers\n",
        "search_input_ids = Input(shape=(input_length,), dtype=tf.int32, name=\"search_input_ids\")\n",
        "title_input_ids = Input(shape=(input_length,), dtype=tf.int32, name=\"title_input_ids\")\n",
        "\n",
        "# Use BERT to extract embeddings\n",
        "def extract_bert_embedding(input_ids):\n",
        "    bert_output = bert_model(input_ids)\n",
        "    return bert_output.last_hidden_state[:, 0, :]  # CLS token representation\n"
      ],
      "metadata": {
        "colab": {
          "base_uri": "https://localhost:8080/",
          "height": 388,
          "referenced_widgets": [
            "af2e1a208dac4d359a96bea57c54c2c1",
            "e90744a8ab994574a83d48a2eef4cabf",
            "2889c56547134b248c6527cd5311c653",
            "35ad9659754d4a02a50476727bbc6c1c",
            "a767891cd86e482eac00b3b07e9670a4",
            "548ee29f5ab340f7acf6da48bc3a1a9a",
            "acb295c0b4cd498b89cdb44585f87253",
            "60f328a31cb54cb292d0bdcba12991ee",
            "1e35af8abe554046a3cad9b9b48d86b0",
            "801ab7f33b474350a5d15347a2d910cc",
            "520e4dd20e704b5891ba3bf54084a5d7",
            "3b755100c71043eda8c809d8f181259a",
            "5adebcbfa0354aeca888dfabef8e6ed2",
            "b375d7a052a3400d8970e9cec313b0da",
            "5347d3b32f264679b012ded4356d5887",
            "02af77b5adb0486d9ea2de1427c3030e",
            "cec18b3ac7604503ae41bc0846936d90",
            "1ed1781bf3714592a794b74d6745974a",
            "27baae916132417e948f7a41aeb4eb44",
            "a55577f467b246febd20c8823ebb3f72",
            "a0ccfd9c01ae4d8a88d7add0ea029f35",
            "44558ff33dd84b159ae96c26e03b68d4",
            "1f8d6a073b234504bd4bef864d3fb719",
            "27d060c1efc2439283842d519f5a470d",
            "1fc925ed4ae041d1b823d6f46e8cbacc",
            "0af073599107425db4b568da61189082",
            "5812e7b928024f80b4f7c25eee793e2d",
            "bb2d09d2e60f4848b0dab9efd2fbad8d",
            "c9d628c022b744c79eef82142909371d",
            "49d02de8598d495298f4c0f8efe54395",
            "50ed1e675b2c42fd9e8be9e93ff538b2",
            "cea9202ade97485cbd766f8a36a20492",
            "fa077ee8532a4b2e8afd260d2106936b",
            "f93f9e1ecb1546cebba0f6e70f8ceae7",
            "fdfbe62234654bda9c83da144ef76269",
            "42758ad9abde400190ba07ffd39d038c",
            "3d5b7c8a7dd24927b58ba45cd5c03d25",
            "190de02106bd4868af366e651eb936b0",
            "72971d25f0ab420984b0e328608697d5",
            "79c19cf92680436ca916dc87ca45a433",
            "fb534586ffc34c6297217e67992c51df",
            "f6911ff8a0444b05b32889ebbda92d61",
            "b08f37b20236404ab5ce226ed6eb5bdc",
            "f96fe9b5295e45ad9f953c74193944ac",
            "55710baa65e24b05a743e352639648fb",
            "5e7c488a8ec2422fa8fdc76e90da3e24",
            "d1beee343ef049d99a94b27b7d75eb12",
            "578fc4b059ae4ef7b7c58e2280ea3377",
            "d751fda4f125416a8910ca5ab130b18d",
            "fb6185118e21456d9ee21e2db8009287",
            "99e561ffa3034acfb2db1e14a95d55d3",
            "09c6566f3ea641a3b1a24a98dc113227",
            "aae9727b0d104ea29e418163e90e563e",
            "d5fa674366f54c9eaefc96b8b35acc96",
            "5b1c945d99bc4874a6cf27214c8fb04e"
          ]
        },
        "id": "bXOTdnQgNHUY",
        "outputId": "bcf8a189-2e18-4a9e-9f07-109b1342f5f8"
      },
      "execution_count": null,
      "outputs": [
        {
          "output_type": "stream",
          "name": "stderr",
          "text": [
            "/usr/local/lib/python3.11/dist-packages/huggingface_hub/utils/_auth.py:94: UserWarning: \n",
            "The secret `HF_TOKEN` does not exist in your Colab secrets.\n",
            "To authenticate with the Hugging Face Hub, create a token in your settings tab (https://huggingface.co/settings/tokens), set it as secret in your Google Colab and restart your session.\n",
            "You will be able to reuse this secret in all of your notebooks.\n",
            "Please note that authentication is recommended but still optional to access public models or datasets.\n",
            "  warnings.warn(\n"
          ]
        },
        {
          "output_type": "display_data",
          "data": {
            "text/plain": [
              "config.json:   0%|          | 0.00/570 [00:00<?, ?B/s]"
            ],
            "application/vnd.jupyter.widget-view+json": {
              "version_major": 2,
              "version_minor": 0,
              "model_id": "af2e1a208dac4d359a96bea57c54c2c1"
            }
          },
          "metadata": {}
        },
        {
          "output_type": "display_data",
          "data": {
            "text/plain": [
              "model.safetensors:   0%|          | 0.00/440M [00:00<?, ?B/s]"
            ],
            "application/vnd.jupyter.widget-view+json": {
              "version_major": 2,
              "version_minor": 0,
              "model_id": "3b755100c71043eda8c809d8f181259a"
            }
          },
          "metadata": {}
        },
        {
          "output_type": "stream",
          "name": "stderr",
          "text": [
            "Some weights of the PyTorch model were not used when initializing the TF 2.0 model TFBertModel: ['cls.predictions.transform.dense.weight', 'cls.predictions.transform.dense.bias', 'cls.predictions.bias', 'cls.seq_relationship.weight', 'cls.predictions.transform.LayerNorm.bias', 'cls.predictions.transform.LayerNorm.weight', 'cls.seq_relationship.bias']\n",
            "- This IS expected if you are initializing TFBertModel from a PyTorch model trained on another task or with another architecture (e.g. initializing a TFBertForSequenceClassification model from a BertForPreTraining model).\n",
            "- This IS NOT expected if you are initializing TFBertModel from a PyTorch model that you expect to be exactly identical (e.g. initializing a TFBertForSequenceClassification model from a BertForSequenceClassification model).\n",
            "All the weights of TFBertModel were initialized from the PyTorch model.\n",
            "If your task is similar to the task the model of the checkpoint was trained on, you can already use TFBertModel for predictions without further training.\n"
          ]
        },
        {
          "output_type": "display_data",
          "data": {
            "text/plain": [
              "tokenizer_config.json:   0%|          | 0.00/48.0 [00:00<?, ?B/s]"
            ],
            "application/vnd.jupyter.widget-view+json": {
              "version_major": 2,
              "version_minor": 0,
              "model_id": "1f8d6a073b234504bd4bef864d3fb719"
            }
          },
          "metadata": {}
        },
        {
          "output_type": "display_data",
          "data": {
            "text/plain": [
              "vocab.txt:   0%|          | 0.00/232k [00:00<?, ?B/s]"
            ],
            "application/vnd.jupyter.widget-view+json": {
              "version_major": 2,
              "version_minor": 0,
              "model_id": "f93f9e1ecb1546cebba0f6e70f8ceae7"
            }
          },
          "metadata": {}
        },
        {
          "output_type": "display_data",
          "data": {
            "text/plain": [
              "tokenizer.json:   0%|          | 0.00/466k [00:00<?, ?B/s]"
            ],
            "application/vnd.jupyter.widget-view+json": {
              "version_major": 2,
              "version_minor": 0,
              "model_id": "55710baa65e24b05a743e352639648fb"
            }
          },
          "metadata": {}
        }
      ]
    },
    {
      "cell_type": "code",
      "source": [
        "# Define Lambda layers for BERT embeddings\n",
        "\n",
        "bert_embedding1 = Lambda(\n",
        "    extract_bert_embedding,\n",
        "    output_shape=(bert_model.config.hidden_size,),  # Hidden size of BERT\n",
        "    name=\"bert_embedding1\"\n",
        ")(search_input_ids)\n",
        "\n",
        "bert_embedding2 = Lambda(\n",
        "    extract_bert_embedding,\n",
        "    output_shape=(bert_model.config.hidden_size,),  # Hidden size of BERT\n",
        "    name=\"bert_embedding2\"\n",
        ")(title_input_ids)\n",
        "\n",
        "# Compute absolute difference between embeddings\n",
        "embedding_difference = Lambda(lambda tensors: tf.abs(tensors[0] - tensors[1]), name=\"lambda_2\")(\n",
        "    [bert_embedding1, bert_embedding2]\n",
        ")\n",
        "\n",
        "# Add dense layers\n",
        "dense_1 = Dense(64, activation=\"relu\", name=\"dense_2\")(embedding_difference)\n",
        "dense_2 = Dense(32, activation=\"relu\", name=\"dense_3\")(dense_1)\n",
        "output = Dense(1, activation=\"sigmoid\", name=\"output_layer\")(dense_2)\n",
        "\n",
        "# Build the model\n",
        "siamese_bert_model = Model(inputs=[search_input_ids, title_input_ids], outputs=output)\n",
        "\n",
        "# Compile the model\n",
        "siamese_bert_model.compile(optimizer=tf.keras.optimizers.Adam(learning_rate=0.001), loss='mse', metrics=['mae',tf.keras.metrics.RootMeanSquaredError(name='rmse') ])\n",
        "\n",
        "# Model summary\n",
        "siamese_bert_model.summary()\n",
        "\n",
        "# Tokenize and preprocess data\n",
        "def preprocess_texts(texts, max_length):\n",
        "    \"\"\"\n",
        "    Preprocess a list of texts for BERT tokenizer.\n",
        "    Ensures all texts are strings and handles empty or non-string values.\n",
        "\n",
        "    :param texts: List of input texts.\n",
        "    :param max_length: Maximum sequence length for tokenizer.\n",
        "    :return: Tokenized input IDs.\n",
        "    \"\"\"\n",
        "    clean_texts = [str(text) if isinstance(text, str) else \"\" for text in texts]\n",
        "\n",
        "    return tokenizer(\n",
        "        clean_texts,\n",
        "        padding=\"max_length\",\n",
        "        truncation=True,\n",
        "        max_length=max_length,\n",
        "        return_tensors=\"tf\"\n",
        "    )[\"input_ids\"]\n",
        "\n",
        "# Example usage\n",
        "train_df, val_df = train_test_split(\n",
        "    train,\n",
        "    test_size=0.2,\n",
        "    random_state=42\n",
        ")\n",
        "search_texts = preprocess_texts(train_df['search_term'], input_length)\n",
        "title_texts = preprocess_texts(train_df['product_title'], input_length)\n",
        "labels_train = train_df['relevance_normalized']\n",
        "\n",
        "val_search_texts = preprocess_texts(val_df['search_term'], input_length)\n",
        "val_title_texts = preprocess_texts(val_df['product_title'], input_length)\n",
        "labels_val = val_df['relevance_normalized']\n",
        "\n",
        "\n",
        "# Train the model (example; replace with your data)\n",
        "history_bert_word=siamese_bert_model.fit(\n",
        "    [search_texts, title_texts],\n",
        "    labels_train,validation_data = ([val_search_texts, val_title_texts],labels_val),\n",
        "    epochs=5,\n",
        "    batch_size=32\n",
        ")"
      ],
      "metadata": {
        "colab": {
          "base_uri": "https://localhost:8080/",
          "height": 496
        },
        "id": "Kbfm_ceevrMI",
        "outputId": "f346ad55-a3d2-42cb-a0c2-23f23250f592"
      },
      "execution_count": null,
      "outputs": [
        {
          "output_type": "display_data",
          "data": {
            "text/plain": [
              "\u001b[1mModel: \"functional_2\"\u001b[0m\n"
            ],
            "text/html": [
              "<pre style=\"white-space:pre;overflow-x:auto;line-height:normal;font-family:Menlo,'DejaVu Sans Mono',consolas,'Courier New',monospace\"><span style=\"font-weight: bold\">Model: \"functional_2\"</span>\n",
              "</pre>\n"
            ]
          },
          "metadata": {}
        },
        {
          "output_type": "display_data",
          "data": {
            "text/plain": [
              "┏━━━━━━━━━━━━━━━━━━━━━━━━━━━┳━━━━━━━━━━━━━━━━━━━━━━━━┳━━━━━━━━━━━━━━━━┳━━━━━━━━━━━━━━━━━━━━━━━━┓\n",
              "┃\u001b[1m \u001b[0m\u001b[1mLayer (type)             \u001b[0m\u001b[1m \u001b[0m┃\u001b[1m \u001b[0m\u001b[1mOutput Shape          \u001b[0m\u001b[1m \u001b[0m┃\u001b[1m \u001b[0m\u001b[1m       Param #\u001b[0m\u001b[1m \u001b[0m┃\u001b[1m \u001b[0m\u001b[1mConnected to          \u001b[0m\u001b[1m \u001b[0m┃\n",
              "┡━━━━━━━━━━━━━━━━━━━━━━━━━━━╇━━━━━━━━━━━━━━━━━━━━━━━━╇━━━━━━━━━━━━━━━━╇━━━━━━━━━━━━━━━━━━━━━━━━┩\n",
              "│ search_input_ids          │ (\u001b[38;5;45mNone\u001b[0m, \u001b[38;5;34m50\u001b[0m)             │              \u001b[38;5;34m0\u001b[0m │ -                      │\n",
              "│ (\u001b[38;5;33mInputLayer\u001b[0m)              │                        │                │                        │\n",
              "├───────────────────────────┼────────────────────────┼────────────────┼────────────────────────┤\n",
              "│ title_input_ids           │ (\u001b[38;5;45mNone\u001b[0m, \u001b[38;5;34m50\u001b[0m)             │              \u001b[38;5;34m0\u001b[0m │ -                      │\n",
              "│ (\u001b[38;5;33mInputLayer\u001b[0m)              │                        │                │                        │\n",
              "├───────────────────────────┼────────────────────────┼────────────────┼────────────────────────┤\n",
              "│ bert_embedding1 (\u001b[38;5;33mLambda\u001b[0m)  │ (\u001b[38;5;45mNone\u001b[0m, \u001b[38;5;34m768\u001b[0m)            │              \u001b[38;5;34m0\u001b[0m │ search_input_ids[\u001b[38;5;34m0\u001b[0m][\u001b[38;5;34m0\u001b[0m] │\n",
              "├───────────────────────────┼────────────────────────┼────────────────┼────────────────────────┤\n",
              "│ bert_embedding2 (\u001b[38;5;33mLambda\u001b[0m)  │ (\u001b[38;5;45mNone\u001b[0m, \u001b[38;5;34m768\u001b[0m)            │              \u001b[38;5;34m0\u001b[0m │ title_input_ids[\u001b[38;5;34m0\u001b[0m][\u001b[38;5;34m0\u001b[0m]  │\n",
              "├───────────────────────────┼────────────────────────┼────────────────┼────────────────────────┤\n",
              "│ lambda_2 (\u001b[38;5;33mLambda\u001b[0m)         │ (\u001b[38;5;45mNone\u001b[0m, \u001b[38;5;34m768\u001b[0m)            │              \u001b[38;5;34m0\u001b[0m │ bert_embedding1[\u001b[38;5;34m0\u001b[0m][\u001b[38;5;34m0\u001b[0m], │\n",
              "│                           │                        │                │ bert_embedding2[\u001b[38;5;34m0\u001b[0m][\u001b[38;5;34m0\u001b[0m]  │\n",
              "├───────────────────────────┼────────────────────────┼────────────────┼────────────────────────┤\n",
              "│ dense_2 (\u001b[38;5;33mDense\u001b[0m)           │ (\u001b[38;5;45mNone\u001b[0m, \u001b[38;5;34m64\u001b[0m)             │         \u001b[38;5;34m49,216\u001b[0m │ lambda_2[\u001b[38;5;34m0\u001b[0m][\u001b[38;5;34m0\u001b[0m]         │\n",
              "├───────────────────────────┼────────────────────────┼────────────────┼────────────────────────┤\n",
              "│ dense_3 (\u001b[38;5;33mDense\u001b[0m)           │ (\u001b[38;5;45mNone\u001b[0m, \u001b[38;5;34m32\u001b[0m)             │          \u001b[38;5;34m2,080\u001b[0m │ dense_2[\u001b[38;5;34m0\u001b[0m][\u001b[38;5;34m0\u001b[0m]          │\n",
              "├───────────────────────────┼────────────────────────┼────────────────┼────────────────────────┤\n",
              "│ output_layer (\u001b[38;5;33mDense\u001b[0m)      │ (\u001b[38;5;45mNone\u001b[0m, \u001b[38;5;34m1\u001b[0m)              │             \u001b[38;5;34m33\u001b[0m │ dense_3[\u001b[38;5;34m0\u001b[0m][\u001b[38;5;34m0\u001b[0m]          │\n",
              "└───────────────────────────┴────────────────────────┴────────────────┴────────────────────────┘\n"
            ],
            "text/html": [
              "<pre style=\"white-space:pre;overflow-x:auto;line-height:normal;font-family:Menlo,'DejaVu Sans Mono',consolas,'Courier New',monospace\">┏━━━━━━━━━━━━━━━━━━━━━━━━━━━┳━━━━━━━━━━━━━━━━━━━━━━━━┳━━━━━━━━━━━━━━━━┳━━━━━━━━━━━━━━━━━━━━━━━━┓\n",
              "┃<span style=\"font-weight: bold\"> Layer (type)              </span>┃<span style=\"font-weight: bold\"> Output Shape           </span>┃<span style=\"font-weight: bold\">        Param # </span>┃<span style=\"font-weight: bold\"> Connected to           </span>┃\n",
              "┡━━━━━━━━━━━━━━━━━━━━━━━━━━━╇━━━━━━━━━━━━━━━━━━━━━━━━╇━━━━━━━━━━━━━━━━╇━━━━━━━━━━━━━━━━━━━━━━━━┩\n",
              "│ search_input_ids          │ (<span style=\"color: #00d7ff; text-decoration-color: #00d7ff\">None</span>, <span style=\"color: #00af00; text-decoration-color: #00af00\">50</span>)             │              <span style=\"color: #00af00; text-decoration-color: #00af00\">0</span> │ -                      │\n",
              "│ (<span style=\"color: #0087ff; text-decoration-color: #0087ff\">InputLayer</span>)              │                        │                │                        │\n",
              "├───────────────────────────┼────────────────────────┼────────────────┼────────────────────────┤\n",
              "│ title_input_ids           │ (<span style=\"color: #00d7ff; text-decoration-color: #00d7ff\">None</span>, <span style=\"color: #00af00; text-decoration-color: #00af00\">50</span>)             │              <span style=\"color: #00af00; text-decoration-color: #00af00\">0</span> │ -                      │\n",
              "│ (<span style=\"color: #0087ff; text-decoration-color: #0087ff\">InputLayer</span>)              │                        │                │                        │\n",
              "├───────────────────────────┼────────────────────────┼────────────────┼────────────────────────┤\n",
              "│ bert_embedding1 (<span style=\"color: #0087ff; text-decoration-color: #0087ff\">Lambda</span>)  │ (<span style=\"color: #00d7ff; text-decoration-color: #00d7ff\">None</span>, <span style=\"color: #00af00; text-decoration-color: #00af00\">768</span>)            │              <span style=\"color: #00af00; text-decoration-color: #00af00\">0</span> │ search_input_ids[<span style=\"color: #00af00; text-decoration-color: #00af00\">0</span>][<span style=\"color: #00af00; text-decoration-color: #00af00\">0</span>] │\n",
              "├───────────────────────────┼────────────────────────┼────────────────┼────────────────────────┤\n",
              "│ bert_embedding2 (<span style=\"color: #0087ff; text-decoration-color: #0087ff\">Lambda</span>)  │ (<span style=\"color: #00d7ff; text-decoration-color: #00d7ff\">None</span>, <span style=\"color: #00af00; text-decoration-color: #00af00\">768</span>)            │              <span style=\"color: #00af00; text-decoration-color: #00af00\">0</span> │ title_input_ids[<span style=\"color: #00af00; text-decoration-color: #00af00\">0</span>][<span style=\"color: #00af00; text-decoration-color: #00af00\">0</span>]  │\n",
              "├───────────────────────────┼────────────────────────┼────────────────┼────────────────────────┤\n",
              "│ lambda_2 (<span style=\"color: #0087ff; text-decoration-color: #0087ff\">Lambda</span>)         │ (<span style=\"color: #00d7ff; text-decoration-color: #00d7ff\">None</span>, <span style=\"color: #00af00; text-decoration-color: #00af00\">768</span>)            │              <span style=\"color: #00af00; text-decoration-color: #00af00\">0</span> │ bert_embedding1[<span style=\"color: #00af00; text-decoration-color: #00af00\">0</span>][<span style=\"color: #00af00; text-decoration-color: #00af00\">0</span>], │\n",
              "│                           │                        │                │ bert_embedding2[<span style=\"color: #00af00; text-decoration-color: #00af00\">0</span>][<span style=\"color: #00af00; text-decoration-color: #00af00\">0</span>]  │\n",
              "├───────────────────────────┼────────────────────────┼────────────────┼────────────────────────┤\n",
              "│ dense_2 (<span style=\"color: #0087ff; text-decoration-color: #0087ff\">Dense</span>)           │ (<span style=\"color: #00d7ff; text-decoration-color: #00d7ff\">None</span>, <span style=\"color: #00af00; text-decoration-color: #00af00\">64</span>)             │         <span style=\"color: #00af00; text-decoration-color: #00af00\">49,216</span> │ lambda_2[<span style=\"color: #00af00; text-decoration-color: #00af00\">0</span>][<span style=\"color: #00af00; text-decoration-color: #00af00\">0</span>]         │\n",
              "├───────────────────────────┼────────────────────────┼────────────────┼────────────────────────┤\n",
              "│ dense_3 (<span style=\"color: #0087ff; text-decoration-color: #0087ff\">Dense</span>)           │ (<span style=\"color: #00d7ff; text-decoration-color: #00d7ff\">None</span>, <span style=\"color: #00af00; text-decoration-color: #00af00\">32</span>)             │          <span style=\"color: #00af00; text-decoration-color: #00af00\">2,080</span> │ dense_2[<span style=\"color: #00af00; text-decoration-color: #00af00\">0</span>][<span style=\"color: #00af00; text-decoration-color: #00af00\">0</span>]          │\n",
              "├───────────────────────────┼────────────────────────┼────────────────┼────────────────────────┤\n",
              "│ output_layer (<span style=\"color: #0087ff; text-decoration-color: #0087ff\">Dense</span>)      │ (<span style=\"color: #00d7ff; text-decoration-color: #00d7ff\">None</span>, <span style=\"color: #00af00; text-decoration-color: #00af00\">1</span>)              │             <span style=\"color: #00af00; text-decoration-color: #00af00\">33</span> │ dense_3[<span style=\"color: #00af00; text-decoration-color: #00af00\">0</span>][<span style=\"color: #00af00; text-decoration-color: #00af00\">0</span>]          │\n",
              "└───────────────────────────┴────────────────────────┴────────────────┴────────────────────────┘\n",
              "</pre>\n"
            ]
          },
          "metadata": {}
        },
        {
          "output_type": "display_data",
          "data": {
            "text/plain": [
              "\u001b[1m Total params: \u001b[0m\u001b[38;5;34m51,329\u001b[0m (200.50 KB)\n"
            ],
            "text/html": [
              "<pre style=\"white-space:pre;overflow-x:auto;line-height:normal;font-family:Menlo,'DejaVu Sans Mono',consolas,'Courier New',monospace\"><span style=\"font-weight: bold\"> Total params: </span><span style=\"color: #00af00; text-decoration-color: #00af00\">51,329</span> (200.50 KB)\n",
              "</pre>\n"
            ]
          },
          "metadata": {}
        },
        {
          "output_type": "display_data",
          "data": {
            "text/plain": [
              "\u001b[1m Trainable params: \u001b[0m\u001b[38;5;34m51,329\u001b[0m (200.50 KB)\n"
            ],
            "text/html": [
              "<pre style=\"white-space:pre;overflow-x:auto;line-height:normal;font-family:Menlo,'DejaVu Sans Mono',consolas,'Courier New',monospace\"><span style=\"font-weight: bold\"> Trainable params: </span><span style=\"color: #00af00; text-decoration-color: #00af00\">51,329</span> (200.50 KB)\n",
              "</pre>\n"
            ]
          },
          "metadata": {}
        },
        {
          "output_type": "display_data",
          "data": {
            "text/plain": [
              "\u001b[1m Non-trainable params: \u001b[0m\u001b[38;5;34m0\u001b[0m (0.00 B)\n"
            ],
            "text/html": [
              "<pre style=\"white-space:pre;overflow-x:auto;line-height:normal;font-family:Menlo,'DejaVu Sans Mono',consolas,'Courier New',monospace\"><span style=\"font-weight: bold\"> Non-trainable params: </span><span style=\"color: #00af00; text-decoration-color: #00af00\">0</span> (0.00 B)\n",
              "</pre>\n"
            ]
          },
          "metadata": {}
        },
        {
          "output_type": "stream",
          "name": "stdout",
          "text": [
            "\u001b[1m1852/1852\u001b[0m \u001b[32m━━━━━━━━━━━━━━━━━━━━\u001b[0m\u001b[37m\u001b[0m \u001b[1m490s\u001b[0m 244ms/step - loss: 0.0338 - mae: 0.1507 - rmse: 0.1838 - val_loss: 0.0308 - val_mae: 0.1444 - val_rmse: 0.1755\n"
          ]
        }
      ]
    },
    {
      "cell_type": "code",
      "source": [
        "predictions = siamese_bert_model.predict([test_search, test_title])\n",
        "predictions = pd.DataFrame(predictions)\n",
        "predictions\n",
        "\n",
        "solution = pd.read_csv(\"/content/solution.csv\")\n",
        "\n",
        "predictions['id'] = solution['id']\n",
        "predictions.rename(columns={0: 'relevance'}, inplace=True)\n",
        "predictions\n",
        "\n",
        "# Merge the DataFrames on 'id'\n",
        "merged_df = pd.merge(predictions, solution, on='id', suffixes=('_pred', '_true'))\n",
        "\n",
        "# Filter out rows where the true relevance is -1\n",
        "filtered_df = merged_df[merged_df['relevance_true'] != -1]\n",
        "\n",
        "# Extract the predicted and true relevance\n",
        "predicted_relevance = filtered_df['relevance_pred'].values\n",
        "true_relevance = filtered_df['relevance_true'].values\n",
        "\n",
        "# Calculate RMSE\n",
        "rmse = np.sqrt(mean_squared_error(true_relevance, predicted_relevance))\n",
        "\n",
        "print(f\"Root Mean Squared Error (RMSE): {rmse}\")\n",
        "\n",
        "\n",
        "# Predict on the test set\n",
        "test_predictions = siamese_bert_model.predict([test_search, test_title])\n",
        "\n",
        "# Rescale predictions back to original relevance score range\n",
        "test_predictions = test_predictions * train['relevance'].max()\n",
        "\n",
        "print(test_predictions)\n",
        "\n",
        "\n",
        "\n",
        "test_predictions = pd.DataFrame(test_predictions)\n",
        "\n",
        "solution['prediction'] = test_predictions[0]\n",
        "\n",
        "# Filter out rows where the true relevance is -1\n",
        "filtered_df = solution[solution['relevance'] != -1]\n",
        "\n",
        "# Extract the predicted and true relevance\n",
        "predicted_relevance = filtered_df['prediction'].values\n",
        "true_relevance = filtered_df['relevance'].values\n",
        "\n",
        "# Calculate RMSE\n",
        "rmse = np.sqrt(mean_squared_error(true_relevance, predicted_relevance))\n",
        "\n",
        "print(f\"Root Mean Squared Error (RMSE): {rmse}\")"
      ],
      "metadata": {
        "id": "9i5ybxv_w_g2",
        "colab": {
          "base_uri": "https://localhost:8080/"
        },
        "outputId": "75bb24fc-7578-4681-9f0d-5ee7de87266b"
      },
      "execution_count": null,
      "outputs": [
        {
          "output_type": "stream",
          "name": "stdout",
          "text": [
            "\u001b[1m5210/5210\u001b[0m \u001b[32m━━━━━━━━━━━━━━━━━━━━\u001b[0m\u001b[37m\u001b[0m \u001b[1m845s\u001b[0m 160ms/step\n",
            "Root Mean Squared Error (RMSE): 1.7541038122532517\n",
            "\u001b[1m5210/5210\u001b[0m \u001b[32m━━━━━━━━━━━━━━━━━━━━\u001b[0m\u001b[37m\u001b[0m \u001b[1m816s\u001b[0m 157ms/step\n",
            "[[2.232119 ]\n",
            " [2.1898065]\n",
            " [2.0759878]\n",
            " ...\n",
            " [2.139224 ]\n",
            " [2.0875278]\n",
            " [2.1675067]]\n",
            "Root Mean Squared Error (RMSE): 0.5927240575356181\n"
          ]
        }
      ]
    },
    {
      "cell_type": "code",
      "source": [
        "plot_training_history(history_bert_word)\n"
      ],
      "metadata": {
        "id": "LFgF_lH1xSk_",
        "colab": {
          "base_uri": "https://localhost:8080/",
          "height": 622
        },
        "outputId": "7b07e644-5a1c-42f7-87e7-386ed5707c08"
      },
      "execution_count": null,
      "outputs": [
        {
          "output_type": "display_data",
          "data": {
            "text/plain": [
              "<Figure size 1200x800 with 3 Axes>"
            ],
            "image/png": "[encoded data removed]"
          },
          "metadata": {}
        }
      ]
    }
  ]
}